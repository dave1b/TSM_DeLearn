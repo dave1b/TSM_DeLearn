{
 "cells": [
  {
   "metadata": {},
   "cell_type": "markdown",
   "source": [
    "# G27\n",
    "Dave Brunner"
   ]
  },
  {
   "metadata": {
    "ExecuteTime": {
     "end_time": "2024-05-02T15:52:00.552995Z",
     "start_time": "2024-05-02T15:52:00.549122Z"
    }
   },
   "cell_type": "code",
   "source": [
    "import glob\n",
    "import os\n",
    "import torch\n",
    "import string\n",
    "\n",
    "import numpy as np\n",
    "import pandas as pd\n",
    "from torchinfo import summary \n",
    "\n",
    "from matplotlib import pyplot as plt\n",
    "import matplotlib.ticker as ticker\n",
    "\n",
    "from sklearn.metrics import confusion_matrix"
   ],
   "outputs": [],
   "execution_count": 23
  },
  {
   "cell_type": "markdown",
   "metadata": {},
   "source": [
    "### Load Data\n",
    "\n",
    "The names can be found in text files in a src directory, one file per language.\n",
    "\n",
    "In the following you can find some utilities to load the data into pandas data frames. \n",
    "\n",
    "We will restrict to some common European languages. \n",
    "\n",
    "With the given selection, we will identify all the occurring characters and initialize an alphabet.<br>\n",
    "For this alphabet, we will use a one-hot-encoding to map them into a vector space representation. \n",
    "\n",
    "Foresee a suitable character for the end of the word, e.g. 'END'."
   ]
  },
  {
   "cell_type": "code",
   "metadata": {
    "ExecuteTime": {
     "end_time": "2024-05-02T15:52:00.579264Z",
     "start_time": "2024-05-02T15:52:00.577623Z"
    }
   },
   "source": [
    "srcdir = 'data/names'\n",
    "languages = [\"English\", \"French\", \"Italian\", \"German\", \"Spanish\"]"
   ],
   "outputs": [],
   "execution_count": 24
  },
  {
   "cell_type": "code",
   "metadata": {
    "ExecuteTime": {
     "end_time": "2024-05-02T15:52:00.600395Z",
     "start_time": "2024-05-02T15:52:00.598414Z"
    }
   },
   "source": [
    "# inspect the data directory\n",
    "def findFiles(path):\n",
    "    return glob.glob(path)"
   ],
   "outputs": [],
   "execution_count": 25
  },
  {
   "cell_type": "code",
   "metadata": {
    "ExecuteTime": {
     "end_time": "2024-05-02T15:52:00.604261Z",
     "start_time": "2024-05-02T15:52:00.601932Z"
    }
   },
   "source": "print('\\n'.join(findFiles(os.path.join(srcdir, '*.txt'))))",
   "outputs": [
    {
     "name": "stdout",
     "output_type": "stream",
     "text": [
      "data/names/Czech.txt\n",
      "data/names/German.txt\n",
      "data/names/Arabic.txt\n",
      "data/names/Japanese.txt\n",
      "data/names/Chinese.txt\n",
      "data/names/Vietnamese.txt\n",
      "data/names/Russian.txt\n",
      "data/names/French.txt\n",
      "data/names/Irish.txt\n",
      "data/names/English.txt\n",
      "data/names/Spanish.txt\n",
      "data/names/Greek.txt\n",
      "data/names/Italian.txt\n",
      "data/names/Portuguese.txt\n",
      "data/names/Scottish.txt\n",
      "data/names/Dutch.txt\n",
      "data/names/Korean.txt\n",
      "data/names/Polish.txt\n"
     ]
    }
   ],
   "execution_count": 26
  },
  {
   "cell_type": "code",
   "metadata": {
    "ExecuteTime": {
     "end_time": "2024-05-02T15:52:00.613202Z",
     "start_time": "2024-05-02T15:52:00.610448Z"
    }
   },
   "source": [
    "# Read a file and split into lines\n",
    "def readLines(filename):\n",
    "    lines = open(filename, encoding='utf-8').read().strip().split('\\n')\n",
    "    return lines\n",
    "\n",
    "\n",
    "def load_data(srcdir, categories=None):\n",
    "    names_list = []\n",
    "    for filename in findFiles(os.path.join(srcdir, '*.txt')):\n",
    "        category = os.path.splitext(os.path.basename(filename))[0]\n",
    "        if not categories or category in categories:\n",
    "            names = readLines(filename)\n",
    "            names_list.extend([(name, category) for name in names])\n",
    "    df = pd.DataFrame(names_list)\n",
    "    df.columns = [\"name\", \"lang\"]\n",
    "    return df"
   ],
   "outputs": [],
   "execution_count": 27
  },
  {
   "cell_type": "code",
   "metadata": {
    "ExecuteTime": {
     "end_time": "2024-05-02T15:52:00.622579Z",
     "start_time": "2024-05-02T15:52:00.613938Z"
    }
   },
   "source": [
    "names = load_data(srcdir, categories=languages)\n",
    "names.head()"
   ],
   "outputs": [
    {
     "data": {
      "text/plain": [
       "       name    lang\n",
       "0    Abbing  German\n",
       "1      Abel  German\n",
       "2     Abeln  German\n",
       "3       Abt  German\n",
       "4  Achilles  German"
      ],
      "text/html": [
       "<div>\n",
       "<style scoped>\n",
       "    .dataframe tbody tr th:only-of-type {\n",
       "        vertical-align: middle;\n",
       "    }\n",
       "\n",
       "    .dataframe tbody tr th {\n",
       "        vertical-align: top;\n",
       "    }\n",
       "\n",
       "    .dataframe thead th {\n",
       "        text-align: right;\n",
       "    }\n",
       "</style>\n",
       "<table border=\"1\" class=\"dataframe\">\n",
       "  <thead>\n",
       "    <tr style=\"text-align: right;\">\n",
       "      <th></th>\n",
       "      <th>name</th>\n",
       "      <th>lang</th>\n",
       "    </tr>\n",
       "  </thead>\n",
       "  <tbody>\n",
       "    <tr>\n",
       "      <th>0</th>\n",
       "      <td>Abbing</td>\n",
       "      <td>German</td>\n",
       "    </tr>\n",
       "    <tr>\n",
       "      <th>1</th>\n",
       "      <td>Abel</td>\n",
       "      <td>German</td>\n",
       "    </tr>\n",
       "    <tr>\n",
       "      <th>2</th>\n",
       "      <td>Abeln</td>\n",
       "      <td>German</td>\n",
       "    </tr>\n",
       "    <tr>\n",
       "      <th>3</th>\n",
       "      <td>Abt</td>\n",
       "      <td>German</td>\n",
       "    </tr>\n",
       "    <tr>\n",
       "      <th>4</th>\n",
       "      <td>Achilles</td>\n",
       "      <td>German</td>\n",
       "    </tr>\n",
       "  </tbody>\n",
       "</table>\n",
       "</div>"
      ]
     },
     "execution_count": 28,
     "metadata": {},
     "output_type": "execute_result"
    }
   ],
   "execution_count": 28
  },
  {
   "cell_type": "code",
   "metadata": {
    "ExecuteTime": {
     "end_time": "2024-05-02T15:52:00.625923Z",
     "start_time": "2024-05-02T15:52:00.623437Z"
    }
   },
   "source": [
    "maxlen = np.max([len(name) for name in names.name])\n",
    "print(\"Maximum name length: \", maxlen)"
   ],
   "outputs": [
    {
     "name": "stdout",
     "output_type": "stream",
     "text": [
      "Maximum name length:  18\n"
     ]
    }
   ],
   "execution_count": 29
  },
  {
   "metadata": {
    "ExecuteTime": {
     "end_time": "2024-05-02T15:52:00.628222Z",
     "start_time": "2024-05-02T15:52:00.626654Z"
    }
   },
   "cell_type": "code",
   "source": "print(f'There are {len(names)} names in the dataset')",
   "outputs": [
    {
     "name": "stdout",
     "output_type": "stream",
     "text": [
      "There are 5676 names in the dataset\n"
     ]
    }
   ],
   "execution_count": 30
  },
  {
   "cell_type": "code",
   "metadata": {
    "ExecuteTime": {
     "end_time": "2024-05-02T15:52:00.638704Z",
     "start_time": "2024-05-02T15:52:00.636254Z"
    }
   },
   "source": [
    "alphabet = sorted(list(set(''.join([name for name in names.name]))))\n",
    "alphabet.append('END')\n",
    "len_alphabet = len(alphabet)\n",
    "char_index = dict((c, i) for i, c in enumerate(alphabet))\n",
    "print(\"Size of alphabet: \", len_alphabet)\n",
    "print(alphabet)"
   ],
   "outputs": [
    {
     "name": "stdout",
     "output_type": "stream",
     "text": [
      "Size of alphabet:  74\n",
      "[' ', \"'\", 'A', 'B', 'C', 'D', 'E', 'F', 'G', 'H', 'I', 'J', 'K', 'L', 'M', 'N', 'O', 'P', 'Q', 'R', 'S', 'T', 'U', 'V', 'W', 'X', 'Y', 'Z', 'a', 'b', 'c', 'd', 'e', 'f', 'g', 'h', 'i', 'j', 'k', 'l', 'm', 'n', 'o', 'p', 'q', 'r', 's', 't', 'u', 'v', 'w', 'x', 'y', 'z', 'Á', 'É', 'ß', 'à', 'á', 'ä', 'ç', 'è', 'é', 'ê', 'ì', 'í', 'ñ', 'ò', 'ó', 'ö', 'ù', 'ú', 'ü', 'END']\n"
     ]
    }
   ],
   "execution_count": 31
  },
  {
   "cell_type": "code",
   "metadata": {
    "ExecuteTime": {
     "end_time": "2024-05-02T15:52:00.643778Z",
     "start_time": "2024-05-02T15:52:00.639600Z"
    }
   },
   "source": "names.groupby('lang')['name'].count() / len(names)",
   "outputs": [
    {
     "data": {
      "text/plain": [
       "lang\n",
       "English    0.646230\n",
       "French     0.048802\n",
       "German     0.127555\n",
       "Italian    0.124912\n",
       "Spanish    0.052502\n",
       "Name: name, dtype: float64"
      ]
     },
     "execution_count": 32,
     "metadata": {},
     "output_type": "execute_result"
    }
   ],
   "execution_count": 32
  },
  {
   "cell_type": "markdown",
   "metadata": {},
   "source": [
    "### Vector Representations\n",
    "\n",
    "Now construct the vector representation by using one-hot-vectors. "
   ]
  },
  {
   "cell_type": "code",
   "metadata": {
    "ExecuteTime": {
     "end_time": "2024-05-02T15:52:00.666117Z",
     "start_time": "2024-05-02T15:52:00.663061Z"
    }
   },
   "source": [
    "language_to_index = {country: index for index, country in enumerate(names.lang.unique())}\n",
    "index_to_language = {index: country for index, country in enumerate(names.lang.unique())}\n",
    "\n",
    "\n",
    "def onehot(i, length):\n",
    "    v = np.zeros(length);\n",
    "    v[i] = 1\n",
    "    return v\n",
    "\n",
    "\n",
    "def name_representation(name, maxlen):\n",
    "    name_trunc = str(name)[0:maxlen]\n",
    "    size = len(char_index)\n",
    "    vector = [onehot(char_index[j], size) for j in str(name)]\n",
    "    # fill the rest with \n",
    "    for k in range(0, maxlen - len(str(name))):\n",
    "        vector.append(onehot(char_index['END'], size))\n",
    "    return vector\n",
    "\n",
    "\n",
    "def lang_representation(language, language_to_index):\n",
    "    y = np.zeros(len(language_to_index))\n",
    "    y[language_to_index[language]] = 1\n",
    "    return y\n",
    "\n",
    "\n",
    "def lang_from_output(score):\n",
    "    return index_to_language[np.argmax(score)]\n",
    "\n",
    "\n",
    "def predict(name, model):\n",
    "    score = model.predict(np.array([name_representation(name, maxlen)]))[0]\n",
    "    return lang_from_output(score)"
   ],
   "outputs": [],
   "execution_count": 33
  },
  {
   "cell_type": "markdown",
   "metadata": {},
   "source": [
    "### Prepare train/test\n",
    "\n",
    "Split the data into train/test\n",
    "\n",
    "Shuffle the data\n",
    "\n",
    "Transform the names data into a suitable vector respresentation:\n",
    "* names into numpy arrays of shape (*,maxlen,len_alphabet)\n",
    "* language into numpy array of shape (*,len(languages))\n",
    "\n"
   ]
  },
  {
   "cell_type": "code",
   "metadata": {
    "ExecuteTime": {
     "end_time": "2024-05-02T15:52:00.674452Z",
     "start_time": "2024-05-02T15:52:00.672653Z"
    }
   },
   "source": [
    "test_split = 0.2\n",
    "\n",
    "# Shuffle and split names data\n",
    "# names = names.sample(frac=1).reset_index(drop=True)\n",
    "# print(names.head())\n",
    "\n",
    "train = names[int(len(names) * test_split):]\n",
    "test = names[:int(len(names) * test_split)]"
   ],
   "outputs": [],
   "execution_count": 34
  },
  {
   "cell_type": "code",
   "metadata": {
    "ExecuteTime": {
     "end_time": "2024-05-02T15:52:00.746143Z",
     "start_time": "2024-05-02T15:52:00.683507Z"
    }
   },
   "source": [
    "# Map train and test data into vector space (one-hot-vectors)\n",
    "X_train = np.array([name_representation(name, maxlen) for name in train.name])\n",
    "Y_train = np.array([lang_representation(lang, language_to_index) for lang in train.lang])\n",
    "\n",
    "X_test = np.array([name_representation(name, maxlen) for name in test.name])\n",
    "Y_test = np.array([lang_representation(lang, language_to_index) for lang in test.lang])"
   ],
   "outputs": [],
   "execution_count": 35
  },
  {
   "metadata": {
    "ExecuteTime": {
     "end_time": "2024-05-02T15:52:00.749277Z",
     "start_time": "2024-05-02T15:52:00.747260Z"
    }
   },
   "cell_type": "code",
   "source": [
    "print(X_train.shape)\n",
    "print(X_test.shape)\n",
    "print(X_train[0].shape)"
   ],
   "outputs": [
    {
     "name": "stdout",
     "output_type": "stream",
     "text": [
      "(4541, 18, 74)\n",
      "(1135, 18, 74)\n",
      "(18, 74)\n"
     ]
    }
   ],
   "execution_count": 36
  },
  {
   "cell_type": "markdown",
   "metadata": {},
   "source": [
    "Possibly, pack the data into a Dataset (e.g. when working with in PyTorch)"
   ]
  },
  {
   "metadata": {
    "ExecuteTime": {
     "end_time": "2024-05-02T15:52:00.757237Z",
     "start_time": "2024-05-02T15:52:00.749779Z"
    }
   },
   "cell_type": "code",
   "source": [
    "# convert from numpy to torch tensors\n",
    "X_train = torch.tensor(X_train, dtype=torch.float32, requires_grad=True)\n",
    "Y_train = torch.tensor(Y_train, dtype=torch.float32, requires_grad=True)\n",
    "train_dataset = torch.utils.data.TensorDataset(X_train, Y_train)\n",
    "\n",
    "X_test = torch.tensor(X_test, dtype=torch.float32, requires_grad=True)\n",
    "Y_test = torch.tensor(Y_test, dtype=torch.float32, requires_grad=True)\n",
    "test_dataset = torch.utils.data.TensorDataset(X_test, Y_test)"
   ],
   "outputs": [],
   "execution_count": 37
  },
  {
   "metadata": {
    "ExecuteTime": {
     "end_time": "2024-05-02T15:52:00.763684Z",
     "start_time": "2024-05-02T15:52:00.759297Z"
    }
   },
   "cell_type": "code",
   "source": [
    "print(X_train[0])\n",
    "lang_from_output(X_train[0].detach().numpy())\n",
    "print(Y_train[0])"
   ],
   "outputs": [
    {
     "name": "stdout",
     "output_type": "stream",
     "text": [
      "tensor([[0., 0., 1.,  ..., 0., 0., 0.],\n",
      "        [0., 0., 0.,  ..., 0., 0., 0.],\n",
      "        [0., 0., 0.,  ..., 0., 0., 0.],\n",
      "        ...,\n",
      "        [0., 0., 0.,  ..., 0., 0., 1.],\n",
      "        [0., 0., 0.,  ..., 0., 0., 1.],\n",
      "        [0., 0., 0.,  ..., 0., 0., 1.]], grad_fn=<SelectBackward0>)\n",
      "tensor([0., 0., 1., 0., 0.], grad_fn=<SelectBackward0>)\n"
     ]
    }
   ],
   "execution_count": 38
  },
  {
   "metadata": {
    "ExecuteTime": {
     "end_time": "2024-05-02T15:52:00.769575Z",
     "start_time": "2024-05-02T15:52:00.764787Z"
    }
   },
   "cell_type": "code",
   "source": [
    "batch_size = 128\n",
    "\n",
    "train_loader = torch.utils.data.DataLoader(dataset=train_dataset,\n",
    "                                           batch_size=batch_size,\n",
    "                                           shuffle=True)\n",
    "\n",
    "test_loader = torch.utils.data.DataLoader(dataset=test_dataset,\n",
    "                                          batch_size=batch_size,\n",
    "                                          shuffle=False)"
   ],
   "outputs": [],
   "execution_count": 39
  },
  {
   "cell_type": "markdown",
   "metadata": {},
   "source": [
    "### Define and Train Model: Single Layer with SimpleRNN\n",
    "\n",
    "Create an RNN consisting of a single layer with a SimpleRNN and a softmax.\n",
    "\n",
    "Then train the model. Play with different number of hidden units in the layer to obtain a good accuracy."
   ]
  },
  {
   "cell_type": "code",
   "metadata": {
    "tags": [],
    "ExecuteTime": {
     "end_time": "2024-05-02T15:52:00.778503Z",
     "start_time": "2024-05-02T15:52:00.770403Z"
    }
   },
   "source": [
    "from torch import nn\n",
    "\n",
    "input_size = len_alphabet\n",
    "hidden_size = 32\n",
    "output_size = len(languages)\n",
    "\n",
    "\n",
    "class ElmanRNN(nn.Module):\n",
    "    def __init__(self, input_size, hidden_size, output_size, num_layers=1, batch_first=True):\n",
    "        super(ElmanRNN, self).__init__()\n",
    "        self.hidden_size = hidden_size\n",
    "        self.num_layers = num_layers\n",
    "        self.rnn = nn.RNN(input_size=input_size, hidden_size=hidden_size, num_layers=num_layers,\n",
    "                          batch_first=batch_first)\n",
    "        self.fc = nn.Linear(hidden_size, output_size)\n",
    "        self.activation = nn.ReLU()\n",
    "\n",
    "    def forward(self, x):\n",
    "        out, hn = self.rnn(x)\n",
    "        return self.activation(self.fc(out[:, -1, :]))\n",
    "\n",
    "\n",
    "model = ElmanRNN(input_size, hidden_size, output_size)\n",
    "summary(model, input_size=(batch_size, maxlen, len_alphabet))"
   ],
   "outputs": [
    {
     "data": {
      "text/plain": [
       "==========================================================================================\n",
       "Layer (type:depth-idx)                   Output Shape              Param #\n",
       "==========================================================================================\n",
       "ElmanRNN                                 [128, 5]                  --\n",
       "├─RNN: 1-1                               [128, 18, 32]             3,456\n",
       "├─Linear: 1-2                            [128, 5]                  165\n",
       "├─ReLU: 1-3                              [128, 5]                  --\n",
       "==========================================================================================\n",
       "Total params: 3,621\n",
       "Trainable params: 3,621\n",
       "Non-trainable params: 0\n",
       "Total mult-adds (Units.MEGABYTES): 7.98\n",
       "==========================================================================================\n",
       "Input size (MB): 0.68\n",
       "Forward/backward pass size (MB): 0.59\n",
       "Params size (MB): 0.01\n",
       "Estimated Total Size (MB): 1.29\n",
       "=========================================================================================="
      ]
     },
     "execution_count": 40,
     "metadata": {},
     "output_type": "execute_result"
    }
   ],
   "execution_count": 40
  },
  {
   "cell_type": "code",
   "metadata": {
    "ExecuteTime": {
     "end_time": "2024-05-02T15:53:09.235642Z",
     "start_time": "2024-05-02T15:52:00.779235Z"
    }
   },
   "source": [
    "batch_size = 128\n",
    "n_epochs = 10\n",
    "learning_rate = 0.001\n",
    "model = ElmanRNN(input_size, hidden_size, output_size)\n",
    "\n",
    "criterion = nn.CrossEntropyLoss()\n",
    "optimizer = torch.optim.Adam(model.parameters(), lr=learning_rate)\n",
    "\n",
    "model.train()\n",
    "\n",
    "for epoch in range(n_epochs):\n",
    "    correct = 0\n",
    "    total = 0\n",
    "    for i, (names, labels) in enumerate(train_loader):\n",
    "        \n",
    "        optimizer.zero_grad()\n",
    "\n",
    "        outputs = model(names)\n",
    "        loss = criterion(outputs, labels)\n",
    "        loss.backward()\n",
    "        nn.utils.clip_grad_norm_(model.parameters(), 1.0)\n",
    "        optimizer.step()\n",
    "\n",
    "        # Get predictions from the maximum value\n",
    "        _, predicted = torch.max(outputs.data, 1)\n",
    "        labels = torch.max(labels, 1)[1]\n",
    "\n",
    "        # Total number of labels\n",
    "        total += labels.size(0)\n",
    "\n",
    "        # Total correct predictions\n",
    "        correct += (predicted == labels).sum()\n",
    "\n",
    "    accuracy = 100 * correct / total\n",
    "    print(\n",
    "        f\"Epoch [{epoch + 1}/{n_epochs}], \"\n",
    "        f\"Loss: {loss.item():.4f}, \"\n",
    "        f\"Accuracy: {accuracy :.4f}\"\n",
    "    )"
   ],
   "outputs": [
    {
     "name": "stdout",
     "output_type": "stream",
     "text": [
      "Epoch [1/10], Loss: 0.7960, Accuracy: 77.8243\n",
      "Epoch [2/10], Loss: 0.9035, Accuracy: 77.8243\n",
      "Epoch [3/10], Loss: 0.7709, Accuracy: 77.8243\n",
      "Epoch [4/10], Loss: 0.9004, Accuracy: 77.8243\n",
      "Epoch [5/10], Loss: 0.9441, Accuracy: 77.8243\n",
      "Epoch [6/10], Loss: 0.6414, Accuracy: 77.8243\n",
      "Epoch [7/10], Loss: 0.7276, Accuracy: 77.8243\n",
      "Epoch [8/10], Loss: 0.9863, Accuracy: 77.8243\n",
      "Epoch [9/10], Loss: 0.9009, Accuracy: 77.8243\n",
      "Epoch [10/10], Loss: 0.8146, Accuracy: 77.8243\n"
     ]
    }
   ],
   "execution_count": 41
  },
  {
   "cell_type": "markdown",
   "metadata": {
    "tags": []
   },
   "source": [
    "#### Findings"
   ]
  },
  {
   "cell_type": "markdown",
   "metadata": {},
   "source": [
    "..."
   ]
  },
  {
   "cell_type": "markdown",
   "metadata": {},
   "source": [
    "### Implement Model with several SimpleRNN Layers"
   ]
  },
  {
   "cell_type": "code",
   "metadata": {
    "tags": [],
    "ExecuteTime": {
     "end_time": "2024-05-02T15:53:09.238013Z",
     "start_time": "2024-05-02T15:53:09.236544Z"
    }
   },
   "source": [
    "### START YOUR CODE\n",
    "\n",
    "model = ...\n",
    "\n",
    "### END YOUR CODE"
   ],
   "outputs": [],
   "execution_count": 42
  },
  {
   "cell_type": "code",
   "metadata": {
    "ExecuteTime": {
     "end_time": "2024-05-02T15:53:09.240224Z",
     "start_time": "2024-05-02T15:53:09.238649Z"
    }
   },
   "source": [
    "### START YOUR CODE\n",
    "\n",
    "# train...\n",
    "\n",
    "### END YOUR CODE"
   ],
   "outputs": [],
   "execution_count": 43
  },
  {
   "cell_type": "markdown",
   "metadata": {},
   "source": [
    "#### Findings\n",
    "\n",
    "...\n"
   ]
  },
  {
   "cell_type": "markdown",
   "metadata": {},
   "source": [
    "### Class Imbalance Handling\n",
    "\n",
    "Choose a method to address the class imbalance seen in the given example.\n",
    "- minority resampling \n",
    "- class weights in the loss\n",
    "\n",
    "Implement it and incorporate it in the training.\n",
    "Evaluate the results and compare it with the results obtained with the unbalanced training.  "
   ]
  },
  {
   "cell_type": "code",
   "metadata": {
    "ExecuteTime": {
     "end_time": "2024-05-02T15:53:09.243789Z",
     "start_time": "2024-05-02T15:53:09.242366Z"
    }
   },
   "source": [
    "### START YOUR CODE\n",
    "\n",
    "# train...\n",
    "\n",
    "### END YOUR CODE"
   ],
   "outputs": [],
   "execution_count": 44
  }
 ],
 "metadata": {
  "kernelspec": {
   "display_name": "Python 3 (ipykernel)",
   "language": "python",
   "name": "python3"
  },
  "language_info": {
   "codemirror_mode": {
    "name": "ipython",
    "version": 3
   },
   "file_extension": ".py",
   "mimetype": "text/x-python",
   "name": "python",
   "nbconvert_exporter": "python",
   "pygments_lexer": "ipython3",
   "version": "3.10.9"
  }
 },
 "nbformat": 4,
 "nbformat_minor": 4
}
