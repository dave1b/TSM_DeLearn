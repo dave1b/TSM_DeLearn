{
 "cells": [
  {
   "cell_type": "code",
   "execution_count": 1,
   "id": "07ec37d7-f7cb-4646-a2dd-9dab66239a30",
   "metadata": {},
   "outputs": [],
   "source": [
    "import torch\n",
    "from torch.utils.data import DataLoader\n",
    "from torchvision import datasets\n",
    "from torchvision.transforms import ToTensor\n",
    "from torchsummary import summary\n",
    "import numpy as np\n",
    "import matplotlib.pyplot as plt"
   ]
  },
  {
   "cell_type": "markdown",
   "id": "e2d8a986-1cb2-483b-9bd8-0f71d69fa9e8",
   "metadata": {},
   "source": [
    "### Loading Data"
   ]
  },
  {
   "cell_type": "code",
   "execution_count": 3,
   "id": "4ba6b0c6-3f55-40dd-ba32-6f6aad8f1437",
   "metadata": {},
   "outputs": [],
   "source": [
    "training_data = datasets.mnist.FashionMNIST(root=\"data\", train=True, download=True, transform=ToTensor())\n",
    "test_data = datasets.mnist.FashionMNIST(root=\"data\", train=False, download=True, transform=ToTensor())"
   ]
  },
  {
   "cell_type": "code",
   "execution_count": 4,
   "id": "5c2da4ed-af9a-4fc7-b59f-135b51241d2f",
   "metadata": {
    "tags": []
   },
   "outputs": [],
   "source": [
    "training_data, validation_data = torch.utils.data.random_split(training_data, [50000, 10000])"
   ]
  },
  {
   "cell_type": "code",
   "execution_count": 5,
   "id": "22b30c81-d89f-4947-aa09-ab8c70dd262c",
   "metadata": {},
   "outputs": [
    {
     "name": "stdout",
     "output_type": "stream",
     "text": [
      "50000 10000 10000\n"
     ]
    }
   ],
   "source": [
    "print(len(training_data),len(validation_data),len(test_data))"
   ]
  },
  {
   "cell_type": "markdown",
   "id": "375ff404-5b8a-4f63-9730-d6708d2ac8d1",
   "metadata": {},
   "source": [
    "### CNN Baseline Model\n",
    "Model with two CNN layers (including max pooling), one dense and an output classification layer, with suitable number of filters and units, respectively."
   ]
  },
  {
   "cell_type": "code",
   "execution_count": 6,
   "id": "b61b15df-a84b-483d-9365-d8f66390b8bb",
   "metadata": {},
   "outputs": [],
   "source": [
    "def cnn_model():\n",
    "    \"\"\"\n",
    "    Model with two CNN layers, one dense and an output classification layer, with suitable number of filters and units, respectively.\n",
    "    :return:\n",
    "    \"\"\"\n",
    "    ### YOUR CODE HERE\n",
    "\n",
    "\n",
    "    ### YOUR CODE HERE\n",
    "    return None"
   ]
  },
  {
   "cell_type": "code",
   "execution_count": 7,
   "id": "d4bfd0a4-999c-4690-9ef3-b5ee1ab26c30",
   "metadata": {
    "tags": []
   },
   "outputs": [
    {
     "name": "stdout",
     "output_type": "stream",
     "text": [
      "----------------------------------------------------------------\n",
      "        Layer (type)               Output Shape         Param #\n",
      "================================================================\n",
      "           Flatten-1                  [-1, 784]               0\n",
      "            Linear-2                  [-1, 250]         196,250\n",
      "           Sigmoid-3                  [-1, 250]               0\n",
      "            Linear-4                   [-1, 80]          20,080\n",
      "           Sigmoid-5                   [-1, 80]               0\n",
      "            Linear-6                   [-1, 10]             810\n",
      "================================================================\n",
      "Total params: 217,140\n",
      "Trainable params: 217,140\n",
      "Non-trainable params: 0\n",
      "----------------------------------------------------------------\n",
      "Input size (MB): 0.00\n",
      "Forward/backward pass size (MB): 0.01\n",
      "Params size (MB): 0.83\n",
      "Estimated Total Size (MB): 0.84\n",
      "----------------------------------------------------------------\n"
     ]
    }
   ],
   "source": [
    "model = cnn_model()\n",
    "from torchsummary import summary\n",
    "summary(model, (1,28,28))"
   ]
  },
  {
   "cell_type": "markdown",
   "id": "c3fa393a-9f99-48f4-996d-cf8d2a3b8cd5",
   "metadata": {},
   "source": [
    "### Training\n",
    "\n",
    "Implement the training / evaluation loop\n",
    "Remember training / validation cost and accuracy per epoch and return them as list."
   ]
  },
  {
   "cell_type": "code",
   "execution_count": 7,
   "id": "172c91d1-4c9e-413a-bfff-01f51a1e323a",
   "metadata": {
    "tags": []
   },
   "outputs": [],
   "source": [
    "def train_eval(model, optimizer, nepochs, training_loader, test_loader, scheduler=None):\n",
    "    \"\"\"\n",
    "    Perform training and evaluation loop.\n",
    "    :param model: Model to be trained\n",
    "    :param optimizer: Optimiser to use for training\n",
    "    :param nepochs: Number of epochs\n",
    "    :param training_loader: Loader to provide mini-batches of training samples\n",
    "    :param test_loader: Loader to provide mini-batches of validation samples\n",
    "    :param scheduler: Scheduler used for a learning rate schedule\n",
    "    :return: Lists with training and validation cost and accuracy per epoch.\n",
    "    \"\"\"\n",
    "    cost_hist = []\n",
    "    cost_hist_test = []\n",
    "    acc_hist = []\n",
    "    acc_hist_test = []\n",
    "\n",
    "    cost_ce = torch.nn.CrossEntropyLoss()\n",
    "        \n",
    "    for epoch in range(nepochs):\n",
    "\n",
    "        ### YOUR CODE HERE ###\n",
    "\n",
    "        print(\"Epoch %i: %f, %f, %f, %f\"%(epoch, cost, acc, cost_test, acc_test))\n",
    "        cost_hist.append(cost)\n",
    "        cost_hist_test.append(cost_test)\n",
    "        acc_hist.append(acc)\n",
    "        acc_hist_test.append(acc_test)\n",
    "    return cost_hist, cost_hist_test, acc_hist, acc_hist_test"
   ]
  },
  {
   "cell_type": "markdown",
   "id": "bacd328c",
   "metadata": {},
   "source": [
    "### Train Baseline CNN Model\n",
    "\n",
    "Follow the \"Steps to Test and Tune a Model\" as presented in the lecture.\n",
    "\n",
    "Train the baseline with SGD without momentum and fixed learning rate. Tune the learning rate by this procedure.\n",
    "\n",
    "Determine a suitable number of epochs."
   ]
  },
  {
   "cell_type": "code",
   "execution_count": null,
   "id": "3d9717ac",
   "metadata": {
    "collapsed": false,
    "jupyter": {
     "outputs_hidden": false
    }
   },
   "outputs": [],
   "source": [
    "### YOUR CODE HERE ###"
   ]
  },
  {
   "cell_type": "code",
   "execution_count": 9,
   "id": "607adc89",
   "metadata": {
    "collapsed": false,
    "jupyter": {
     "outputs_hidden": false
    }
   },
   "outputs": [],
   "source": [
    "### YOUR CODE HERE ###"
   ]
  },
  {
   "cell_type": "markdown",
   "id": "532d2c36",
   "metadata": {},
   "source": [
    "### Cross-Validation\n",
    "\n",
    "Use 5-fold cross validation to estimate the accuracy and an error bar of the accuracy estimate.\n"
   ]
  },
  {
   "cell_type": "code",
   "execution_count": null,
   "id": "aa20d275",
   "metadata": {
    "collapsed": false,
    "jupyter": {
     "outputs_hidden": false
    }
   },
   "outputs": [],
   "source": [
    "### YOUR CODE HERE ###"
   ]
  },
  {
   "cell_type": "markdown",
   "id": "4625a52b-a332-4844-8d7d-6998893a2d70",
   "metadata": {
    "tags": []
   },
   "source": [
    "### Analyse Different Optimisers with different Settings \n",
    "\n",
    "Use the code above to explore different settings for the different optimizers. Use batchsize 64.\n",
    "\n",
    "1. *SGD*: Refer to the results from above - for later comparison.\n",
    "<br>\n",
    "\n",
    "2. *Momentum*: Play with at least three different settings when using momentum: learning rate, momentum parameter, Nesterov flag. Start with momentum=0.9 without Nesterov and suitable learning rate, then vary the momentum parameter and independently the learning rate. Can you see an impact of using Nesterov? What is your recommended best choice (lr, momentum, nesterov, nepochs) for the given problem?\n",
    "<br>\n",
    "\n",
    "3. *RMSProp*: Same thing now for RMSprop (without momentum). Play with at least three different settings when using RMSprop: lr, alpha. Start with the default settings of pytorch with (lr=0.01, alpha=0.99,centered=False). Then vary alpha and independently the learning rate. Can you see an impact when using centered=True? What is your recommended best choice (learning rate, alpha, centered, nepochs) for the given problem?<br>\n",
    "<br>\n",
    "\n",
    "4. *Adam*: Same thing now for Adam. Play with at least three different settings. Start with the default settings of pytorch. What is your recommended best choice for the given problem?<br>\n",
    "<br>\n"
   ]
  },
  {
   "cell_type": "code",
   "execution_count": null,
   "id": "a1fa1c2b-50d7-4b23-91c8-c47eec5fc8fd",
   "metadata": {},
   "outputs": [],
   "source": [
    "nbatch = 64\n",
    "nepochs = \n",
    "\n",
    "training_loader = DataLoader(training_data, batch_size=nbatch, shuffle=True)\n",
    "validation_loader = DataLoader(validation_data, batch_size=nbatch, shuffle=True)\n",
    "    \n",
    "model = mlp()\n",
    "optimizer = ...\n",
    "cost_hist, cost_hist_test, acc_hist, acc_hist_test = train_eval(model, optimizer, nepochs, training_loader, validation_loader)\n"
   ]
  },
  {
   "cell_type": "markdown",
   "id": "d2f24c35-9def-48ba-a505-20b99d450584",
   "metadata": {},
   "source": [
    "### Plots and Comments (for the different steps described above) "
   ]
  },
  {
   "cell_type": "code",
   "execution_count": null,
   "id": "7b1ab6cb-7787-4f18-8763-ae231c610c68",
   "metadata": {},
   "outputs": [],
   "source": []
  },
  {
   "cell_type": "markdown",
   "id": "35fb4db4",
   "metadata": {},
   "source": [
    "### Learning Rate Schedule\n",
    "\n",
    "Modify your `train_eval` method implemented above to support using a learning rate schedule for SGD (without momentum) - by using e.g. StepLR. What are your preferred settings for the given task?\n",
    "\n",
    "Compare and evaluate the training performance with the results obtained for the different optimizers above and provide a judgement."
   ]
  },
  {
   "cell_type": "code",
   "execution_count": null,
   "id": "e79a02fc",
   "metadata": {
    "collapsed": false,
    "jupyter": {
     "outputs_hidden": false
    },
    "pycharm": {
     "is_executing": true
    }
   },
   "outputs": [],
   "source": []
  },
  {
   "cell_type": "code",
   "execution_count": 9,
   "id": "92d237b4",
   "metadata": {
    "collapsed": false,
    "jupyter": {
     "outputs_hidden": false
    }
   },
   "outputs": [],
   "source": []
  }
 ],
 "metadata": {
  "kernelspec": {
   "display_name": "Python 3 (ipykernel)",
   "language": "python",
   "name": "python3"
  },
  "language_info": {
   "codemirror_mode": {
    "name": "ipython",
    "version": 3
   },
   "file_extension": ".py",
   "mimetype": "text/x-python",
   "name": "python",
   "nbconvert_exporter": "python",
   "pygments_lexer": "ipython3",
   "version": "3.11.5"
  }
 },
 "nbformat": 4,
 "nbformat_minor": 5
}
