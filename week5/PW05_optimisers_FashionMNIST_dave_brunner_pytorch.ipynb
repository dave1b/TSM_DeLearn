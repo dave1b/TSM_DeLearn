{
 "cells": [
  {
   "cell_type": "code",
   "execution_count": 14,
   "id": "07ec37d7-f7cb-4646-a2dd-9dab66239a30",
   "metadata": {
    "ExecuteTime": {
     "end_time": "2024-03-25T21:13:05.565112Z",
     "start_time": "2024-03-25T21:13:04.946289Z"
    }
   },
   "outputs": [],
   "source": [
    "import torch\n",
    "from torch.utils.data import DataLoader\n",
    "from torchvision import datasets\n",
    "from torchvision.transforms import ToTensor\n",
    "import torch.nn as nn  # to load all neural net functionality\n",
    "from torchsummary import summary\n",
    "import numpy as np\n",
    "import matplotlib.pyplot as plt"
   ]
  },
  {
   "cell_type": "markdown",
   "id": "e2d8a986-1cb2-483b-9bd8-0f71d69fa9e8",
   "metadata": {},
   "source": [
    "### Loading Data"
   ]
  },
  {
   "cell_type": "code",
   "execution_count": 15,
   "id": "4ba6b0c6-3f55-40dd-ba32-6f6aad8f1437",
   "metadata": {
    "ExecuteTime": {
     "end_time": "2024-03-25T21:13:05.611248Z",
     "start_time": "2024-03-25T21:13:05.565959Z"
    }
   },
   "outputs": [],
   "source": [
    "training_data = datasets.mnist.FashionMNIST(root=\"data\", train=True, download=True, transform=ToTensor())\n",
    "test_data = datasets.mnist.FashionMNIST(root=\"data\", train=False, download=True, transform=ToTensor())"
   ]
  },
  {
   "cell_type": "code",
   "execution_count": 16,
   "id": "5c2da4ed-af9a-4fc7-b59f-135b51241d2f",
   "metadata": {
    "tags": [],
    "ExecuteTime": {
     "end_time": "2024-03-25T21:13:05.618570Z",
     "start_time": "2024-03-25T21:13:05.612430Z"
    }
   },
   "outputs": [],
   "source": [
    "training_data, validation_data = torch.utils.data.random_split(training_data, [50000, 10000])"
   ]
  },
  {
   "cell_type": "code",
   "execution_count": 17,
   "id": "22b30c81-d89f-4947-aa09-ab8c70dd262c",
   "metadata": {
    "ExecuteTime": {
     "end_time": "2024-03-25T21:13:05.622126Z",
     "start_time": "2024-03-25T21:13:05.620158Z"
    }
   },
   "outputs": [
    {
     "name": "stdout",
     "output_type": "stream",
     "text": [
      "50000 10000 10000\n"
     ]
    }
   ],
   "source": [
    "print(len(training_data), len(validation_data), len(test_data))"
   ]
  },
  {
   "cell_type": "markdown",
   "id": "375ff404-5b8a-4f63-9730-d6708d2ac8d1",
   "metadata": {},
   "source": [
    "### CNN Baseline Model\n",
    "Model with two CNN layers (including max pooling), one dense and an output classification layer, with suitable number of filters and units, respectively."
   ]
  },
  {
   "cell_type": "code",
   "execution_count": 41,
   "id": "b61b15df-a84b-483d-9365-d8f66390b8bb",
   "metadata": {
    "ExecuteTime": {
     "end_time": "2024-03-25T21:29:41.128967Z",
     "start_time": "2024-03-25T21:29:41.125349Z"
    }
   },
   "outputs": [],
   "source": [
    "import torch.nn as nn\n",
    "\n",
    "num_classes = 10\n",
    "\n",
    "\n",
    "def cnn_model(num_classes=10):\n",
    "    class CNNModel(nn.Module):\n",
    "        def __init__(self, num_classes):\n",
    "            super(CNNModel, self).__init__()\n",
    "            # First CNN layer\n",
    "            self.conv1 = nn.Conv2d(in_channels=1, out_channels=16, kernel_size=3, stride=1, padding=1)\n",
    "            self.relu1 = nn.ReLU()\n",
    "            self.pool1 = nn.MaxPool2d(kernel_size=2, stride=2)\n",
    "\n",
    "            # Second CNN layer\n",
    "            self.conv2 = nn.Conv2d(in_channels=16, out_channels=32, kernel_size=3, stride=1, padding=1)\n",
    "            self.relu2 = nn.ReLU()\n",
    "            self.pool2 = nn.MaxPool2d(kernel_size=2, stride=2)\n",
    "\n",
    "            # Dense layer\n",
    "            self.fc1 = nn.Linear(32 * 7 * 7, 128)  # Assuming input image size is 28x28 after pooling\n",
    "            self.relu3 = nn.ReLU()\n",
    "\n",
    "            # Output layer\n",
    "            self.fc2 = nn.Linear(128, num_classes)\n",
    "\n",
    "        def forward(self, x):\n",
    "            # Convolutional layers\n",
    "            x = self.pool1(self.relu1(self.conv1(x)))\n",
    "            x = self.pool2(self.relu2(self.conv2(x)))\n",
    "\n",
    "            # Flatten\n",
    "            x = x.view(-1, 32 * 7 * 7)  # Reshape for the fully connected layer\n",
    "\n",
    "            # Dense layer\n",
    "            x = self.relu3(self.fc1(x))\n",
    "\n",
    "            # Output layer\n",
    "            x = self.fc2(x)\n",
    "            return x\n",
    "\n",
    "    return CNNModel(num_classes)\n",
    "\n",
    "\n",
    "model_description = \"Conv filters=16, kernel=3, s=1, p=1 -> ReLU -> Conv filters=32, kernels=3, s=1, p=1 -> ReLU -> MaxPool k=2, s=2 -> Dense 128 -> ReLU -> Output 10\""
   ]
  },
  {
   "cell_type": "code",
   "execution_count": 42,
   "id": "d4bfd0a4-999c-4690-9ef3-b5ee1ab26c30",
   "metadata": {
    "tags": [],
    "ExecuteTime": {
     "end_time": "2024-03-25T21:29:41.643697Z",
     "start_time": "2024-03-25T21:29:41.638112Z"
    }
   },
   "outputs": [
    {
     "name": "stdout",
     "output_type": "stream",
     "text": [
      "----------------------------------------------------------------\n",
      "        Layer (type)               Output Shape         Param #\n",
      "================================================================\n",
      "            Conv2d-1           [-1, 16, 28, 28]             160\n",
      "              ReLU-2           [-1, 16, 28, 28]               0\n",
      "         MaxPool2d-3           [-1, 16, 14, 14]               0\n",
      "            Conv2d-4           [-1, 32, 14, 14]           4,640\n",
      "              ReLU-5           [-1, 32, 14, 14]               0\n",
      "         MaxPool2d-6             [-1, 32, 7, 7]               0\n",
      "            Linear-7                  [-1, 128]         200,832\n",
      "              ReLU-8                  [-1, 128]               0\n",
      "            Linear-9                   [-1, 10]           1,290\n",
      "================================================================\n",
      "Total params: 206,922\n",
      "Trainable params: 206,922\n",
      "Non-trainable params: 0\n",
      "----------------------------------------------------------------\n",
      "Input size (MB): 0.00\n",
      "Forward/backward pass size (MB): 0.33\n",
      "Params size (MB): 0.79\n",
      "Estimated Total Size (MB): 1.12\n",
      "----------------------------------------------------------------\n"
     ]
    }
   ],
   "source": [
    "model = cnn_model()\n",
    "from torchsummary import summary\n",
    "\n",
    "summary(model, (1, 28, 28))"
   ]
  },
  {
   "cell_type": "code",
   "outputs": [],
   "source": [
    "from sklearn.metrics import ConfusionMatrixDisplay, confusion_matrix\n",
    "\n",
    "\n",
    "class Result:\n",
    "    def __init__(self, network, epoch: int, batch_size: int, train_accuracy: [float], val_accuracy: [float],\n",
    "                 train_loss: [float], val_loss: [float], cm: any):\n",
    "        self.network = network,\n",
    "        self.epoch = epoch,\n",
    "        self.batch_size = batch_size\n",
    "        self.train_loss = train_loss\n",
    "        self.val_loss = val_loss\n",
    "        self.train_accuracy = train_accuracy\n",
    "        self.val_accuracy = val_accuracy\n",
    "        self.cm = cm\n",
    "\n",
    "    def __str__(self):\n",
    "        return f'Network: {self.network}, Epochs: {self.epoch}, Batch size: {self.batch_size}, Final accuracy: [train:{self.train_accuracy[-1]}, val:{self.val_accuracy[-1]}] Final loss: [train:{self.train_loss[-1]}, val:{self.val_loss[-1]}'\n",
    "\n",
    "    def title(self):\n",
    "        return f'Network: {self.network}, Epochs: {self.epoch}, Batch: {self.batch_size}'\n",
    "\n",
    "    def plot(self, plot_cm):\n",
    "        f = plt.figure(figsize=(12, 4))\n",
    "        ax1 = f.add_subplot(121)\n",
    "        ax2 = f.add_subplot(122)\n",
    "        ax1.plot(self.train_loss, label='Training loss')\n",
    "        ax1.plot(self.val_loss, label='Validation loss')\n",
    "        ax1.legend()\n",
    "        ax1.grid()\n",
    "        ax2.plot(self.train_accuracy, label='Training acc')\n",
    "        ax2.plot(self.val_accuracy, label='Validation acc')\n",
    "        ax2.legend()\n",
    "        ax2.grid()\n",
    "        if plot_cm:\n",
    "            disp = ConfusionMatrixDisplay(confusion_matrix=cm)\n",
    "            disp.plot(colorbar=False, cmap='Blues')\n",
    "        plt.show()\n",
    "\n",
    "    def plot_result(self, cm=False):\n",
    "        print(self.title())\n",
    "        print(f\"Final val accuracy: {self.val_accuracy[-1]}\")\n",
    "        self.plot(cm)\n",
    "        print(\"--------------------------------------------\")\n",
    "\n",
    "    def print_results(self):\n",
    "        print(\"--------------------------------------------\")\n",
    "        print(self.title())\n",
    "        print(f\"Train accuracy: {self.train_accuracy[-1]}\")\n",
    "        print(f\"Validation accuracy: {self.val_accuracy[-1]}\")\n",
    "\n",
    "\n",
    "results: [Result] = []"
   ],
   "metadata": {
    "collapsed": false,
    "ExecuteTime": {
     "end_time": "2024-03-25T21:30:31.268255Z",
     "start_time": "2024-03-25T21:30:30.682696Z"
    }
   },
   "id": "69e6b6fba35c6cae",
   "execution_count": 47
  },
  {
   "cell_type": "markdown",
   "id": "c3fa393a-9f99-48f4-996d-cf8d2a3b8cd5",
   "metadata": {},
   "source": [
    "### Training\n",
    "\n",
    "Implement the training / evaluation loop\n",
    "Remember training / validation cost and accuracy per epoch and return them as list."
   ]
  },
  {
   "cell_type": "code",
   "execution_count": 63,
   "id": "172c91d1-4c9e-413a-bfff-01f51a1e323a",
   "metadata": {
    "tags": [],
    "ExecuteTime": {
     "end_time": "2024-03-25T21:43:04.911209Z",
     "start_time": "2024-03-25T21:43:04.905852Z"
    }
   },
   "outputs": [],
   "source": [
    "def train_eval(model, optimizer, nepochs, training_loader, test_loader, scheduler=None, verbose=False):\n",
    "    \"\"\"\n",
    "    Perform training and evaluation loop.\n",
    "    :param model: Model to be trained\n",
    "    :param optimizer: Optimiser to use for training\n",
    "    :param nepochs: Number of epochs\n",
    "    :param training_loader: Loader to provide mini-batches of training samples\n",
    "    :param test_loader: Loader to provide mini-batches of validation samples\n",
    "    :param scheduler: Scheduler used for a learning rate schedule\n",
    "    :return: Lists with training and validation cost and accuracy per epoch.\n",
    "    \"\"\"\n",
    "    cost_hist = []\n",
    "    cost_hist_val = []\n",
    "    acc_hist = []\n",
    "    acc_hist_val = []\n",
    "\n",
    "    cost_ce = torch.nn.CrossEntropyLoss()\n",
    "\n",
    "    for epoch in range(nepochs):\n",
    "        acc, cost = 0, 0\n",
    "        acc_val, cost_val = 0, 0\n",
    "        batch_count = 0\n",
    "\n",
    "        for batch_idx, (train_x, train_y) in enumerate(training_loader):\n",
    "            optimizer.zero_grad()\n",
    "            yhat = model(train_x)\n",
    "            loss = cost_ce(yhat, train_y)\n",
    "            loss.backward()\n",
    "            optimizer.step()\n",
    "\n",
    "            acc += (yhat.argmax(1) == train_y).float().mean()\n",
    "            cost += loss.item()\n",
    "            batch_count += 1\n",
    "            \n",
    "        with torch.no_grad():\n",
    "            for batch_idx, (val_x, val_y) in enumerate(validation_loader):\n",
    "                yhat_val = model(val_x)\n",
    "                loss_val = cost_ce(yhat_val, val_y)\n",
    "                acc_val += (yhat_val.argmax(1) == val_y).float().mean()\n",
    "                cost_val += loss_val.item()\n",
    "\n",
    "        cost_hist.append(cost / batch_count)\n",
    "        acc_hist.append(acc / batch_count)\n",
    "        cost_hist_val.append(cost_val / batch_count)\n",
    "        acc_hist_val.append(acc_val / batch_count)\n",
    "\n",
    "        if verbose:\n",
    "            print(f\"Epoch {epoch + 1}\")\n",
    "            print(f\"Train:      Accuracy={acc_hist[-1]:.4f}, Cost: {cost_hist[-1]:.4f}\")\n",
    "            print(f\"Validation: Accuracy={acc_hist_val[-1]:.4f}, Cost: {cost_hist_val[-1]:.4f}\")\n",
    "            print(\"------------------------------------------\")\n",
    "    if not verbose:\n",
    "        print(f\"Final Validation Accuracy={acc_hist_val[-1]:.4f} Cost: {cost_hist_val[-1]:.4f}\")\n",
    "        print(f\"Final Training   Accuracy={acc_hist[-1]:.4f} Cost: {cost_hist[-1]:.4f}\")\n",
    "\n",
    "    return cost_hist, cost_hist_val, acc_hist, acc_hist_val"
   ]
  },
  {
   "cell_type": "markdown",
   "id": "bacd328c",
   "metadata": {},
   "source": [
    "### Train Baseline CNN Model\n",
    "\n",
    "Follow the \"Steps to Test and Tune a Model\" as presented in the lecture.\n",
    "\n",
    "Train the baseline with SGD without momentum and fixed learning rate. Tune the learning rate by this procedure.\n",
    "\n",
    "Determine a suitable number of epochs."
   ]
  },
  {
   "cell_type": "code",
   "outputs": [
    {
     "name": "stdout",
     "output_type": "stream",
     "text": [
      "Epoch 1\n",
      "Train:      Accuracy=0.8499, Cost: 0.4142\n",
      "Validation: Accuracy=0.1719, Cost: 0.0823\n",
      "------------------------------------------\n",
      "Epoch 2\n",
      "Train:      Accuracy=0.8549, Cost: 0.3977\n",
      "Validation: Accuracy=0.1663, Cost: 0.0918\n",
      "------------------------------------------\n",
      "Epoch 3\n",
      "Train:      Accuracy=0.8601, Cost: 0.3853\n",
      "Validation: Accuracy=0.1723, Cost: 0.0776\n",
      "------------------------------------------\n",
      "Epoch 4\n",
      "Train:      Accuracy=0.8642, Cost: 0.3746\n",
      "Validation: Accuracy=0.1713, Cost: 0.0820\n",
      "------------------------------------------\n",
      "Epoch 5\n",
      "Train:      Accuracy=0.8684, Cost: 0.3631\n",
      "Validation: Accuracy=0.1751, Cost: 0.0718\n",
      "------------------------------------------\n",
      "--------------------------------------------\n",
      "Network: ('Conv filters=16, kernel=3, s=1, p=1 -> ReLU -> Conv filters=32, kernels=3, s=1, p=1 -> ReLU -> MaxPool k=2, s=2 -> Dense 128 -> ReLU -> Output 10',), Epochs: (5,), Batch: 64\n",
      "Final val accuracy: 0.17507192492485046\n"
     ]
    },
    {
     "data": {
      "text/plain": "<Figure size 1200x400 with 2 Axes>",
      "image/png": "[encoded data removed]"
     },
     "metadata": {},
     "output_type": "display_data"
    }
   ],
   "source": [
    "n_epochs = 5\n",
    "batch_size = 64\n",
    "lr = 0.01\n",
    "\n",
    "optimizer = torch.optim.SGD(model.parameters(), lr=lr, momentum=0)\n",
    "training_loader = DataLoader(training_data, batch_size=batch_size, shuffle=True)\n",
    "validation_loader = DataLoader(validation_data, batch_size=batch_size, shuffle=True)\n",
    "\n",
    "cost_hist, cost_hist_test, acc_hist, acc_hist_test = train_eval(model, optimizer, n_epochs, training_loader,\n",
    "                                                                validation_loader, verbose=True)\n",
    "results.append(\n",
    "    Result(model_description, n_epochs, batch_size, acc_hist, acc_hist_test, cost_hist, cost_hist_test, None))\n",
    "results[-1].plot_result()"
   ],
   "metadata": {
    "collapsed": false,
    "ExecuteTime": {
     "end_time": "2024-03-25T21:43:55.628182Z",
     "start_time": "2024-03-25T21:43:05.507645Z"
    }
   },
   "id": "98f5859b87abf5bd",
   "execution_count": 64
  },
  {
   "cell_type": "markdown",
   "id": "532d2c36",
   "metadata": {},
   "source": [
    "### Cross-Validation\n",
    "\n",
    "Use 5-fold cross validation to estimate the accuracy and an error bar of the accuracy estimate.\n"
   ]
  },
  {
   "cell_type": "code",
   "execution_count": null,
   "id": "aa20d275",
   "metadata": {
    "collapsed": false
   },
   "outputs": [],
   "source": [
    "cross_validation_results = []\n",
    "k_fold = 5\n",
    "\n",
    "for i in range(k_fold):\n",
    "    \n",
    "\n"
   ]
  },
  {
   "cell_type": "markdown",
   "id": "4625a52b-a332-4844-8d7d-6998893a2d70",
   "metadata": {
    "tags": []
   },
   "source": [
    "### Analyse Different Optimisers with different Settings \n",
    "\n",
    "Use the code above to explore different settings for the different optimizers. Use batchsize 64.\n",
    "\n",
    "1. *SGD*: Refer to the results from above - for later comparison.\n",
    "<br>\n",
    "\n",
    "2. *Momentum*: Play with at least three different settings when using momentum: learning rate, momentum parameter, Nesterov flag. Start with momentum=0.9 without Nesterov and suitable learning rate, then vary the momentum parameter and independently the learning rate. Can you see an impact of using Nesterov? What is your recommended best choice (lr, momentum, nesterov, nepochs) for the given problem?\n",
    "<br>\n",
    "\n",
    "3. *RMSProp*: Same thing now for RMSprop (without momentum). Play with at least three different settings when using RMSprop: lr, alpha. Start with the default settings of pytorch with (lr=0.01, alpha=0.99,centered=False). Then vary alpha and independently the learning rate. Can you see an impact when using centered=True? What is your recommended best choice (learning rate, alpha, centered, nepochs) for the given problem?<br>\n",
    "<br>\n",
    "\n",
    "4. *Adam*: Same thing now for Adam. Play with at least three different settings. Start with the default settings of pytorch. What is your recommended best choice for the given problem?<br>\n",
    "<br>\n"
   ]
  },
  {
   "cell_type": "code",
   "execution_count": null,
   "id": "a1fa1c2b-50d7-4b23-91c8-c47eec5fc8fd",
   "metadata": {},
   "outputs": [],
   "source": [
    "nbatch = 64\n",
    "nepochs =\n",
    "\n",
    "training_loader = DataLoader(training_data, batch_size=nbatch, shuffle=True)\n",
    "validation_loader = DataLoader(validation_data, batch_size=nbatch, shuffle=True)\n",
    "\n",
    "model = mlp()\n",
    "optimizer = ...\n",
    "cost_hist, cost_hist_test, acc_hist, acc_hist_test = train_eval(model, optimizer, nepochs, training_loader,\n",
    "                                                                validation_loader)\n"
   ]
  },
  {
   "cell_type": "markdown",
   "id": "d2f24c35-9def-48ba-a505-20b99d450584",
   "metadata": {},
   "source": [
    "### Plots and Comments (for the different steps described above) "
   ]
  },
  {
   "cell_type": "code",
   "execution_count": null,
   "id": "7b1ab6cb-7787-4f18-8763-ae231c610c68",
   "metadata": {},
   "outputs": [],
   "source": []
  },
  {
   "cell_type": "markdown",
   "id": "35fb4db4",
   "metadata": {},
   "source": [
    "### Learning Rate Schedule\n",
    "\n",
    "Modify your `train_eval` method implemented above to support using a learning rate schedule for SGD (without momentum) - by using e.g. StepLR. What are your preferred settings for the given task?\n",
    "\n",
    "Compare and evaluate the training performance with the results obtained for the different optimizers above and provide a judgement."
   ]
  },
  {
   "cell_type": "code",
   "execution_count": null,
   "id": "e79a02fc",
   "metadata": {
    "collapsed": false,
    "pycharm": {
     "is_executing": true
    }
   },
   "outputs": [],
   "source": []
  },
  {
   "cell_type": "code",
   "execution_count": null,
   "id": "92d237b4",
   "metadata": {
    "collapsed": false
   },
   "outputs": [],
   "source": []
  }
 ],
 "metadata": {
  "kernelspec": {
   "display_name": "Python 3 (ipykernel)",
   "language": "python",
   "name": "python3"
  },
  "language_info": {
   "codemirror_mode": {
    "name": "ipython",
    "version": 3
   },
   "file_extension": ".py",
   "mimetype": "text/x-python",
   "name": "python",
   "nbconvert_exporter": "python",
   "pygments_lexer": "ipython3",
   "version": "3.11.5"
  }
 },
 "nbformat": 4,
 "nbformat_minor": 5
}
