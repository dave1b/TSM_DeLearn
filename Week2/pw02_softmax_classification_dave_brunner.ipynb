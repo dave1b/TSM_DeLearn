{
 "cells": [
  {
   "cell_type": "raw",
   "source": [
    "Dave Brunner\n",
    "Group G27"
   ],
   "metadata": {
    "collapsed": false
   },
   "id": "5081f391fcc17af8"
  },
  {
   "cell_type": "code",
   "execution_count": 1,
   "id": "07ec37d7-f7cb-4646-a2dd-9dab66239a30",
   "metadata": {
    "ExecuteTime": {
     "end_time": "2024-03-05T21:50:04.787258200Z",
     "start_time": "2024-03-05T21:50:01.824212300Z"
    }
   },
   "outputs": [],
   "source": [
    "from datetime import datetime\n",
    "import torch\n",
    "from torch.utils.data import DataLoader\n",
    "from torchvision import datasets\n",
    "from torchvision.transforms import ToTensor\n",
    "from torchsummary import summary\n",
    "import matplotlib.pyplot as plt"
   ]
  },
  {
   "cell_type": "code",
   "outputs": [
    {
     "name": "stdout",
     "output_type": "stream",
     "text": [
      "cuda would be available, but not set\n"
     ]
    }
   ],
   "source": [
    "if torch.cuda.is_available():\n",
    "    print(\"cuda would be available, but not set\")\n",
    "    # torch.set_default_device('cuda')\n",
    "else:\n",
    "    print(\"cuda is not available\")"
   ],
   "metadata": {
    "collapsed": false,
    "ExecuteTime": {
     "end_time": "2024-03-05T21:50:04.832491400Z",
     "start_time": "2024-03-05T21:50:04.788257Z"
    }
   },
   "id": "2ad42eb0d61c2724",
   "execution_count": 2
  },
  {
   "cell_type": "markdown",
   "id": "dd993cab-8437-411c-a9be-a6b0a1acd079",
   "metadata": {},
   "source": [
    "## Multinomial Classification of MNIST \n",
    "\n",
    "1. Load the MNIST dataset by clicking through the first cells and see how to depict some samples. Please note that a training and a test dataset are loaded. Make sure that only the training set will be used for training and the test dataset just for evaluation (accuracy). \n",
    "2. Implement the multinomial logistic regression model by completing the code in the functions \\verb|linear_trsf|, \\verb|softmax|, \\verb|predict|, \\verb|loss_ce|, \\verb|cost_ce|. \n",
    "3. Implement the mini-batch gradient descent training loop configured by number of epochs, batch size and learning rate. Implement the gradient explicitly (without autograd). Train the model with \\verb|nepochs=10|, \\verb|nbatch=64| and \\verb|lr=0.01|. \n",
    "4. Tune learning rate and batch size and qualitatively characterise the behaviour. What is your favorite combination (learning rate, batch size, number of epochs)\n",
    "5. Build and train the model with full-fledge pytorch incl. autograd. Implement a model class inheriting from $torch.nn.Module$ and use the layer functionality in the package $torch.nn$ (see lecture). Prove that you obtain the same accuracy.\n"
   ]
  },
  {
   "cell_type": "markdown",
   "id": "54623f22-b7a5-4caf-aef5-ee329ad00711",
   "metadata": {},
   "source": [
    "#### Hints \n",
    "* Keep an eye on the shapes of the tensors (as passed into the functions and as used within the functions (and declared in the function descriptions).\n",
    "* For each implemented function, run a small test with dummy input tensors (of the required shape) and check whether it outputs a tensor with expected shape and no 'nan'.\n",
    "* Possibly, add \\verb|assert()| statements in the code.\n",
    "* For the training loop perform a training with only a single batch of size 64. Here, you should be able to obtain 100% training accuracy."
   ]
  },
  {
   "cell_type": "markdown",
   "id": "115e944d-1923-476f-bc7f-777a584fa294",
   "metadata": {
    "tags": []
   },
   "source": [
    "### 1. Loading the Data\n",
    "\n",
    "Click through the cells below to load the MNIST dataset and learn how to access its samples."
   ]
  },
  {
   "cell_type": "markdown",
   "id": "e2d8a986-1cb2-483b-9bd8-0f71d69fa9e8",
   "metadata": {},
   "source": [
    "#### Dataset"
   ]
  },
  {
   "cell_type": "code",
   "execution_count": 3,
   "id": "042ff291-ba77-4deb-83b5-ca4a4f84c6b7",
   "metadata": {
    "ExecuteTime": {
     "end_time": "2024-03-05T21:50:04.879160800Z",
     "start_time": "2024-03-05T21:50:04.816982300Z"
    }
   },
   "outputs": [],
   "source": [
    "training_data = datasets.MNIST(\n",
    "    root=\"data\",\n",
    "    train=True,\n",
    "    download=True,\n",
    "    transform=ToTensor()\n",
    ")\n",
    "# training_data.data = training_data.data.to('cuda')\n",
    "# training_data.targets = training_data.targets.to('cuda')\n",
    "test_data = datasets.MNIST(\n",
    "    root=\"data\",\n",
    "    train=False,\n",
    "    download=True,\n",
    "    transform=ToTensor()\n",
    ")\n",
    "# test_data.data = test_data.data.to('cuda')\n",
    "# test_data.targets = test_data.targets.to('cuda')\n",
    "# print('Moved to GPU')"
   ]
  },
  {
   "cell_type": "code",
   "execution_count": 4,
   "id": "4317cf1c-f538-4ab9-a25d-bf3eaaecc82e",
   "metadata": {
    "ExecuteTime": {
     "end_time": "2024-03-05T21:50:04.880159200Z",
     "start_time": "2024-03-05T21:50:04.864556800Z"
    }
   },
   "outputs": [
    {
     "name": "stdout",
     "output_type": "stream",
     "text": [
      "Dataset MNIST\n",
      "    Number of datapoints: 60000\n",
      "    Root location: data\n",
      "    Split: Train\n",
      "    StandardTransform\n",
      "Transform: ToTensor()\n"
     ]
    }
   ],
   "source": [
    "print(training_data)"
   ]
  },
  {
   "cell_type": "code",
   "execution_count": 5,
   "id": "bead1c06-3cf0-4b28-bfa5-5fe83fcb0c09",
   "metadata": {
    "ExecuteTime": {
     "end_time": "2024-03-05T21:50:04.881159Z",
     "start_time": "2024-03-05T21:50:04.871147600Z"
    }
   },
   "outputs": [
    {
     "name": "stdout",
     "output_type": "stream",
     "text": [
      "60000\n",
      "<class 'torch.Tensor'> torch.Size([1, 28, 28]) torch.float32\n",
      "<class 'int'> 2\n"
     ]
    }
   ],
   "source": [
    "print(len(training_data))\n",
    "x, y = training_data[5]\n",
    "print(type(x), x.shape, x.dtype)\n",
    "print(type(y), y)"
   ]
  },
  {
   "cell_type": "markdown",
   "id": "c4c0c1cf-ee9d-4f39-80f9-dc87419ca16d",
   "metadata": {},
   "source": [
    "#### Depict samples"
   ]
  },
  {
   "cell_type": "code",
   "execution_count": 6,
   "id": "a9938792-243b-43eb-a0e9-01ee61e45f5d",
   "metadata": {
    "ExecuteTime": {
     "end_time": "2024-03-05T21:50:05.350344300Z",
     "start_time": "2024-03-05T21:50:04.878154900Z"
    }
   },
   "outputs": [
    {
     "data": {
      "text/plain": "<Figure size 800x800 with 9 Axes>",
      "image/png": "[encoded data removed]"
     },
     "metadata": {},
     "output_type": "display_data"
    }
   ],
   "source": [
    "figure = plt.figure(figsize=(8, 8))\n",
    "cols, rows = 3, 3\n",
    "for i in range(1, cols * rows + 1):\n",
    "    sample_idx = torch.randint(len(training_data), size=(1,)).item()\n",
    "    img, label = training_data[sample_idx]\n",
    "    figure.add_subplot(rows, cols, i)\n",
    "    plt.title(\"Label %i (sample %i)\" % (label, sample_idx))\n",
    "    plt.axis(\"off\")\n",
    "    plt.imshow(img.squeeze(), cmap=\"gray\")\n",
    "plt.show()"
   ]
  },
  {
   "cell_type": "markdown",
   "id": "876863a4-933c-4994-97c7-66965fdc6d5b",
   "metadata": {},
   "source": [
    "#### Data Loader (see lecture)"
   ]
  },
  {
   "cell_type": "code",
   "execution_count": 7,
   "id": "b76a6393-4f06-4775-b9a3-cf0f30140617",
   "metadata": {
    "ExecuteTime": {
     "end_time": "2024-03-05T21:50:05.369111900Z",
     "start_time": "2024-03-05T21:50:05.351347100Z"
    }
   },
   "outputs": [],
   "source": [
    "train_dataloader = DataLoader(training_data, batch_size=64, shuffle=True)"
   ]
  },
  {
   "cell_type": "code",
   "execution_count": 8,
   "id": "31b5829a-0c1f-4f26-9e78-d2205a1611ca",
   "metadata": {
    "ExecuteTime": {
     "end_time": "2024-03-05T21:50:05.440192400Z",
     "start_time": "2024-03-05T21:50:05.356346800Z"
    }
   },
   "outputs": [
    {
     "name": "stdout",
     "output_type": "stream",
     "text": [
      "Feature batch shape: torch.Size([64, 1, 28, 28])\n",
      "Labels batch shape: torch.Size([64])\n"
     ]
    }
   ],
   "source": [
    "data_train, labels_train = next(iter(train_dataloader))\n",
    "print(f\"Feature batch shape: {data_train.shape}\")\n",
    "print(f\"Labels batch shape: {labels_train.shape}\")"
   ]
  },
  {
   "cell_type": "code",
   "execution_count": 9,
   "id": "c55ec26d-ba62-4b79-b4e3-0fb86a6cb65f",
   "metadata": {
    "ExecuteTime": {
     "end_time": "2024-03-05T21:50:05.514401Z",
     "start_time": "2024-03-05T21:50:05.374530100Z"
    }
   },
   "outputs": [
    {
     "data": {
      "text/plain": "<Figure size 640x480 with 1 Axes>",
      "image/png": "[encoded data removed]"
     },
     "metadata": {},
     "output_type": "display_data"
    }
   ],
   "source": [
    "img = data_train[0].squeeze()\n",
    "label = labels_train[0]\n",
    "plt.imshow(img, cmap=\"gray\")\n",
    "plt.title(f\"Label: {label}\")\n",
    "plt.show()"
   ]
  },
  {
   "cell_type": "markdown",
   "id": "a7776e74-56d3-4988-ae15-ddfaae9f6d35",
   "metadata": {},
   "source": [
    "### 2. Multinomial Logistic Regression\n",
    "\n",
    "Now, implement the model, i.e. multinomial logistic regression and the loss/cost function (cross-entropy cost).\n",
    "\n",
    "To that end, implement the python functions below. \n",
    "All arguments are pytorch tensors with indicated shapes."
   ]
  },
  {
   "cell_type": "code",
   "outputs": [],
   "source": [
    "\n",
    "\n",
    "def linear_trsf(x, W, b):\n",
    "    \"\"\"\n",
    "    x -- tensor with shape (nb,1,28,28)\n",
    "    W -- tensor with shape (10,28*28)\n",
    "    b -- tensor with shape (1,10)\n",
    "    \"\"\"\n",
    "    batch_size = x.shape[0]\n",
    "    x1 = x.view(batch_size, -1)\n",
    "    return x1 @ W.T + b\n",
    "\n",
    "\n",
    "def softmax(z):\n",
    "    \"\"\"\n",
    "    z -- tensor of shape (nb,10)\n",
    "    \"\"\"\n",
    "    s = torch.exp(z)\n",
    "    return s / torch.sum(s, dim=1, keepdim=True)\n",
    "\n",
    "\n",
    "def predict(x, W, b):\n",
    "    \"\"\"\n",
    "    x -- tensor with shape (nb,1,28,28)\n",
    "    W -- tensor with shape (10,28*28)\n",
    "    b -- tensor with shape (1,10)\n",
    "    \"\"\"\n",
    "    return softmax(linear_trsf(x, W, b))\n"
   ],
   "metadata": {
    "collapsed": false,
    "ExecuteTime": {
     "end_time": "2024-03-05T21:50:05.514401Z",
     "start_time": "2024-03-05T21:50:05.493074400Z"
    }
   },
   "id": "0c1db699-d593-4f8a-9f63-177117afa932",
   "execution_count": 10
  },
  {
   "cell_type": "markdown",
   "id": "68031839-586e-4969-a536-ae9d3c05cd4d",
   "metadata": {},
   "source": [
    "##### TEST"
   ]
  },
  {
   "cell_type": "code",
   "execution_count": 11,
   "id": "04f01d24-401d-411b-bc9e-a4612dbb2fc6",
   "metadata": {
    "ExecuteTime": {
     "end_time": "2024-03-05T21:50:05.515975300Z",
     "start_time": "2024-03-05T21:50:05.499121300Z"
    }
   },
   "outputs": [
    {
     "name": "stdout",
     "output_type": "stream",
     "text": [
      "torch.Size([10, 784]) torch.Size([1, 10])\n",
      "torch.Size([1, 10]) 1.0000001192092896\n"
     ]
    }
   ],
   "source": [
    "W, b = torch.randn((10, 28 * 28)), torch.zeros((1, 10))\n",
    "print(W.shape, b.shape)\n",
    "u = predict(x, W, b)\n",
    "print(u.shape, torch.sum(u).item())"
   ]
  },
  {
   "cell_type": "markdown",
   "id": "f417988d-95f1-4c87-86ad-ae3df68a756f",
   "metadata": {},
   "source": [
    "#### Loss Function"
   ]
  },
  {
   "cell_type": "code",
   "execution_count": 12,
   "id": "7aa23d20-608a-47cc-b73d-d75d71c69a3d",
   "metadata": {
    "ExecuteTime": {
     "end_time": "2024-03-05T21:50:05.518928400Z",
     "start_time": "2024-03-05T21:50:05.506123100Z"
    }
   },
   "outputs": [],
   "source": [
    "def loss_ce(y, uhat):\n",
    "    \"\"\"\n",
    "    y -- tensor with shape (nb,1) and possible values (0,1,2,3,4,5,6,7,8,9)\n",
    "    uhat -- tensor with shape (nb,10)\n",
    "    returns -- per sample loss \n",
    "    \"\"\"\n",
    "    batch_size = y.shape[0]\n",
    "    return -torch.log(uhat[torch.arange(batch_size), y[:]])\n",
    "\n",
    "\n",
    "def cost_ce(y, uhat):\n",
    "    \"\"\"\n",
    "    y -- tensor with shape (nb,1) and possible values (0,1,2,3,4,5,6,7,8,9)\n",
    "    uhat -- tensor with shape (nb,10)\n",
    "    return -- per batch mean of losses\n",
    "    \"\"\"\n",
    "    x = torch.mean(loss_ce(y, uhat))\n",
    "    return x\n"
   ]
  },
  {
   "cell_type": "markdown",
   "source": [
    "#### Accuracy"
   ],
   "metadata": {
    "collapsed": false
   },
   "id": "ae96d045e4f2494d"
  },
  {
   "cell_type": "code",
   "outputs": [],
   "source": [
    "def accuracy(Y, yhat):\n",
    "    predicted_labels = torch.argmax(yhat, dim=1)\n",
    "    correct_predictions = (predicted_labels == Y).float().sum().item()\n",
    "\n",
    "    return correct_predictions / Y.shape[0]"
   ],
   "metadata": {
    "collapsed": false,
    "ExecuteTime": {
     "end_time": "2024-03-05T21:50:05.555308200Z",
     "start_time": "2024-03-05T21:50:05.512601300Z"
    }
   },
   "id": "f53290beae93fc69",
   "execution_count": 13
  },
  {
   "cell_type": "markdown",
   "id": "ed4385a6-d5e7-4048-a3b7-40607e2d956d",
   "metadata": {},
   "source": [
    "##### TEST"
   ]
  },
  {
   "cell_type": "code",
   "execution_count": 14,
   "id": "13bafc12-db4b-4d2b-a048-ebd45366ba6f",
   "metadata": {
    "tags": [],
    "ExecuteTime": {
     "end_time": "2024-03-05T21:50:05.559839900Z",
     "start_time": "2024-03-05T21:50:05.517928600Z"
    }
   },
   "outputs": [
    {
     "name": "stdout",
     "output_type": "stream",
     "text": [
      "tensor([2.4076, 1.0986]) tensor(1.7531)\n"
     ]
    }
   ],
   "source": [
    "y = torch.tensor([0, 2])\n",
    "z = torch.tensor([[1., 2, 3], [2, 2, 2]]).reshape(-1, 3)\n",
    "uhat = softmax(z)\n",
    "print(loss_ce(y, uhat), cost_ce(y, uhat))"
   ]
  },
  {
   "cell_type": "markdown",
   "id": "0a4c00be-22f3-4f78-8079-21f455e83abc",
   "metadata": {},
   "source": [
    "### 3. Mini-Batch Gradient Descent\n",
    "\n",
    "For the training, we adopt gradient descent - and start with the implementation of the gradient of the cost function (cross-entropy cost function).  "
   ]
  },
  {
   "cell_type": "markdown",
   "id": "a3576b66-3fcd-4cff-b6a2-1e14d1ba7789",
   "metadata": {
    "tags": []
   },
   "source": [
    "#### Gradient"
   ]
  },
  {
   "cell_type": "code",
   "execution_count": 15,
   "id": "ad97d05e-9b97-4cef-ad74-728875a717b9",
   "metadata": {
    "tags": [],
    "ExecuteTime": {
     "end_time": "2024-03-05T21:50:05.666218300Z",
     "start_time": "2024-03-05T21:50:05.525143Z"
    }
   },
   "outputs": [],
   "source": [
    "def grad_loss_ce(x, u, uhat):\n",
    "    \"\"\"\n",
    "    x -- tensor with shape (nb,1, 28*28)\n",
    "    u -- tensor with shape (nb,10)\n",
    "    uhat -- tensor with shape (nb,10)\n",
    "    returns -- gradW, gradb (same dimension as W and b)\n",
    "    \"\"\"\n",
    "    gradW = torch.mean((uhat - u).view(-1, 10, 1) * x.view(-1, 1, 28 * 28), dim=0)\n",
    "    gradb = torch.mean((uhat - u), dim=0)\n",
    "    return gradW, gradb"
   ]
  },
  {
   "cell_type": "markdown",
   "id": "9101058b-0699-454b-bee0-bd4efb729575",
   "metadata": {
    "tags": []
   },
   "source": [
    "#### Metrics - Cost, Accuracy\n",
    "\n",
    "For tracking the progress of the training, we will use two functions: the cost and the accuracy. "
   ]
  },
  {
   "cell_type": "code",
   "execution_count": 16,
   "id": "ce2b90c5-e592-4d18-9a46-5323ca010e4e",
   "metadata": {
    "tags": [],
    "ExecuteTime": {
     "end_time": "2024-03-05T21:50:05.667128400Z",
     "start_time": "2024-03-05T21:50:05.531249500Z"
    }
   },
   "outputs": [],
   "source": [
    "def metrics(X, Y, W, b):\n",
    "    \"\"\"\n",
    "    X -- tensor with shape (nb,1,28*28)\n",
    "    Y -- tensor with shape (nb,10)\n",
    "    W -- tensor with shape (10,28*28)\n",
    "    b -- tensor with shape (10,1)\n",
    "    \n",
    "    return -- cost, acc (both scalars)\n",
    "    \"\"\"\n",
    "    pred = predict(X, W, b)\n",
    "    cost = cost_ce(Y, pred)\n",
    "    acc = accuracy(Y, pred)\n",
    "    return cost, acc"
   ]
  },
  {
   "cell_type": "markdown",
   "id": "b2e54eea-ddb0-41b0-a736-60924d2bec89",
   "metadata": {},
   "source": [
    "#### Training"
   ]
  },
  {
   "cell_type": "code",
   "execution_count": 17,
   "id": "1d62dcb8-5a8f-4ba4-a196-bad7cbb9d835",
   "metadata": {
    "ExecuteTime": {
     "end_time": "2024-03-05T21:50:05.697202500Z",
     "start_time": "2024-03-05T21:50:05.543776400Z"
    }
   },
   "outputs": [],
   "source": [
    "def learn_and_plot_results(number_epochs, learning_rate, batch_size, log_pre_epoch=False):\n",
    "    nclasses = 10\n",
    "    num_batches = len(training_data) / float(batch_size)\n",
    "    # data loader\n",
    "    train_dataloader = DataLoader(training_data, batch_size=batch_size, shuffle=True)\n",
    "    \n",
    "    Xtrain, Ytrain = next(iter(DataLoader(training_data, batch_size=60000)))\n",
    "\n",
    "    # test data - we can load all samples for the test since it easily fits into memory\n",
    "    Xtest, Ytest = next(iter(DataLoader(test_data, batch_size=10000, shuffle=True)))\n",
    "    \n",
    "\n",
    "    cost_hist = []\n",
    "    acc_hist = []\n",
    "    cost_hist_test = []\n",
    "    acc_hist_test = []\n",
    "    # initial parameters\n",
    "    W, b = torch.randn((10, 28 * 28)), torch.zeros((1, 10))\n",
    "\n",
    "    d0 = datetime.now()\n",
    "\n",
    "    print(\"Epoch:\", end=' ')\n",
    "\n",
    "    for epoch in range(1, number_epochs + 1):\n",
    "        print(epoch, end=' ,')\n",
    "        cost = 0.0\n",
    "        acc = 0\n",
    "        for X, Y in train_dataloader:\n",
    "            yhat = predict(X, W, b)\n",
    "            u = (Y.view(-1, 1) == torch.arange(nclasses).view(1, nclasses)).float()\n",
    "            dw, db = grad_loss_ce(X, u, yhat)\n",
    "            W = W - learning_rate * dw\n",
    "            b = b - learning_rate * db\n",
    "\n",
    "        pred = predict(Xtrain, W, b)\n",
    "        cost = cost_ce(Ytrain, pred)\n",
    "        cost_hist.append(cost.squeeze().item())\n",
    "        acc = accuracy(Ytrain, pred)\n",
    "        acc_hist.append(acc)\n",
    "\n",
    "        ypred = predict(Xtest, W, b)\n",
    "        cost_test = cost_ce(Ytest, ypred)\n",
    "        cost_hist_test.append(cost_test.squeeze().item())\n",
    "        acc_test = accuracy(Ytest, ypred)\n",
    "        acc_hist_test.append(acc_test)\n",
    "\n",
    "        if log_pre_epoch:\n",
    "            print(\"Epoch %i: train cost: %f, train acc: %f, test cost: %f, test acc: %f\" % (\n",
    "                epoch, cost, acc, cost_test, acc_test))\n",
    "\n",
    "    d = datetime.now()\n",
    "    print(\"Train duration per epoch: \", (d - d0).total_seconds() / number_epochs)\n",
    "\n",
    "    plt.figure(1, figsize=(10,5))\n",
    "    plt.plot(torch.arange(1, number_epochs + 1), cost_hist, label=\"Train cost\")\n",
    "    plt.plot(torch.arange(1, number_epochs + 1), cost_hist_test, label=\"Test cost\")\n",
    "    plt.xlabel(\"Epoch\")\n",
    "    plt.xticks(torch.arange(1, number_epochs + 1))\n",
    "    # plt.ylim(0, 1)\n",
    "    plt.legend()\n",
    "    plt.title(\"Cross-Entropy Cost\")\n",
    "\n",
    "    plt.figure(2, figsize=(10,5))\n",
    "    plt.plot(torch.arange(1, number_epochs + 1), acc_hist, label=\"Train accuracy\")\n",
    "    plt.plot(torch.arange(1, number_epochs + 1), acc_hist_test, label=\"Test accuracy\")\n",
    "    plt.xlabel(\"Epoch\")\n",
    "    plt.xlim(1, number_epochs)\n",
    "    plt.xticks(torch.arange(1, number_epochs + 1))\n",
    "    plt.ylim(0, 1)\n",
    "    plt.legend()\n",
    "    plt.title(\"Accuracy\")\n"
   ]
  },
  {
   "cell_type": "markdown",
   "id": "eb88ef77-207c-44a5-9fd1-541932f52ee9",
   "metadata": {},
   "source": [
    "### 4. Tune learning rate and batch size"
   ]
  },
  {
   "cell_type": "markdown",
   "id": "82fb5f7f-5217-4253-9a0e-5b8d65048503",
   "metadata": {},
   "source": [
    "Now analyse the training progress with five, well selected settings for each, the learning rate and the batch size.\n",
    "Make sure that for each setting, a more or less \"stable\" test performance is achieved, i.e. a status where the test accurace is no longer expected to improve. Choose the number of epochs accordingly."
   ]
  },
  {
   "cell_type": "markdown",
   "id": "579b5359-193b-44aa-8aee-13227f1655fd",
   "metadata": {},
   "source": [
    "Finally, prepare suitable plots and tables to make the comparison transparent and characterize in words what you observe. \n",
    "\n",
    "Explain the behavior."
   ]
  },
  {
   "cell_type": "markdown",
   "source": [
    "With the following parameters and a learning rate of 0.2 and a batch size of 6000 (which in this case is a full batch gradient descent) allows the model to learn well. "
   ],
   "metadata": {
    "collapsed": false
   },
   "id": "e5c4c5d389108152"
  },
  {
   "cell_type": "code",
   "outputs": [
    {
     "name": "stdout",
     "output_type": "stream",
     "text": [
      "Epoch: 1 ,2 ,3 ,4 ,5 ,6 ,7 ,8 ,9 ,10 ,11 ,12 ,13 ,14 ,15 ,16 ,17 ,18 ,19 ,20 ,21 ,22 ,23 ,24 ,25 ,26 ,27 ,28 ,29 ,30 ,31 ,32 ,33 ,34 ,35 ,36 ,37 ,38 ,39 ,40 ,41 ,42 ,43 ,44 ,45 ,46 ,47 ,48 ,49 ,50 ,51 ,52 ,53 ,54 ,55 ,56 ,57 ,58 ,59 ,60 ,61 ,62 ,63 ,64 ,65 ,66 ,67 ,68 ,69 ,70 ,Train duration per epoch:  5.3981352\n"
     ]
    },
    {
     "data": {
      "text/plain": "<Figure size 1000x500 with 1 Axes>",
      "image/png": "[encoded data removed]"
     },
     "metadata": {},
     "output_type": "display_data"
    },
    {
     "data": {
      "text/plain": "<Figure size 1000x500 with 1 Axes>",
      "image/png": "[encoded data removed]"
     },
     "metadata": {},
     "output_type": "display_data"
    }
   ],
   "source": [
    "# Full batch gradient descent\n",
    "learn_and_plot_results(number_epochs=70, learning_rate=0.2, batch_size=6000)"
   ],
   "metadata": {
    "ExecuteTime": {
     "end_time": "2024-03-05T21:56:29.946895500Z",
     "start_time": "2024-03-05T21:50:05.551309500Z"
    }
   },
   "id": "95c13ed4-c387-4141-a11e-3c14c70da3b5",
   "execution_count": 18
  },
  {
   "cell_type": "markdown",
   "source": [
    "With a batch size of 64 in every epoch the weights get adjusted around 93 times per epoch. So the model learns much faster after fewer epochs.\n",
    "Here the learning rate was reduced to lower learn slower over the mini-batches and epochs."
   ],
   "metadata": {
    "collapsed": false
   },
   "id": "1dabb3e4eae6f74a"
  },
  {
   "cell_type": "code",
   "outputs": [
    {
     "ename": "KeyboardInterrupt",
     "evalue": "",
     "output_type": "error",
     "traceback": [
      "\u001B[1;31m---------------------------------------------------------------------------\u001B[0m",
      "\u001B[1;31mKeyboardInterrupt\u001B[0m                         Traceback (most recent call last)",
      "Cell \u001B[1;32mIn[19], line 2\u001B[0m\n\u001B[0;32m      1\u001B[0m \u001B[38;5;66;03m# SGD\u001B[39;00m\n\u001B[1;32m----> 2\u001B[0m \u001B[43mlearn_and_plot_results\u001B[49m\u001B[43m(\u001B[49m\u001B[43mnumber_epochs\u001B[49m\u001B[38;5;241;43m=\u001B[39;49m\u001B[38;5;241;43m30\u001B[39;49m\u001B[43m,\u001B[49m\u001B[43m \u001B[49m\u001B[43mlearning_rate\u001B[49m\u001B[38;5;241;43m=\u001B[39;49m\u001B[38;5;241;43m0.01\u001B[39;49m\u001B[43m,\u001B[49m\u001B[43m \u001B[49m\u001B[43mbatch_size\u001B[49m\u001B[38;5;241;43m=\u001B[39;49m\u001B[38;5;241;43m64\u001B[39;49m\u001B[43m)\u001B[49m\n",
      "Cell \u001B[1;32mIn[17], line 7\u001B[0m, in \u001B[0;36mlearn_and_plot_results\u001B[1;34m(number_epochs, learning_rate, batch_size, log_pre_epoch)\u001B[0m\n\u001B[0;32m      4\u001B[0m \u001B[38;5;66;03m# data loader\u001B[39;00m\n\u001B[0;32m      5\u001B[0m train_dataloader \u001B[38;5;241m=\u001B[39m DataLoader(training_data, batch_size\u001B[38;5;241m=\u001B[39mbatch_size, shuffle\u001B[38;5;241m=\u001B[39m\u001B[38;5;28;01mTrue\u001B[39;00m)\n\u001B[1;32m----> 7\u001B[0m Xtrain, Ytrain \u001B[38;5;241m=\u001B[39m \u001B[38;5;28;43mnext\u001B[39;49m\u001B[43m(\u001B[49m\u001B[38;5;28;43miter\u001B[39;49m\u001B[43m(\u001B[49m\u001B[43mDataLoader\u001B[49m\u001B[43m(\u001B[49m\u001B[43mtraining_data\u001B[49m\u001B[43m,\u001B[49m\u001B[43m \u001B[49m\u001B[43mbatch_size\u001B[49m\u001B[38;5;241;43m=\u001B[39;49m\u001B[38;5;241;43m60000\u001B[39;49m\u001B[43m)\u001B[49m\u001B[43m)\u001B[49m\u001B[43m)\u001B[49m\n\u001B[0;32m      9\u001B[0m \u001B[38;5;66;03m# test data - we can load all samples for the test since it easily fits into memory\u001B[39;00m\n\u001B[0;32m     10\u001B[0m Xtest, Ytest \u001B[38;5;241m=\u001B[39m \u001B[38;5;28mnext\u001B[39m(\u001B[38;5;28miter\u001B[39m(DataLoader(test_data, batch_size\u001B[38;5;241m=\u001B[39m\u001B[38;5;241m10000\u001B[39m, shuffle\u001B[38;5;241m=\u001B[39m\u001B[38;5;28;01mTrue\u001B[39;00m)))\n",
      "File \u001B[1;32m~\\.virtualenvs\\TSM_DeLearn-4q_w-9nZ\\Lib\\site-packages\\torch\\utils\\data\\dataloader.py:631\u001B[0m, in \u001B[0;36m_BaseDataLoaderIter.__next__\u001B[1;34m(self)\u001B[0m\n\u001B[0;32m    628\u001B[0m \u001B[38;5;28;01mif\u001B[39;00m \u001B[38;5;28mself\u001B[39m\u001B[38;5;241m.\u001B[39m_sampler_iter \u001B[38;5;129;01mis\u001B[39;00m \u001B[38;5;28;01mNone\u001B[39;00m:\n\u001B[0;32m    629\u001B[0m     \u001B[38;5;66;03m# TODO(https://github.com/pytorch/pytorch/issues/76750)\u001B[39;00m\n\u001B[0;32m    630\u001B[0m     \u001B[38;5;28mself\u001B[39m\u001B[38;5;241m.\u001B[39m_reset()  \u001B[38;5;66;03m# type: ignore[call-arg]\u001B[39;00m\n\u001B[1;32m--> 631\u001B[0m data \u001B[38;5;241m=\u001B[39m \u001B[38;5;28;43mself\u001B[39;49m\u001B[38;5;241;43m.\u001B[39;49m\u001B[43m_next_data\u001B[49m\u001B[43m(\u001B[49m\u001B[43m)\u001B[49m\n\u001B[0;32m    632\u001B[0m \u001B[38;5;28mself\u001B[39m\u001B[38;5;241m.\u001B[39m_num_yielded \u001B[38;5;241m+\u001B[39m\u001B[38;5;241m=\u001B[39m \u001B[38;5;241m1\u001B[39m\n\u001B[0;32m    633\u001B[0m \u001B[38;5;28;01mif\u001B[39;00m \u001B[38;5;28mself\u001B[39m\u001B[38;5;241m.\u001B[39m_dataset_kind \u001B[38;5;241m==\u001B[39m _DatasetKind\u001B[38;5;241m.\u001B[39mIterable \u001B[38;5;129;01mand\u001B[39;00m \\\n\u001B[0;32m    634\u001B[0m         \u001B[38;5;28mself\u001B[39m\u001B[38;5;241m.\u001B[39m_IterableDataset_len_called \u001B[38;5;129;01mis\u001B[39;00m \u001B[38;5;129;01mnot\u001B[39;00m \u001B[38;5;28;01mNone\u001B[39;00m \u001B[38;5;129;01mand\u001B[39;00m \\\n\u001B[0;32m    635\u001B[0m         \u001B[38;5;28mself\u001B[39m\u001B[38;5;241m.\u001B[39m_num_yielded \u001B[38;5;241m>\u001B[39m \u001B[38;5;28mself\u001B[39m\u001B[38;5;241m.\u001B[39m_IterableDataset_len_called:\n",
      "File \u001B[1;32m~\\.virtualenvs\\TSM_DeLearn-4q_w-9nZ\\Lib\\site-packages\\torch\\utils\\data\\dataloader.py:675\u001B[0m, in \u001B[0;36m_SingleProcessDataLoaderIter._next_data\u001B[1;34m(self)\u001B[0m\n\u001B[0;32m    673\u001B[0m \u001B[38;5;28;01mdef\u001B[39;00m \u001B[38;5;21m_next_data\u001B[39m(\u001B[38;5;28mself\u001B[39m):\n\u001B[0;32m    674\u001B[0m     index \u001B[38;5;241m=\u001B[39m \u001B[38;5;28mself\u001B[39m\u001B[38;5;241m.\u001B[39m_next_index()  \u001B[38;5;66;03m# may raise StopIteration\u001B[39;00m\n\u001B[1;32m--> 675\u001B[0m     data \u001B[38;5;241m=\u001B[39m \u001B[38;5;28;43mself\u001B[39;49m\u001B[38;5;241;43m.\u001B[39;49m\u001B[43m_dataset_fetcher\u001B[49m\u001B[38;5;241;43m.\u001B[39;49m\u001B[43mfetch\u001B[49m\u001B[43m(\u001B[49m\u001B[43mindex\u001B[49m\u001B[43m)\u001B[49m  \u001B[38;5;66;03m# may raise StopIteration\u001B[39;00m\n\u001B[0;32m    676\u001B[0m     \u001B[38;5;28;01mif\u001B[39;00m \u001B[38;5;28mself\u001B[39m\u001B[38;5;241m.\u001B[39m_pin_memory:\n\u001B[0;32m    677\u001B[0m         data \u001B[38;5;241m=\u001B[39m _utils\u001B[38;5;241m.\u001B[39mpin_memory\u001B[38;5;241m.\u001B[39mpin_memory(data, \u001B[38;5;28mself\u001B[39m\u001B[38;5;241m.\u001B[39m_pin_memory_device)\n",
      "File \u001B[1;32m~\\.virtualenvs\\TSM_DeLearn-4q_w-9nZ\\Lib\\site-packages\\torch\\utils\\data\\_utils\\fetch.py:51\u001B[0m, in \u001B[0;36m_MapDatasetFetcher.fetch\u001B[1;34m(self, possibly_batched_index)\u001B[0m\n\u001B[0;32m     49\u001B[0m         data \u001B[38;5;241m=\u001B[39m \u001B[38;5;28mself\u001B[39m\u001B[38;5;241m.\u001B[39mdataset\u001B[38;5;241m.\u001B[39m__getitems__(possibly_batched_index)\n\u001B[0;32m     50\u001B[0m     \u001B[38;5;28;01melse\u001B[39;00m:\n\u001B[1;32m---> 51\u001B[0m         data \u001B[38;5;241m=\u001B[39m [\u001B[38;5;28;43mself\u001B[39;49m\u001B[38;5;241;43m.\u001B[39;49m\u001B[43mdataset\u001B[49m\u001B[43m[\u001B[49m\u001B[43midx\u001B[49m\u001B[43m]\u001B[49m \u001B[38;5;28;01mfor\u001B[39;00m idx \u001B[38;5;129;01min\u001B[39;00m possibly_batched_index]\n\u001B[0;32m     52\u001B[0m \u001B[38;5;28;01melse\u001B[39;00m:\n\u001B[0;32m     53\u001B[0m     data \u001B[38;5;241m=\u001B[39m \u001B[38;5;28mself\u001B[39m\u001B[38;5;241m.\u001B[39mdataset[possibly_batched_index]\n",
      "File \u001B[1;32m~\\.virtualenvs\\TSM_DeLearn-4q_w-9nZ\\Lib\\site-packages\\torchvision\\datasets\\mnist.py:145\u001B[0m, in \u001B[0;36mMNIST.__getitem__\u001B[1;34m(self, index)\u001B[0m\n\u001B[0;32m    142\u001B[0m img \u001B[38;5;241m=\u001B[39m Image\u001B[38;5;241m.\u001B[39mfromarray(img\u001B[38;5;241m.\u001B[39mnumpy(), mode\u001B[38;5;241m=\u001B[39m\u001B[38;5;124m\"\u001B[39m\u001B[38;5;124mL\u001B[39m\u001B[38;5;124m\"\u001B[39m)\n\u001B[0;32m    144\u001B[0m \u001B[38;5;28;01mif\u001B[39;00m \u001B[38;5;28mself\u001B[39m\u001B[38;5;241m.\u001B[39mtransform \u001B[38;5;129;01mis\u001B[39;00m \u001B[38;5;129;01mnot\u001B[39;00m \u001B[38;5;28;01mNone\u001B[39;00m:\n\u001B[1;32m--> 145\u001B[0m     img \u001B[38;5;241m=\u001B[39m \u001B[38;5;28;43mself\u001B[39;49m\u001B[38;5;241;43m.\u001B[39;49m\u001B[43mtransform\u001B[49m\u001B[43m(\u001B[49m\u001B[43mimg\u001B[49m\u001B[43m)\u001B[49m\n\u001B[0;32m    147\u001B[0m \u001B[38;5;28;01mif\u001B[39;00m \u001B[38;5;28mself\u001B[39m\u001B[38;5;241m.\u001B[39mtarget_transform \u001B[38;5;129;01mis\u001B[39;00m \u001B[38;5;129;01mnot\u001B[39;00m \u001B[38;5;28;01mNone\u001B[39;00m:\n\u001B[0;32m    148\u001B[0m     target \u001B[38;5;241m=\u001B[39m \u001B[38;5;28mself\u001B[39m\u001B[38;5;241m.\u001B[39mtarget_transform(target)\n",
      "File \u001B[1;32m~\\.virtualenvs\\TSM_DeLearn-4q_w-9nZ\\Lib\\site-packages\\torchvision\\transforms\\transforms.py:137\u001B[0m, in \u001B[0;36mToTensor.__call__\u001B[1;34m(self, pic)\u001B[0m\n\u001B[0;32m    129\u001B[0m \u001B[38;5;28;01mdef\u001B[39;00m \u001B[38;5;21m__call__\u001B[39m(\u001B[38;5;28mself\u001B[39m, pic):\n\u001B[0;32m    130\u001B[0m \u001B[38;5;250m    \u001B[39m\u001B[38;5;124;03m\"\"\"\u001B[39;00m\n\u001B[0;32m    131\u001B[0m \u001B[38;5;124;03m    Args:\u001B[39;00m\n\u001B[0;32m    132\u001B[0m \u001B[38;5;124;03m        pic (PIL Image or numpy.ndarray): Image to be converted to tensor.\u001B[39;00m\n\u001B[1;32m   (...)\u001B[0m\n\u001B[0;32m    135\u001B[0m \u001B[38;5;124;03m        Tensor: Converted image.\u001B[39;00m\n\u001B[0;32m    136\u001B[0m \u001B[38;5;124;03m    \"\"\"\u001B[39;00m\n\u001B[1;32m--> 137\u001B[0m     \u001B[38;5;28;01mreturn\u001B[39;00m \u001B[43mF\u001B[49m\u001B[38;5;241;43m.\u001B[39;49m\u001B[43mto_tensor\u001B[49m\u001B[43m(\u001B[49m\u001B[43mpic\u001B[49m\u001B[43m)\u001B[49m\n",
      "File \u001B[1;32m~\\.virtualenvs\\TSM_DeLearn-4q_w-9nZ\\Lib\\site-packages\\torchvision\\transforms\\functional.py:173\u001B[0m, in \u001B[0;36mto_tensor\u001B[1;34m(pic)\u001B[0m\n\u001B[0;32m    171\u001B[0m img \u001B[38;5;241m=\u001B[39m img\u001B[38;5;241m.\u001B[39mview(pic\u001B[38;5;241m.\u001B[39msize[\u001B[38;5;241m1\u001B[39m], pic\u001B[38;5;241m.\u001B[39msize[\u001B[38;5;241m0\u001B[39m], F_pil\u001B[38;5;241m.\u001B[39mget_image_num_channels(pic))\n\u001B[0;32m    172\u001B[0m \u001B[38;5;66;03m# put it from HWC to CHW format\u001B[39;00m\n\u001B[1;32m--> 173\u001B[0m img \u001B[38;5;241m=\u001B[39m \u001B[43mimg\u001B[49m\u001B[38;5;241;43m.\u001B[39;49m\u001B[43mpermute\u001B[49m\u001B[43m(\u001B[49m\u001B[43m(\u001B[49m\u001B[38;5;241;43m2\u001B[39;49m\u001B[43m,\u001B[49m\u001B[43m \u001B[49m\u001B[38;5;241;43m0\u001B[39;49m\u001B[43m,\u001B[49m\u001B[43m \u001B[49m\u001B[38;5;241;43m1\u001B[39;49m\u001B[43m)\u001B[49m\u001B[43m)\u001B[49m\u001B[38;5;241m.\u001B[39mcontiguous()\n\u001B[0;32m    174\u001B[0m \u001B[38;5;28;01mif\u001B[39;00m \u001B[38;5;28misinstance\u001B[39m(img, torch\u001B[38;5;241m.\u001B[39mByteTensor):\n\u001B[0;32m    175\u001B[0m     \u001B[38;5;28;01mreturn\u001B[39;00m img\u001B[38;5;241m.\u001B[39mto(dtype\u001B[38;5;241m=\u001B[39mdefault_float_dtype)\u001B[38;5;241m.\u001B[39mdiv(\u001B[38;5;241m255\u001B[39m)\n",
      "\u001B[1;31mKeyboardInterrupt\u001B[0m: "
     ]
    }
   ],
   "source": [
    "# SGD\n",
    "learn_and_plot_results(number_epochs=30, learning_rate=0.01, batch_size=64)"
   ],
   "metadata": {
    "collapsed": false,
    "ExecuteTime": {
     "end_time": "2024-03-05T21:56:33.150357400Z",
     "start_time": "2024-03-05T21:56:29.947896500Z"
    }
   },
   "id": "5c9f989545969d68",
   "execution_count": 19
  },
  {
   "cell_type": "markdown",
   "source": [
    "Here the batch size was doubled and we see that it takes longer, till the accuracy of the model increases."
   ],
   "metadata": {
    "collapsed": false
   },
   "id": "22f7661e43d0fdec"
  },
  {
   "cell_type": "code",
   "outputs": [],
   "source": [
    "learn_and_plot_results(number_epochs=20, learning_rate=0.01, batch_size=128)"
   ],
   "metadata": {
    "collapsed": false,
    "ExecuteTime": {
     "end_time": "2024-03-05T21:56:33.156878400Z",
     "start_time": "2024-03-05T21:56:33.150357400Z"
    }
   },
   "id": "1a4437a0fb0ef422",
   "execution_count": null
  },
  {
   "cell_type": "markdown",
   "source": [
    "Here the batch size is again bigger so the learning rate was increased.\n",
    "With a batch size of 1024 the weights are approx. adjusted 6 times per epoch."
   ],
   "metadata": {
    "collapsed": false
   },
   "id": "3e661247c63d0a71"
  },
  {
   "cell_type": "code",
   "outputs": [],
   "source": [
    "learn_and_plot_results(number_epochs=20, learning_rate=0.05, batch_size=1024)"
   ],
   "metadata": {
    "collapsed": false,
    "ExecuteTime": {
     "start_time": "2024-03-05T21:56:33.151863600Z"
    }
   },
   "id": "536ae04db8b7881",
   "execution_count": null
  },
  {
   "cell_type": "code",
   "outputs": [],
   "source": [
    "learn_and_plot_results(number_epochs=50, learning_rate=0.1, batch_size=2048)"
   ],
   "metadata": {
    "collapsed": false,
    "ExecuteTime": {
     "start_time": "2024-03-05T21:56:33.153871200Z"
    }
   },
   "id": "eb40be036fce40c0",
   "execution_count": null
  },
  {
   "cell_type": "markdown",
   "id": "1e43eb8b-f5f8-4e2f-8338-79d142581b52",
   "metadata": {},
   "source": [
    "### 5. With Full-Fledge PyTorch"
   ]
  },
  {
   "cell_type": "code",
   "execution_count": null,
   "id": "ef3daa6e-134a-45da-9e79-5d71d328e6bd",
   "metadata": {
    "ExecuteTime": {
     "start_time": "2024-03-05T21:56:33.155878Z"
    }
   },
   "outputs": [],
   "source": [
    "class NeuralNetwork(torch.nn.Module):\n",
    "\n",
    "    def __init__(self):\n",
    "        super(NeuralNetwork, self).__init__()\n",
    "        self.flatten = torch.nn.Flatten()\n",
    "        self.linear = torch.nn.Linear(28 * 28, 10)\n",
    "\n",
    "    def forward(self, x):  # use just one linear layer and pytorch's CrossEntropyLoss\n",
    "       return self.linear(self.flatten(x))"
   ]
  },
  {
   "cell_type": "code",
   "outputs": [],
   "source": [
    "model = NeuralNetwork()"
   ],
   "metadata": {
    "collapsed": false,
    "ExecuteTime": {
     "end_time": "2024-03-05T21:56:33.157876400Z",
     "start_time": "2024-03-05T21:56:33.156878400Z"
    }
   },
   "id": "09ef1a08-ecac-4a33-be14-bc8fe3d081fe",
   "execution_count": null
  },
  {
   "cell_type": "code",
   "outputs": [],
   "source": [
    "summary(model, (1, 28, 28)) "
   ],
   "metadata": {
    "collapsed": false,
    "ExecuteTime": {
     "end_time": "2024-03-05T21:56:33.158876Z",
     "start_time": "2024-03-05T21:56:33.157876400Z"
    }
   },
   "id": "4e79c33e-ca98-4df2-b887-c30cb02ae503",
   "execution_count": null
  },
  {
   "cell_type": "code",
   "execution_count": null,
   "id": "d7823a99-4f08-4c86-9dde-459d19e861d2",
   "metadata": {
    "ExecuteTime": {
     "end_time": "2024-03-05T21:56:33.160875600Z",
     "start_time": "2024-03-05T21:56:33.158876Z"
    }
   },
   "outputs": [],
   "source": [
    "model = NeuralNetwork()\n",
    "\n",
    "nbatch = 64\n",
    "nepochs = 5\n",
    "learning_rate = 0.01\n",
    "\n",
    "cost_hist = []\n",
    "cost_hist_test = []\n",
    "acc_hist = []\n",
    "acc_hist_test = []\n",
    "\n",
    "cost_ce = torch.nn.CrossEntropyLoss()\n",
    "optimizer = torch.optim.SGD(model.parameters(), lr=learning_rate)\n",
    "\n",
    "training_loader = DataLoader(training_data, batch_size=nbatch, shuffle=True)\n",
    "test_loader = DataLoader(test_data, batch_size=10000, shuffle=True)\n",
    "size = len(training_loader.dataset)\n",
    "nbatches = len(training_loader)\n",
    "training_loader_full_batch = DataLoader(training_data, batch_size=size)\n",
    "\n",
    "for epoch in range(1,nepochs+1):\n",
    "    cost, acc = 0.0, 0.0\n",
    "    i = 0\n",
    "    for batch, (X, Y) in enumerate(training_loader):\n",
    "        pred = model(X)\n",
    "        loss = cost_ce(pred, Y)\n",
    "        \n",
    "        # gradient, parameter update\n",
    "        optimizer.zero_grad()\n",
    "        loss.backward()\n",
    "        optimizer.step()\n",
    "    \n",
    "    for (X, Y) in training_loader_full_batch:\n",
    "        pred = model(X)\n",
    "        loss = cost_ce(pred, Y)\n",
    "        cost_hist.append(loss.item())\n",
    "        acc_hist.append((pred.argmax(dim=1) == Y).type(torch.float).sum().item() / X.shape[0])\n",
    "        \n",
    "    with torch.no_grad():\n",
    "        for X, Y in test_loader:\n",
    "            pred = model(X)\n",
    "            cost_test = cost_ce(pred, Y).item()\n",
    "            acc_test = (pred.argmax(dim=1) == Y).type(torch.float).sum().item() / len(test_loader.dataset)\n",
    "            cost_hist_test.append(cost_test)\n",
    "            acc_hist_test.append(acc_test)\n",
    "\n",
    "    print(\"Epoch %i: Test cost: %f, Test acc: %f\" % (epoch, cost_test, acc_test))"
   ]
  },
  {
   "cell_type": "code",
   "execution_count": null,
   "id": "fc4695d3-4b2b-4304-ae4e-9c8eb1f44cf3",
   "metadata": {
    "ExecuteTime": {
     "start_time": "2024-03-05T21:56:33.159875800Z"
    }
   },
   "outputs": [],
   "source": [
    "plt.figure(1)\n",
    "plt.plot(torch.arange(1,nepochs+1), cost_hist, \"-\", label=\"Training\")\n",
    "plt.plot(torch.arange(1,nepochs+1), cost_hist_test, \"r-\", label=\"Test\")\n",
    "plt.xlabel(\"Epoch\")\n",
    "plt.xlim(1, nepochs)\n",
    "plt.xticks(torch.arange(1, nepochs + 1))\n",
    "plt.ylim(0, 1)\n",
    "plt.title(\"Cross-Entropy Cost\")\n",
    "plt.legend()\n",
    "\n",
    "plt.figure(2)\n",
    "plt.plot(torch.arange(1,nepochs+1), acc_hist, \"-\", label=\"Training\")\n",
    "plt.plot(torch.arange(1,nepochs+1), acc_hist_test, \"r-\", label=\"Test\")\n",
    "plt.xlabel(\"Epoch\")\n",
    "plt.xlim(1, nepochs)\n",
    "plt.xticks(torch.arange(1, nepochs + 1))\n",
    "plt.ylim(0.8, 1)\n",
    "plt.title(\"Accuracy\")\n",
    "plt.legend()"
   ]
  }
 ],
 "metadata": {
  "kernelspec": {
   "display_name": "Python 3 (ipykernel)",
   "language": "python",
   "name": "python3"
  },
  "language_info": {
   "codemirror_mode": {
    "name": "ipython",
    "version": 3
   },
   "file_extension": ".py",
   "mimetype": "text/x-python",
   "name": "python",
   "nbconvert_exporter": "python",
   "pygments_lexer": "ipython3",
   "version": "3.11.5"
  }
 },
 "nbformat": 4,
 "nbformat_minor": 5
}
