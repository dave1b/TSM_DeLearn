{
 "cells": [
  {
   "cell_type": "code",
   "execution_count": null,
   "id": "7ef52aa8-c74f-450e-ac70-01905d511493",
   "metadata": {
    "id": "7ef52aa8-c74f-450e-ac70-01905d511493"
   },
   "outputs": [],
   "source": [
    "import torch\n",
    "import numpy as np\n",
    "import matplotlib.pyplot as plt"
   ]
  },
  {
   "cell_type": "markdown",
   "id": "98670d0a-08fb-4645-887b-4eb5d02cff00",
   "metadata": {
    "id": "98670d0a-08fb-4645-887b-4eb5d02cff00",
    "tags": []
   },
   "source": [
    "## Linear Regression\n",
    "\n",
    "Using the rent prices from appartments in Lausanne from PW 02, restricting to the feature living area.\n",
    "\n",
    "1. Load data and normalise them - as already implemented in the notebook.\n",
    "2. Reproduce the closed-form solution (of the normal equations) from PW01 (based on pytorch tensors).\n",
    "3. Implement (full batch) GD for linear regression - by using pytorch tensors. Don't use automatic differentiation, but implement the formulas for the gradient explicitly. Make sure that the your GD descent algorithm works correctly by checking that the solution gradually approaches the correct solution as computed in the first step (within numerical precision). Plot estimated MSE cost vs the number of epochs with matplotlib (\"loss curve\").\n",
    "4. Play with different learning rates. Compare the trainings on the basis of the associated loss curves. Describe what you see and interpret what is going on. What is the maximal learning rate that you can use? What happens when choosing a larger learning rate?    \n",
    "5. Solve the linear regression problem by using pytorch's autograd functionality.     "
   ]
  },
  {
   "cell_type": "markdown",
   "id": "36e7b01d-251c-4b7a-b576-eade9eecef17",
   "metadata": {},
   "source": [
    "### 1. Load Data and Normalize"
   ]
  },
  {
   "cell_type": "code",
   "execution_count": null,
   "id": "275b5e04-7dbc-461d-9e63-c4e1c3852c57",
   "metadata": {
    "id": "275b5e04-7dbc-461d-9e63-c4e1c3852c57",
    "outputId": "10e340cf-f21b-4c72-85e8-e09ff99ac16d"
   },
   "outputs": [
    {
     "data": {
      "text/html": [
       "<div>\n",
       "<style scoped>\n",
       "    .dataframe tbody tr th:only-of-type {\n",
       "        vertical-align: middle;\n",
       "    }\n",
       "\n",
       "    .dataframe tbody tr th {\n",
       "        vertical-align: top;\n",
       "    }\n",
       "\n",
       "    .dataframe thead th {\n",
       "        text-align: right;\n",
       "    }\n",
       "</style>\n",
       "<table border=\"1\" class=\"dataframe\">\n",
       "  <thead>\n",
       "    <tr style=\"text-align: right;\">\n",
       "      <th></th>\n",
       "      <th>living_area</th>\n",
       "      <th>nb_rooms</th>\n",
       "      <th>rent_price</th>\n",
       "    </tr>\n",
       "  </thead>\n",
       "  <tbody>\n",
       "    <tr>\n",
       "      <th>0</th>\n",
       "      <td>69</td>\n",
       "      <td>3.0</td>\n",
       "      <td>1810</td>\n",
       "    </tr>\n",
       "    <tr>\n",
       "      <th>1</th>\n",
       "      <td>95</td>\n",
       "      <td>3.5</td>\n",
       "      <td>2945</td>\n",
       "    </tr>\n",
       "    <tr>\n",
       "      <th>2</th>\n",
       "      <td>21</td>\n",
       "      <td>1.5</td>\n",
       "      <td>685</td>\n",
       "    </tr>\n",
       "    <tr>\n",
       "      <th>3</th>\n",
       "      <td>20</td>\n",
       "      <td>1.0</td>\n",
       "      <td>720</td>\n",
       "    </tr>\n",
       "    <tr>\n",
       "      <th>4</th>\n",
       "      <td>33</td>\n",
       "      <td>1.5</td>\n",
       "      <td>830</td>\n",
       "    </tr>\n",
       "  </tbody>\n",
       "</table>\n",
       "</div>"
      ],
      "text/plain": [
       "   living_area  nb_rooms  rent_price\n",
       "0           69       3.0        1810\n",
       "1           95       3.5        2945\n",
       "2           21       1.5         685\n",
       "3           20       1.0         720\n",
       "4           33       1.5         830"
      ]
     },
     "execution_count": 19,
     "metadata": {},
     "output_type": "execute_result"
    }
   ],
   "source": [
    "import pandas as pd\n",
    "df = pd.read_csv(\"./data/lausanne-appart.csv\")\n",
    "N  = df.shape[0]\n",
    "df.head()"
   ]
  },
  {
   "cell_type": "code",
   "execution_count": null,
   "id": "418ab33a-b905-4b9c-aff9-aa0e48bf9a6d",
   "metadata": {
    "id": "418ab33a-b905-4b9c-aff9-aa0e48bf9a6d"
   },
   "outputs": [],
   "source": [
    "x0 = df.values[:,0]\n",
    "x = (x0-np.mean(x0))/np.std(x0)\n",
    "y0 = df.values[:,2]\n",
    "y = (y0-np.mean(y0))/np.std(y0)"
   ]
  },
  {
   "cell_type": "code",
   "execution_count": null,
   "id": "9d2ef6f7-79d0-49a1-b60c-406b7ae95bce",
   "metadata": {
    "id": "9d2ef6f7-79d0-49a1-b60c-406b7ae95bce",
    "outputId": "2e24f570-54fa-4300-9aed-0d30b4e15213"
   },
   "outputs": [
    {
     "data": {
      "text/plain": [
       "Text(0, 0.5, 'rent_price')"
      ]
     },
     "execution_count": 59,
     "metadata": {},
     "output_type": "execute_result"
    },
    {
     "data": {
      "image/png": "[encoded data removed]",
      "text/plain": [
       "<Figure size 432x288 with 1 Axes>"
      ]
     },
     "metadata": {
      "needs_background": "light"
     },
     "output_type": "display_data"
    }
   ],
   "source": [
    "plt.plot(x, y,\"+\")\n",
    "plt.xlabel(\"living_area\")\n",
    "plt.ylabel(\"rent_price\")"
   ]
  },
  {
   "cell_type": "markdown",
   "id": "cf95eefb-3767-4884-a799-7617e9428a5c",
   "metadata": {
    "id": "cf95eefb-3767-4884-a799-7617e9428a5c",
    "tags": []
   },
   "source": [
    "### 2. Linear Model, Normal Equations and Solution\n",
    "\n",
    "We denote the observed rent by $y_j$ (at time $x_j$) and the model rent by $\\hat{y}_j$ we assume \n",
    "\n",
    "$\\qquad \\hat{y}_j = \\alpha + \\beta x_j$\n",
    "\n",
    "By minimizing the mean squares error\n",
    "\n",
    "$\\qquad C = \\frac{1}{2N}\\sum_j \\left(y_j-\\hat{y}_j\\right)^2 = C(\\alpha,\\beta)$\n",
    "\n",
    "we can fit the straigth line as follows by using the design matrix $X$ and the data vector $Y$, defined by \n",
    "\n",
    "$\\qquad X = \\left(\\begin{array}{cc} 1 & x_0 \\\\ 1 & x_1 \\\\ \\vdots & \\vdots \\\\ 1 & x_{N-1}\\end{array}\\right), \\qquad Y = \\left(\\begin{array}{c} y_0\\\\ \\vdots \\\\ y_{N-1}\\end{array}\\right)$\n",
    "\n",
    "We find \n",
    "\n",
    "$\\qquad \\left(\\begin{array}{c}\\alpha \\\\ \\beta\\end{array}\\right) = \\left(X^T\\cdot X\\right)^{-1}\\cdot X^T\\cdot Y$\n",
    "\n",
    "Hence, here we can easily compute the (linear) model which best fits the training data in the sense of obtaining a minimal mean square error. \n",
    "\n",
    "#### Solution of Normal Equations in Pytorch"
   ]
  },
  {
   "cell_type": "code",
   "execution_count": null,
   "id": "76f0b32a-fd22-4a94-b923-8714538a0204",
   "metadata": {
    "id": "76f0b32a-fd22-4a94-b923-8714538a0204",
    "outputId": "8595b98c-aeb2-456c-a5a0-066f8f87ef2b"
   },
   "outputs": [
    {
     "name": "stdout",
     "output_type": "stream",
     "text": [
      "tensor([[-1.9602e-16],\n",
      "        [ 9.0425e-01]], dtype=torch.float64)\n"
     ]
    },
    {
     "data": {
      "image/png": "[encoded data removed]",
      "text/plain": [
       "<Figure size 432x288 with 1 Axes>"
      ]
     },
     "metadata": {
      "needs_background": "light"
     },
     "output_type": "display_data"
    }
   ],
   "source": [
    "N = x.size\n",
    "\n",
    "# YOUR CODE (START)\n",
    "# compose torch tensors X,Y of shape (N,2) and (N,1) respectively\n",
    "X = ...\n",
    "Y = ...\n",
    "\n",
    "# solution of normal equations, 'a' a torch tensor of shape (2,1) that contains parameters alpha and beta, which shall be optimized\n",
    "a_exact = ...\n",
    "\n",
    "# prediction\n",
    "Yhat = ...\n",
    "\n",
    "# YOUR CODE (END)\n",
    "\n",
    "# plot\n",
    "plt.plot(X[:,1],Y,\"+\")\n",
    "plt.plot(X[:,1],Yhat,'r')\n",
    "plt.xlabel(\"living_area\")\n",
    "plt.ylabel(\"rent_price\")\n",
    "print(a_exact)"
   ]
  },
  {
   "cell_type": "markdown",
   "id": "001ee159-8063-4bec-a6ee-d914dde52e8b",
   "metadata": {
    "id": "001ee159-8063-4bec-a6ee-d914dde52e8b"
   },
   "source": [
    "Note that with the pytorch function `torch.lstsq` you can obtain the same."
   ]
  },
  {
   "cell_type": "markdown",
   "id": "5921164c-10c3-4a34-b912-98eff6f39055",
   "metadata": {
    "id": "5921164c-10c3-4a34-b912-98eff6f39055"
   },
   "source": [
    "#### Cost"
   ]
  },
  {
   "cell_type": "code",
   "execution_count": null,
   "id": "c9a96c63-e392-4b15-a825-d3c7cc9d2ee3",
   "metadata": {
    "id": "c9a96c63-e392-4b15-a825-d3c7cc9d2ee3"
   },
   "outputs": [],
   "source": [
    "def cost(X,Y,a):\n",
    "    # YOUR CODE (START)\n",
    "    return ...\n",
    "    # YOUR CODE (END)"
   ]
  },
  {
   "cell_type": "code",
   "execution_count": null,
   "id": "be8f5f66-c77f-4aa2-9076-1ab63a03d26d",
   "metadata": {
    "id": "be8f5f66-c77f-4aa2-9076-1ab63a03d26d",
    "outputId": "69582764-fa98-4c1a-a968-f1ea95e42442"
   },
   "outputs": [
    {
     "name": "stdout",
     "output_type": "stream",
     "text": [
      "0.18233305879162032\n"
     ]
    }
   ],
   "source": [
    "min_cost = cost(X,Y,a_exact)\n",
    "print(min_cost)"
   ]
  },
  {
   "cell_type": "markdown",
   "id": "080abc04-2954-40bb-aafd-c404a34b364c",
   "metadata": {
    "id": "080abc04-2954-40bb-aafd-c404a34b364c"
   },
   "source": [
    "### 3. Gradient Descent"
   ]
  },
  {
   "cell_type": "markdown",
   "id": "14517b30-82e0-4a90-9998-7abe35db7d4f",
   "metadata": {
    "id": "14517b30-82e0-4a90-9998-7abe35db7d4f"
   },
   "source": [
    "Specify the gradient of the cost (w.r.t. $\\alpha, \\beta$) here as maths expression."
   ]
  },
  {
   "cell_type": "code",
   "execution_count": null,
   "id": "1238b8a4-2d2a-4142-955c-7ea6cb860e0a",
   "metadata": {
    "id": "1238b8a4-2d2a-4142-955c-7ea6cb860e0a"
   },
   "outputs": [],
   "source": [
    "def gradient_cost(X,Y,a):\n",
    "    # YOUR CODE (START)\n",
    "    return ...\n",
    "    # YOUR CODE (END)"
   ]
  },
  {
   "cell_type": "code",
   "execution_count": null,
   "id": "2eda460e-e91f-4f07-b591-4bdaa6becdfd",
   "metadata": {
    "id": "2eda460e-e91f-4f07-b591-4bdaa6becdfd",
    "outputId": "016b8821-9fcd-4542-aae2-b716c560243b"
   },
   "outputs": [
    {
     "data": {
      "text/plain": [
       "[<matplotlib.lines.Line2D at 0x7fa385ce3040>]"
      ]
     },
     "execution_count": 83,
     "metadata": {},
     "output_type": "execute_result"
    },
    {
     "data": {
      "image/png": "[encoded data removed]",
      "text/plain": [
       "<Figure size 432x288 with 1 Axes>"
      ]
     },
     "metadata": {
      "needs_background": "light"
     },
     "output_type": "display_data"
    }
   ],
   "source": [
    "# adjust if needed\n",
    "nepochs = 100\n",
    "lr = 0.1\n",
    "\n",
    "## initial parameter\n",
    "a = torch.tensor([0.0,0.0], dtype=torch.float64).reshape(2,1)\n",
    "\n",
    "# track the costs\n",
    "costs = []\n",
    "\n",
    "# YOUR CODE (START)\n",
    "\n",
    "# loop over the epochs: update parameter values, compute the cost and add it to the costs list\n",
    "for epoch in range(nepochs):\n",
    "    costs.append(cost(X,Y,a))\n",
    "    a = ...\n",
    "\n",
    "costs.append(cost(X,Y,a))\n",
    "    \n",
    "# YOUR CODE (END)\n",
    "    \n",
    "# some output\n",
    "cost_gd = costs[-1]\n",
    "plt.plot(range(nepochs+1),costs)\n",
    "plt.plot(range(nepochs+1),cost_closed_form*torch.ones(nepochs+1))"
   ]
  },
  {
   "cell_type": "markdown",
   "id": "b7fc7cf8-ffbd-4d78-a015-7cf2c540ad4c",
   "metadata": {
    "id": "b7fc7cf8-ffbd-4d78-a015-7cf2c540ad4c"
   },
   "source": [
    "### 4. Different Learning Rates\n",
    "\n",
    "Play with different learning rates: Explore for what learning rates \n",
    "- the learning is most efficient\n",
    "- the learning yet works\n",
    "- the learning does not work anymore (learning rate too large)\n",
    "\n",
    "Explain the different scenarios."
   ]
  },
  {
   "cell_type": "markdown",
   "id": "37aa8fd6-d837-4820-9a5d-9dd1a065e6c8",
   "metadata": {
    "id": "e37238ff-7326-465e-8139-b12bcb5e9cdc"
   },
   "source": [
    "### 5. Use PyTorch's autograd"
   ]
  },
  {
   "cell_type": "code",
   "execution_count": null,
   "id": "bc1ef39c-a397-4c78-9949-e49ed1fb6552",
   "metadata": {},
   "outputs": [],
   "source": []
  }
 ],
 "metadata": {
  "colab": {
   "name": "pw02_lin_regression_GD_stud.ipynb",
   "provenance": []
  },
  "kernelspec": {
   "display_name": "Python 3 (ipykernel)",
   "language": "python",
   "name": "python3"
  },
  "language_info": {
   "codemirror_mode": {
    "name": "ipython",
    "version": 3
   },
   "file_extension": ".py",
   "mimetype": "text/x-python",
   "name": "python",
   "nbconvert_exporter": "python",
   "pygments_lexer": "ipython3",
   "version": "3.11.5"
  }
 },
 "nbformat": 4,
 "nbformat_minor": 5
}
