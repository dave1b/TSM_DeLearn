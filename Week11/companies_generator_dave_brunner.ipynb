{
 "cells": [
  {
   "metadata": {},
   "cell_type": "markdown",
   "source": [
    "# G27\n",
    "Dave Brunner"
   ],
   "id": "9a5a2bfd4efb9dfd"
  },
  {
   "metadata": {},
   "cell_type": "code",
   "outputs": [],
   "execution_count": 81,
   "source": [
    "import numpy as np\n",
    "import random\n",
    "import matplotlib.pyplot as plt\n",
    "import torch\n",
    "import torch.nn.functional as F\n",
    "from torch import nn\n",
    "from torchinfo import summary # with torchsummary we got a bug, consider installing torchinfo\n",
    "from torch.utils.data import DataLoader, TensorDataset # lets us load data in batches"
   ],
   "id": "ac7960663d734622"
  },
  {
   "metadata": {
    "ExecuteTime": {
     "end_time": "2024-05-10T10:21:31.849651Z",
     "start_time": "2024-05-10T10:21:31.847519Z"
    }
   },
   "cell_type": "code",
   "source": [
    "if torch.cuda.is_available():\n",
    "    device = torch.device(\"cuda\")\n",
    "elif torch.backends.mps.is_available():\n",
    "    device = torch.device(\"mps\")\n",
    "else:\n",
    "    device = torch.device(\"cpu\")\n",
    "print(f\"Device is set to: {device}\")"
   ],
   "id": "efe25d3b830f2f25",
   "outputs": [
    {
     "name": "stdout",
     "output_type": "stream",
     "text": [
      "Device is set to: mps\n"
     ]
    }
   ],
   "execution_count": 82
  },
  {
   "metadata": {
    "ExecuteTime": {
     "end_time": "2024-05-10T10:21:31.889255Z",
     "start_time": "2024-05-10T10:21:31.884182Z"
    }
   },
   "cell_type": "code",
   "source": [
    "# wget the file from https://storage.googleapis.com/download.tensorflow.org/data/shakespeare.txt\n",
    "with open(\"companies.csv\") as corpus_file:\n",
    "    corpus = corpus_file.read()\n",
    "    corpus_length = len(corpus)\n",
    "print(\"Loaded a corpus of {0} characters\".format(corpus_length))"
   ],
   "id": "initial_id",
   "outputs": [
    {
     "name": "stdout",
     "output_type": "stream",
     "text": [
      "Loaded a corpus of 2567986 characters\n"
     ]
    }
   ],
   "execution_count": 83
  },
  {
   "metadata": {
    "ExecuteTime": {
     "end_time": "2024-05-10T10:21:31.892194Z",
     "start_time": "2024-05-10T10:21:31.890150Z"
    }
   },
   "cell_type": "code",
   "source": "print(corpus[:100])",
   "id": "bb8b13b835f6a762",
   "outputs": [
    {
     "name": "stdout",
     "output_type": "stream",
     "text": [
      "Hashplay Inc.\n",
      "New Incentives\n",
      "GrabJobs\n",
      "MediBookr\n",
      "MelissaWithLove.co\n",
      "Starting 11\n",
      "The CarShare Guy\n",
      "Alla\n"
     ]
    }
   ],
   "execution_count": 84
  },
  {
   "metadata": {
    "ExecuteTime": {
     "end_time": "2024-05-10T10:21:31.920004Z",
     "start_time": "2024-05-10T10:21:31.904574Z"
    }
   },
   "cell_type": "code",
   "source": [
    "# Get a unique identifier for each char in the corpus, \n",
    "# then make some dicts to ease encoding and decoding\n",
    "chars = sorted(list(set(corpus)))\n",
    "num_chars = len(chars)\n",
    "encoding = {c: i for i, c in enumerate(chars)}\n",
    "decoding = {i: c for i, c in enumerate(chars)}\n",
    "print(\"Our corpus contains {0} unique characters.\".format(num_chars))"
   ],
   "id": "61177e933ec9285d",
   "outputs": [
    {
     "name": "stdout",
     "output_type": "stream",
     "text": [
      "Our corpus contains 150 unique characters.\n"
     ]
    }
   ],
   "execution_count": 85
  },
  {
   "metadata": {
    "ExecuteTime": {
     "end_time": "2024-05-10T10:21:31.922439Z",
     "start_time": "2024-05-10T10:21:31.920789Z"
    }
   },
   "cell_type": "code",
   "source": [
    "print(f'Decoding: {decoding}')\n",
    "print(f'Encoding: {encoding}')"
   ],
   "id": "62c3d4b2745342a",
   "outputs": [
    {
     "name": "stdout",
     "output_type": "stream",
     "text": [
      "Decoding: {0: '\\n', 1: ' ', 2: '!', 3: '\"', 4: '#', 5: '$', 6: '%', 7: '&', 8: \"'\", 9: '(', 10: ')', 11: '*', 12: '+', 13: ',', 14: '-', 15: '.', 16: '/', 17: '0', 18: '1', 19: '2', 20: '3', 21: '4', 22: '5', 23: '6', 24: '7', 25: '8', 26: '9', 27: ':', 28: '=', 29: '>', 30: '?', 31: '@', 32: 'A', 33: 'B', 34: 'C', 35: 'D', 36: 'E', 37: 'F', 38: 'G', 39: 'H', 40: 'I', 41: 'J', 42: 'K', 43: 'L', 44: 'M', 45: 'N', 46: 'O', 47: 'P', 48: 'Q', 49: 'R', 50: 'S', 51: 'T', 52: 'U', 53: 'V', 54: 'W', 55: 'X', 56: 'Y', 57: 'Z', 58: '[', 59: '\\\\', 60: ']', 61: '^', 62: '_', 63: 'a', 64: 'b', 65: 'c', 66: 'd', 67: 'e', 68: 'f', 69: 'g', 70: 'h', 71: 'i', 72: 'j', 73: 'k', 74: 'l', 75: 'm', 76: 'n', 77: 'o', 78: 'p', 79: 'q', 80: 'r', 81: 's', 82: 't', 83: 'u', 84: 'v', 85: 'w', 86: 'x', 87: 'y', 88: 'z', 89: '{', 90: '|', 91: '}', 92: '~', 93: '\\x81', 94: '\\x82', 95: '\\x83', 96: '\\x84', 97: '\\x85', 98: '\\x86', 99: '\\x87', 100: '\\x88', 101: '\\x89', 102: '\\x8a', 103: '\\x8b', 104: '\\x8c', 105: '\\x8d', 106: '\\x8e', 107: '\\x8f', 108: '\\x90', 109: '\\x91', 110: '\\x92', 111: '\\x93', 112: '\\x94', 113: '\\x95', 114: '\\x96', 115: '\\x97', 116: '\\x98', 117: '\\x99', 118: '\\x9a', 119: '\\x9b', 120: '\\x9c', 121: '\\x9f', 122: '¡', 123: '¥', 124: '§', 125: '¨', 126: '©', 127: 'ª', 128: '«', 129: '¯', 130: 'µ', 131: '¾', 132: '¿', 133: 'Ê', 134: 'Ë', 135: 'Ì', 136: 'Ï', 137: 'Ð', 138: 'Ñ', 139: 'Ô', 140: 'Õ', 141: 'ç', 142: 'è', 143: 'ê', 144: 'ì', 145: 'î', 146: 'ï', 147: 'ò', 148: 'õ', 149: 'û'}\n",
      "Encoding: {'\\n': 0, ' ': 1, '!': 2, '\"': 3, '#': 4, '$': 5, '%': 6, '&': 7, \"'\": 8, '(': 9, ')': 10, '*': 11, '+': 12, ',': 13, '-': 14, '.': 15, '/': 16, '0': 17, '1': 18, '2': 19, '3': 20, '4': 21, '5': 22, '6': 23, '7': 24, '8': 25, '9': 26, ':': 27, '=': 28, '>': 29, '?': 30, '@': 31, 'A': 32, 'B': 33, 'C': 34, 'D': 35, 'E': 36, 'F': 37, 'G': 38, 'H': 39, 'I': 40, 'J': 41, 'K': 42, 'L': 43, 'M': 44, 'N': 45, 'O': 46, 'P': 47, 'Q': 48, 'R': 49, 'S': 50, 'T': 51, 'U': 52, 'V': 53, 'W': 54, 'X': 55, 'Y': 56, 'Z': 57, '[': 58, '\\\\': 59, ']': 60, '^': 61, '_': 62, 'a': 63, 'b': 64, 'c': 65, 'd': 66, 'e': 67, 'f': 68, 'g': 69, 'h': 70, 'i': 71, 'j': 72, 'k': 73, 'l': 74, 'm': 75, 'n': 76, 'o': 77, 'p': 78, 'q': 79, 'r': 80, 's': 81, 't': 82, 'u': 83, 'v': 84, 'w': 85, 'x': 86, 'y': 87, 'z': 88, '{': 89, '|': 90, '}': 91, '~': 92, '\\x81': 93, '\\x82': 94, '\\x83': 95, '\\x84': 96, '\\x85': 97, '\\x86': 98, '\\x87': 99, '\\x88': 100, '\\x89': 101, '\\x8a': 102, '\\x8b': 103, '\\x8c': 104, '\\x8d': 105, '\\x8e': 106, '\\x8f': 107, '\\x90': 108, '\\x91': 109, '\\x92': 110, '\\x93': 111, '\\x94': 112, '\\x95': 113, '\\x96': 114, '\\x97': 115, '\\x98': 116, '\\x99': 117, '\\x9a': 118, '\\x9b': 119, '\\x9c': 120, '\\x9f': 121, '¡': 122, '¥': 123, '§': 124, '¨': 125, '©': 126, 'ª': 127, '«': 128, '¯': 129, 'µ': 130, '¾': 131, '¿': 132, 'Ê': 133, 'Ë': 134, 'Ì': 135, 'Ï': 136, 'Ð': 137, 'Ñ': 138, 'Ô': 139, 'Õ': 140, 'ç': 141, 'è': 142, 'ê': 143, 'ì': 144, 'î': 145, 'ï': 146, 'ò': 147, 'õ': 148, 'û': 149}\n"
     ]
    }
   ],
   "execution_count": 86
  },
  {
   "metadata": {
    "ExecuteTime": {
     "end_time": "2024-05-10T10:21:32.825495Z",
     "start_time": "2024-05-10T10:21:31.922863Z"
    }
   },
   "cell_type": "code",
   "source": [
    "# chop up our data into X and y, slice into roughly \n",
    "# (num_chars / skip) overlapping 'sentences' of length \n",
    "# sentence_length, and encode the chars\n",
    "sentence_length = 10\n",
    "skip = 3\n",
    "X_data = []\n",
    "y_data = []\n",
    "for i in range (0, len(corpus) - sentence_length, skip):\n",
    "    sentence = corpus[i:i + sentence_length]\n",
    "    next_char = corpus[i + sentence_length]\n",
    "    X_data.append([encoding[char] for char in sentence])\n",
    "    y_data.append(encoding[next_char])\n",
    "\n",
    "num_sentences = len(X_data)\n",
    "print(\"Sliced our corpus into {0} sentences of length {1}\"\n",
    "      .format(num_sentences, sentence_length))"
   ],
   "id": "262f448adc8af53f",
   "outputs": [
    {
     "name": "stdout",
     "output_type": "stream",
     "text": [
      "Sliced our corpus into 855992 sentences of length 10\n"
     ]
    }
   ],
   "execution_count": 87
  },
  {
   "metadata": {
    "ExecuteTime": {
     "end_time": "2024-05-10T10:21:32.828063Z",
     "start_time": "2024-05-10T10:21:32.826475Z"
    }
   },
   "cell_type": "code",
   "source": [
    "print(X_data[0])\n",
    "print([decoding[idx] for idx in X_data[0]])\n",
    "print(decoding[y_data[0]])"
   ],
   "id": "68bafdd70ae6d19",
   "outputs": [
    {
     "name": "stdout",
     "output_type": "stream",
     "text": [
      "[39, 63, 81, 70, 78, 74, 63, 87, 1, 40]\n",
      "['H', 'a', 's', 'h', 'p', 'l', 'a', 'y', ' ', 'I']\n",
      "n\n"
     ]
    }
   ],
   "execution_count": 88
  },
  {
   "metadata": {
    "ExecuteTime": {
     "end_time": "2024-05-10T10:21:37.850545Z",
     "start_time": "2024-05-10T10:21:32.828519Z"
    }
   },
   "cell_type": "code",
   "source": [
    "# One-hot encode the data.\n",
    "X = F.one_hot(torch.tensor(X_data), num_classes=num_chars).to(torch.float)\n",
    "y = torch.tensor(y_data) #No need to encode labels in one-hot with pytorch,\n",
    "                         #crossEntropy loss needs just the indexes (not 0-1 values)\n",
    "\n",
    "\n",
    "# Double check our vectorized data before we sink hours into fitting a model\n",
    "print(\"Sanity check y. Dimension: {0} # Sentences: {1} Characters in corpus: {2}\"\n",
    "      .format(y.shape, num_sentences, len(chars)))\n",
    "print(\"Sanity check X. Dimension: {0} Sentence length: {1}\"\n",
    "      .format(X.size(), sentence_length))"
   ],
   "id": "3d821a47c4669654",
   "outputs": [
    {
     "name": "stdout",
     "output_type": "stream",
     "text": [
      "Sanity check y. Dimension: torch.Size([855992]) # Sentences: 855992 Characters in corpus: 150\n",
      "Sanity check X. Dimension: torch.Size([855992, 10, 150]) Sentence length: 10\n"
     ]
    }
   ],
   "execution_count": 89
  },
  {
   "metadata": {
    "ExecuteTime": {
     "end_time": "2024-05-10T10:21:37.855074Z",
     "start_time": "2024-05-10T10:21:37.851956Z"
    }
   },
   "cell_type": "code",
   "source": [
    "class RNN(nn.Module):\n",
    "    def __init__(self, input_size, hidden_size, output_size, n_layers=1):\n",
    "        super().__init__()\n",
    "        self.hidden_size = hidden_size\n",
    "        self.n_layers = n_layers\n",
    "        self.rnn = nn.RNN(input_size, hidden_size, n_layers, batch_first=True)\n",
    "        self.fc = nn.Linear(hidden_size, output_size)\n",
    "    \n",
    "    def forward(self, x):\n",
    "        out, hidden = self.rnn(x)\n",
    "        out = out[:, -1]\n",
    "        out = self.fc(out)\n",
    "        return out"
   ],
   "id": "e014b54e7a3325c8",
   "outputs": [],
   "execution_count": 90
  },
  {
   "metadata": {
    "ExecuteTime": {
     "end_time": "2024-05-10T10:21:42.950682Z",
     "start_time": "2024-05-10T10:21:42.945706Z"
    }
   },
   "cell_type": "code",
   "source": [
    "def train(n_epochs, model, data_loader, optimizer, criterion, log_interval=200):\n",
    "    # Keep track of stats to plot them\n",
    "    train_losses = []\n",
    "    train_accuracies = []\n",
    "    val_losses = []\n",
    "    val_accuracies = []\n",
    "    \n",
    "    for epoch in range(1, n_epochs + 1):\n",
    "        model.train()\n",
    "        total_train_loss = 0\n",
    "        total_correct = 0 \n",
    "        # Loop over each batch from the training set\n",
    "        for batch_idx, (data, target) in enumerate(data_loader):\n",
    "            data = data.to(device)\n",
    "            target = target.to(device)\n",
    "            optimizer.zero_grad() \n",
    "            # Pass data through the network\n",
    "            output = model(data)\n",
    "    \n",
    "            # Calculate loss\n",
    "            loss = criterion(output, target)\n",
    "            # Backpropagate. Updates the gradients buffer on each parameter\n",
    "            loss.backward()\n",
    "            # Update weights\n",
    "            optimizer.step()\n",
    "            \n",
    "            total_train_loss += loss.item()\n",
    "            \n",
    "            _, pred = torch.max(output, dim=1)\n",
    "    \n",
    "            total_correct += torch.sum(pred == target).item()\n",
    "        \n",
    "        accuracy_train = total_correct / len(data_loader.dataset)\n",
    "    \n",
    "        \n",
    "        total_train_loss = total_train_loss / len(data_loader)\n",
    "    \n",
    "        print('Train Epoch: {} \\tLoss: {:.6f}'.format(\n",
    "            epoch, total_train_loss),\n",
    "        ', Accuracy: {}'.format(accuracy_train))\n",
    "        train_losses.append(total_train_loss)\n",
    "        train_accuracies.append(accuracy_train)\n",
    "\n",
    "    return {\n",
    "        \"loss\": train_losses,\n",
    "        \"accuracy\": train_accuracies,\n",
    "    }\n",
    "\n",
    "def plot_history(history):\n",
    "    plt.plot(history['loss'], label='Training loss')\n",
    "    plt.legend()\n",
    "    plt.grid()\n",
    "    plt.show()"
   ],
   "id": "ff02f3e04cb86f58",
   "outputs": [],
   "execution_count": 91
  },
  {
   "metadata": {
    "ExecuteTime": {
     "end_time": "2024-05-10T09:44:34.665562Z",
     "start_time": "2024-05-10T09:44:34.664016Z"
    }
   },
   "cell_type": "code",
   "source": [
    "# Create dataloader from X,y tensors\n",
    "dataset = TensorDataset(X, y)\n",
    "n_classes = len(chars)\n",
    "seq_length = 10"
   ],
   "id": "8158a2a832a795cd",
   "outputs": [],
   "execution_count": 53
  },
  {
   "metadata": {
    "ExecuteTime": {
     "end_time": "2024-05-10T09:48:29.420145Z",
     "start_time": "2024-05-10T09:44:34.666151Z"
    }
   },
   "cell_type": "code",
   "source": [
    "hidden_size = 64\n",
    "batch_size = 128\n",
    "n_layers = 1\n",
    "n_epochs = 7\n",
    "\n",
    "model_1 = RNN(num_chars, hidden_size, num_chars, n_layers).to(device)\n",
    "train_loader = DataLoader(dataset, batch_size=batch_size, shuffle=True)\n",
    "criteria = nn.CrossEntropyLoss()\n",
    "optimizer = torch.optim.Adam(model_1.parameters(), lr=0.001)\n",
    "\n",
    "history = train(n_epochs, model_1, train_loader, optimizer, criteria)"
   ],
   "id": "3df4c62fb75ab3c",
   "outputs": [
    {
     "name": "stdout",
     "output_type": "stream",
     "text": [
      "Train Epoch: 1 \tLoss: 2.602636 , Accuracy: 0.27566495948560266\n",
      "Train Epoch: 2 \tLoss: 2.286826 , Accuracy: 0.351899316816045\n",
      "Train Epoch: 3 \tLoss: 2.220348 , Accuracy: 0.369997616800157\n",
      "Train Epoch: 4 \tLoss: 2.185460 , Accuracy: 0.3801297208385125\n",
      "Train Epoch: 5 \tLoss: 2.162903 , Accuracy: 0.3858704286955953\n",
      "Train Epoch: 6 \tLoss: 2.147159 , Accuracy: 0.39062280955896783\n",
      "Train Epoch: 7 \tLoss: 2.135066 , Accuracy: 0.3934265740801316\n"
     ]
    }
   ],
   "execution_count": 54
  },
  {
   "metadata": {
    "ExecuteTime": {
     "end_time": "2024-05-10T09:48:29.527650Z",
     "start_time": "2024-05-10T09:48:29.421620Z"
    }
   },
   "cell_type": "code",
   "source": "plot_history(history)",
   "id": "b3bcc2e41ea22885",
   "outputs": [
    {
     "data": {
      "text/plain": [
       "<Figure size 640x480 with 1 Axes>"
      ],
      "image/png": "[encoded data removed]"
     },
     "metadata": {},
     "output_type": "display_data"
    },
    {
     "data": {
      "text/plain": [
       "<Figure size 640x480 with 1 Axes>"
      ],
      "image/png": "[encoded data removed]"
     },
     "metadata": {},
     "output_type": "display_data"
    }
   ],
   "execution_count": 55
  },
  {
   "metadata": {
    "ExecuteTime": {
     "end_time": "2024-05-10T09:54:23.583634Z",
     "start_time": "2024-05-10T09:48:29.528617Z"
    }
   },
   "cell_type": "code",
   "source": [
    "hidden_size = 128\n",
    "batch_size = 128\n",
    "n_layers = 1\n",
    "n_epochs = 10\n",
    "\n",
    "model_2 = RNN(num_chars, hidden_size, num_chars, n_layers).to(device)\n",
    "train_loader = DataLoader(dataset, batch_size=batch_size, shuffle=True)\n",
    "criteria = nn.CrossEntropyLoss()\n",
    "optimizer = torch.optim.Adam(model_2.parameters(), lr=0.001)\n",
    "\n",
    "history_2 = train(n_epochs, model_2, train_loader, optimizer, criteria)"
   ],
   "id": "ca5f1cb948df6edd",
   "outputs": [
    {
     "name": "stdout",
     "output_type": "stream",
     "text": [
      "Train Epoch: 1 \tLoss: 2.493799 , Accuracy: 0.30331007766427726\n",
      "Train Epoch: 2 \tLoss: 2.196287 , Accuracy: 0.37674884812007586\n",
      "Train Epoch: 3 \tLoss: 2.120454 , Accuracy: 0.39808315965569774\n",
      "Train Epoch: 4 \tLoss: 2.077373 , Accuracy: 0.4093951812633763\n",
      "Train Epoch: 5 \tLoss: 2.049825 , Accuracy: 0.4169361395900896\n",
      "Train Epoch: 6 \tLoss: 2.029864 , Accuracy: 0.4221009074851167\n",
      "Train Epoch: 7 \tLoss: 2.015196 , Accuracy: 0.42654020131029263\n",
      "Train Epoch: 8 \tLoss: 2.003410 , Accuracy: 0.4303194422377779\n",
      "Train Epoch: 9 \tLoss: 1.993491 , Accuracy: 0.43211735623697417\n",
      "Train Epoch: 10 \tLoss: 1.985768 , Accuracy: 0.43472252077122214\n"
     ]
    }
   ],
   "execution_count": 56
  },
  {
   "metadata": {},
   "cell_type": "code",
   "outputs": [],
   "execution_count": null,
   "source": "plot_history(history_2)",
   "id": "3db5186f5cd0c53d"
  },
  {
   "metadata": {
    "ExecuteTime": {
     "end_time": "2024-05-10T09:54:23.588926Z",
     "start_time": "2024-05-10T09:54:23.584859Z"
    }
   },
   "cell_type": "code",
   "source": [
    "@torch.inference_mode() \n",
    "def predict(model, data):\n",
    "    # Put the model in eval mode, which disables training specific behaviour.\n",
    "    model.eval()\n",
    "    output = model(data)\n",
    "    return output\n",
    "\n",
    "\n",
    "def make_seed(seed_phrase=\"\"):\n",
    "        if seed_phrase:  # make sure the seed has the right length\n",
    "            phrase_length = len(seed_phrase)\n",
    "            pattern = \"\"\n",
    "            for i in range (0, sentence_length):\n",
    "                pattern += seed_phrase[i % phrase_length]\n",
    "        else:            # sample randomly the seed from corpus\n",
    "            seed = random.randint(0, corpus_length - sentence_length)\n",
    "            pattern = corpus[seed:seed + sentence_length]\n",
    "        return pattern\n",
    "    \n",
    "def generate(model, seed_phrase=\"\"):\n",
    "    # Set the model to evaluation\n",
    "    seed_pattern = make_seed(seed_phrase)\n",
    "    print(\"seed = \" + seed_pattern)\n",
    "    \n",
    "    encoded_text = torch.tensor([encoding[char] for char in seed_pattern])\n",
    "    encoded_text = F.one_hot(encoded_text, num_classes=num_chars).to(torch.float)\n",
    "    # Add a single batch dimension at the beginning\n",
    "    encoded_text = encoded_text.unsqueeze(0)\n",
    "    encoded_text = encoded_text.to(device)\n",
    "    \n",
    "    generated_text = \"\"\n",
    "    for i in range(500):\n",
    "        # predict() gives a tensor of shape (1, 65) \n",
    "        # with 1 being the size of the batch, for that we use [0] to get a vector\n",
    "        output = predict(model, encoded_text)[0]\n",
    "        # Convert the output to probabilities\n",
    "        probs = torch.softmax(output, dim=-1)\n",
    "        # Randomly choose from a multinomial distribution with the output probabilities\n",
    "        # make the generation more diverse.\n",
    "        prediction = torch.multinomial(probs, num_samples=1)\n",
    "        generated_text += decoding[int(prediction)]\n",
    "        \n",
    "        # One hot encode the new (predicted) character\n",
    "        next_char_encoded = F.one_hot(prediction, num_classes=num_chars)\n",
    "        # Make sure it has a singular batch and seq_len dimension in order to concatenate them.\n",
    "        next_char_encoded = next_char_encoded.view(1, 1, num_chars)\n",
    "        # Remove first char and glue the predicted one to the end\n",
    "        encoded_text = torch.cat((encoded_text[:, 1:], next_char_encoded), dim=1)\n",
    "    return generated_text"
   ],
   "id": "439fbe6ec7a7ab84",
   "outputs": [],
   "execution_count": 57
  },
  {
   "metadata": {
    "ExecuteTime": {
     "end_time": "2024-05-10T10:01:10.096897Z",
     "start_time": "2024-05-10T10:01:09.082356Z"
    }
   },
   "cell_type": "code",
   "source": [
    "generated_text = generate(model_1, \"Tech Water Company\")\n",
    "print(generated_text)"
   ],
   "id": "e44a74149964fc20",
   "outputs": [
    {
     "name": "stdout",
     "output_type": "stream",
     "text": [
      "seed = Tech Water\n",
      "ss\n",
      "Brokant Manowor Findners Selvices\n",
      "INPSALI\n",
      "Globas\n",
      "Vulva\n",
      "OB Oynal Oniame Masza old\n",
      "Fahybrup\n",
      "Largee'suling Tredgty\n",
      "Emivalmage Therapeu' FITICNE\n",
      "Vrectse Holdisment Doficl\n",
      "Phalma3\n",
      "Orknane Heastora\n",
      "PoeficcASTPWS\n",
      "Ederexin\n",
      "Beadlion\n",
      "FieMC Ltd.\n",
      "MotrondoTaceut\n",
      "DSC Incheluts\n",
      "Fuver\n",
      "BipA Inc.\n",
      "Sacperware\n",
      "Haltaron Group\n",
      "PDAR\n",
      "Endemnty Sanetion\n",
      "Applitionces Ltd.\n",
      "OreDeter\n",
      "Mugand AB\n",
      "Purynew Stueres\n",
      "Debia\n",
      "Dhytas Corporation Lateriaw Cryss\n",
      "Bolegribs\n",
      "Bruew Corpo\n",
      "Fashlinip Solutions\n",
      "Careno\n",
      "MictercSebergy\n",
      "ThingBale O\n"
     ]
    }
   ],
   "execution_count": 62
  },
  {
   "metadata": {
    "ExecuteTime": {
     "end_time": "2024-05-10T10:00:29.423003Z",
     "start_time": "2024-05-10T10:00:28.423767Z"
    }
   },
   "cell_type": "code",
   "source": [
    "generated_text = generate(model_2, \"Tech Water Company\")\n",
    "print(generated_text)"
   ],
   "id": "13078c1b477e8299",
   "outputs": [
    {
     "name": "stdout",
     "output_type": "stream",
     "text": [
      "seed = Tech Water\n",
      "ne\n",
      "Mutcratch\n",
      "Tacker Partnens\n",
      "ACIVITNENCH\n",
      "ing Resource\n",
      "Pitau IX\n",
      "Spree.com\n",
      "SafeDald Energy Term Green\n",
      "PRUSNA\n",
      "Pvtaviaran Mogur\n",
      "Welltrics\n",
      "Prime Woviclink\n",
      "Dliphold Researchung Manager\n",
      "Scorfierz\n",
      "UNA Capital\n",
      "CDretPlant Capang CapPessle Insortics\n",
      "Argago\n",
      "Leta Collective\n",
      "PlayFheack Productsui\n",
      "Kawbotch\"\n",
      "OBily Fard Weldsi\n",
      "BaicIaugon\n",
      "OxGamen Pathoup\n",
      "Stapplo\n",
      "Otter\n",
      "ikercCap\n",
      "Siardomet\n",
      "ARZP\n",
      "Cocnovile\n",
      "geinix\n",
      "Cey/Catronng\n",
      "Clook Sive Tech ol Group\n",
      "Steala Balla Acrus\n",
      "The InVenies Systems\n",
      "Offine Sancels\n",
      "J.A.\n",
      "Orbertua\n"
     ]
    }
   ],
   "execution_count": 61
  },
  {
   "metadata": {},
   "cell_type": "markdown",
   "source": [
    "### Interesting startup names:\n",
    "For seed: Tech Water Company\n",
    "###### (with 8 epochs, 64 hidden units, 128 batch size, 0.001 learning rate)\n",
    "- Debia\n",
    "- Careno\n",
    "- Phalma3\n",
    "- Beadlion\n",
    "\n",
    "###### (with 10 epochs, 128 hidden units, 128 batch size, 0.001 learning rate)\n",
    "- PRUSNA\n",
    "- UNA Capital\n",
    "- Arago"
   ],
   "id": "455c7769e8f6a005"
  },
  {
   "metadata": {
    "ExecuteTime": {
     "end_time": "2024-05-10T10:19:56.016156Z",
     "start_time": "2024-05-10T10:19:56.011279Z"
    }
   },
   "cell_type": "code",
   "source": [
    "class LSTM(nn.Module):\n",
    "    def __init__(self, input_size, hidden_size, output_size, n_layers=1):\n",
    "        super().__init__()\n",
    "        self.hidden_size = hidden_size\n",
    "        self.n_layers = n_layers\n",
    "        self.rnn = nn.LSTM(input_size, hidden_size, n_layers, batch_first=True)\n",
    "        self.fc = nn.Linear(hidden_size, output_size)\n",
    "    \n",
    "    def forward(self, x):\n",
    "        out, hidden = self.rnn(x)\n",
    "        out = out[:, -1]\n",
    "        out = self.fc(out)\n",
    "        return out"
   ],
   "id": "764875ed1d318b91",
   "outputs": [],
   "execution_count": 77
  },
  {
   "metadata": {
    "ExecuteTime": {
     "end_time": "2024-05-10T10:33:43.167998Z",
     "start_time": "2024-05-10T10:29:41.406983Z"
    }
   },
   "cell_type": "code",
   "source": [
    "hidden_size = 64\n",
    "batch_size = 128\n",
    "n_layers = 1\n",
    "n_epochs = 10\n",
    "\n",
    "lstm_1 = LSTM(num_chars, hidden_size, num_chars, n_layers).to(device)\n",
    "train_loader = DataLoader(dataset, batch_size=batch_size, shuffle=True)\n",
    "criteria = nn.CrossEntropyLoss()\n",
    "optimizer = torch.optim.Adam(lstm_1.parameters(), lr=0.001)\n",
    "\n",
    "history_3 = train(n_epochs, lstm_1, train_loader, optimizer, criteria)"
   ],
   "id": "e2d04091ee580859",
   "outputs": [
    {
     "name": "stdout",
     "output_type": "stream",
     "text": [
      "Train Epoch: 1 \tLoss: 2.698255 , Accuracy: 0.2502056093982187\n",
      "Train Epoch: 2 \tLoss: 2.305877 , Accuracy: 0.3466854830418976\n",
      "Train Epoch: 3 \tLoss: 2.189147 , Accuracy: 0.37944163029561023\n",
      "Train Epoch: 4 \tLoss: 2.124464 , Accuracy: 0.3966088468116524\n",
      "Train Epoch: 5 \tLoss: 2.082287 , Accuracy: 0.40838816250619164\n",
      "Train Epoch: 6 \tLoss: 2.052335 , Accuracy: 0.41690927018009516\n",
      "Train Epoch: 7 \tLoss: 2.029473 , Accuracy: 0.42322358152879935\n",
      "Train Epoch: 8 \tLoss: 2.010892 , Accuracy: 0.42747362124879673\n",
      "Train Epoch: 9 \tLoss: 1.995508 , Accuracy: 0.43210100094393405\n",
      "Train Epoch: 10 \tLoss: 1.982359 , Accuracy: 0.4354795371919364\n"
     ]
    }
   ],
   "execution_count": 98
  },
  {
   "metadata": {
    "ExecuteTime": {
     "end_time": "2024-05-10T10:33:43.231741Z",
     "start_time": "2024-05-10T10:33:43.169858Z"
    }
   },
   "cell_type": "code",
   "source": "plot_history(history_3)",
   "id": "4a4da302cb6c37ca",
   "outputs": [
    {
     "data": {
      "text/plain": [
       "<Figure size 640x480 with 1 Axes>"
      ],
      "image/png": "[encoded data removed]"
     },
     "metadata": {},
     "output_type": "display_data"
    }
   ],
   "execution_count": 99
  },
  {
   "metadata": {
    "ExecuteTime": {
     "end_time": "2024-05-10T10:33:43.990308Z",
     "start_time": "2024-05-10T10:33:43.232510Z"
    }
   },
   "cell_type": "code",
   "source": [
    "generated_text = generate(lstm_1, \"Tech Water Company\")\n",
    "print(generated_text)"
   ],
   "id": "f713f1aed3bba06e",
   "outputs": [
    {
     "name": "stdout",
     "output_type": "stream",
     "text": [
      "seed = Tech Water\n",
      "s\n",
      "LeumerPurmon\n",
      "Buzix Worps\n",
      "Uph Theean\n",
      "Teln Holdd\n",
      "Enimpting Corporation\n",
      "\"Smalthconts\n",
      "Anta\n",
      "MidabienPro\n",
      "Squars Corporation\n",
      "KCN and Plan lS Therapoytes)\n",
      "MedionVia\n",
      "Avent\n",
      "The Gland\n",
      "-AC.O\n",
      "Rigbi, Inc.\"\n",
      "Clinage Petlecion Jath\n",
      "Drupe\n",
      "Consuring Business\n",
      "Vilker\n",
      "Data Direct Pharma\n",
      "edimitac (Hoadbana\n",
      "Net Artures\n",
      "Bata Central\n",
      "SynalEnquitac Later\n",
      "BIDNEP Company,\n",
      "Nepower\n",
      "Annetsworde\n",
      "Create10 Partners\n",
      "PudWorlsbox\n",
      "OpHellea\n",
      "Beanific\n",
      "SbHDwazz\n",
      "Mone BM n Resort\n",
      "Melgomo\n",
      "OveEdan Group\n",
      "Reytourtron HoGell Power Ltd\n",
      "Fist\n",
      "Be\n"
     ]
    }
   ],
   "execution_count": 100
  },
  {
   "metadata": {},
   "cell_type": "markdown",
   "source": [
    "The loss of this LSTM is at the same level as the RNN model.\n",
    "\n",
    "Som interesting names generated by the LSTM model (for seed: Tech Water Company):\n",
    "- Vilker\n",
    "- Nepower"
   ],
   "id": "610a7f9df1a27e39"
  },
  {
   "metadata": {},
   "cell_type": "markdown",
   "source": "# New dataset\n",
   "id": "73c47954dd687bc1"
  },
  {
   "metadata": {
    "ExecuteTime": {
     "end_time": "2024-05-12T13:30:08.989759Z",
     "start_time": "2024-05-12T13:30:08.985471Z"
    }
   },
   "cell_type": "code",
   "source": [
    "# wget the file from https://storage.googleapis.com/download.tensorflow.org/data/shakespeare.txt\n",
    "with open(\"spotify_millsongdata.csv\") as corpus_file:\n",
    "    corpus = corpus_file.read()\n",
    "    corpus_length = len(corpus)\n",
    "print(\"Loaded a corpus of {0} characters\".format(corpus_length))"
   ],
   "id": "a7141f0bf66bfd33",
   "outputs": [
    {
     "name": "stdout",
     "output_type": "stream",
     "text": [
      "Loaded a corpus of 955254 characters\n"
     ]
    }
   ],
   "execution_count": 113
  },
  {
   "metadata": {
    "ExecuteTime": {
     "end_time": "2024-05-12T13:30:09.010274Z",
     "start_time": "2024-05-12T13:30:08.997887Z"
    }
   },
   "cell_type": "code",
   "source": [
    "# Get a unique identifier for each char in the corpus, \n",
    "# then make some dicts to ease encoding and decoding\n",
    "chars = sorted(list(set(corpus)))\n",
    "num_chars = len(chars)\n",
    "encoding = {c: i for i, c in enumerate(chars)}\n",
    "decoding = {i: c for i, c in enumerate(chars)}\n",
    "print(\"Our corpus contains {0} unique characters.\".format(num_chars))\n",
    "print(corpus[:100])"
   ],
   "id": "41859524c7c46f69",
   "outputs": [
    {
     "name": "stdout",
     "output_type": "stream",
     "text": [
      "Our corpus contains 76 unique characters.\n",
      "Ahe's My Kind Of Girl\n",
      "\"Andante, Andante\"\n",
      "As Good As New\n",
      "Bang\n",
      "Bang-A-Boomerang\n",
      "Burning My Bridges\n",
      "Cas\n"
     ]
    }
   ],
   "execution_count": 114
  },
  {
   "metadata": {
    "ExecuteTime": {
     "end_time": "2024-05-12T13:30:10.376182Z",
     "start_time": "2024-05-12T13:30:09.011218Z"
    }
   },
   "cell_type": "code",
   "source": [
    "sentence_length = 10\n",
    "skip = 3\n",
    "X_data = []\n",
    "y_data = []\n",
    "for i in range (0, len(corpus) - sentence_length, skip):\n",
    "    sentence = corpus[i:i + sentence_length]\n",
    "    next_char = corpus[i + sentence_length]\n",
    "    X_data.append([encoding[char] for char in sentence])\n",
    "    y_data.append(encoding[next_char])\n",
    "\n",
    "num_sentences = len(X_data)\n",
    "print(\"Sliced our corpus into {0} sentences of length {1}\"\n",
    "      .format(num_sentences, sentence_length))\n",
    "print(X_data[0])\n",
    "print([decoding[idx] for idx in X_data[0]])\n",
    "print(decoding[y_data[0]])\n",
    "X = F.one_hot(torch.tensor(X_data), num_classes=num_chars).to(torch.float)\n",
    "y = torch.tensor(y_data) \n",
    "print(\"Sanity check y. Dimension: {0} # Sentences: {1} Characters in corpus: {2}\"\n",
    "      .format(y.shape, num_sentences, len(chars)))\n",
    "print(\"Sanity check X. Dimension: {0} Sentence length: {1}\"\n",
    "      .format(X.size(), sentence_length))"
   ],
   "id": "aec10a76c9d3eb46",
   "outputs": [
    {
     "name": "stdout",
     "output_type": "stream",
     "text": [
      "Sliced our corpus into 318415 sentences of length 10\n",
      "[22, 57, 54, 4, 68, 1, 34, 74, 1, 32]\n",
      "['A', 'h', 'e', \"'\", 's', ' ', 'M', 'y', ' ', 'K']\n",
      "i\n",
      "Sanity check y. Dimension: torch.Size([318415]) # Sentences: 318415 Characters in corpus: 76\n",
      "Sanity check X. Dimension: torch.Size([318415, 10, 76]) Sentence length: 10\n"
     ]
    }
   ],
   "execution_count": 115
  },
  {
   "metadata": {
    "ExecuteTime": {
     "end_time": "2024-05-12T13:30:10.378658Z",
     "start_time": "2024-05-12T13:30:10.377189Z"
    }
   },
   "cell_type": "code",
   "source": [
    "# Create dataloader from X,y tensors\n",
    "dataset = TensorDataset(X, y)\n",
    "n_classes = len(chars)\n",
    "seq_length = 10"
   ],
   "id": "43da6f080d382e2d",
   "outputs": [],
   "execution_count": 116
  },
  {
   "metadata": {
    "ExecuteTime": {
     "end_time": "2024-05-12T13:35:02.394418Z",
     "start_time": "2024-05-12T13:33:21.799962Z"
    }
   },
   "cell_type": "code",
   "source": [
    "hidden_size = 84\n",
    "batch_size = 128\n",
    "n_layers = 2\n",
    "n_epochs = 10\n",
    "\n",
    "model_spotify = LSTM(num_chars, hidden_size, num_chars, n_layers).to(device)\n",
    "train_loader = DataLoader(dataset, batch_size=batch_size, shuffle=True)\n",
    "criteria = nn.CrossEntropyLoss()\n",
    "optimizer = torch.optim.Adam(model_spotify.parameters(), lr=0.001)\n",
    "\n",
    "history = train(n_epochs, model_spotify, train_loader, optimizer, criteria)"
   ],
   "id": "a808ac92d56b7911",
   "outputs": [
    {
     "name": "stdout",
     "output_type": "stream",
     "text": [
      "Train Epoch: 1 \tLoss: 2.601164 , Accuracy: 0.2630435123973431\n",
      "Train Epoch: 2 \tLoss: 2.118533 , Accuracy: 0.36735392490931645\n",
      "Train Epoch: 3 \tLoss: 1.948216 , Accuracy: 0.41509979115305495\n",
      "Train Epoch: 4 \tLoss: 1.841169 , Accuracy: 0.4449539123470942\n",
      "Train Epoch: 5 \tLoss: 1.768172 , Accuracy: 0.464481886845783\n",
      "Train Epoch: 6 \tLoss: 1.715039 , Accuracy: 0.4786960413297112\n",
      "Train Epoch: 7 \tLoss: 1.672410 , Accuracy: 0.49008055525022376\n",
      "Train Epoch: 8 \tLoss: 1.637926 , Accuracy: 0.49963098472119716\n",
      "Train Epoch: 9 \tLoss: 1.607820 , Accuracy: 0.5081701553004726\n",
      "Train Epoch: 10 \tLoss: 1.582077 , Accuracy: 0.5156855047657931\n"
     ]
    }
   ],
   "execution_count": 121
  },
  {
   "metadata": {
    "ExecuteTime": {
     "end_time": "2024-05-12T13:35:02.443457Z",
     "start_time": "2024-05-12T13:35:02.395932Z"
    }
   },
   "cell_type": "code",
   "source": "plot_history(history)",
   "id": "17ce56dd0f6cf8d7",
   "outputs": [
    {
     "data": {
      "text/plain": [
       "<Figure size 640x480 with 1 Axes>"
      ],
      "image/png": "[encoded data removed]"
     },
     "metadata": {},
     "output_type": "display_data"
    }
   ],
   "execution_count": 122
  },
  {
   "metadata": {
    "ExecuteTime": {
     "end_time": "2024-05-12T13:35:03.623663Z",
     "start_time": "2024-05-12T13:35:02.444186Z"
    }
   },
   "cell_type": "code",
   "source": [
    "generated_text = generate(model_spotify, \"The code\")\n",
    "print(generated_text)"
   ],
   "id": "b1c3d419850b693e",
   "outputs": [
    {
     "name": "stdout",
     "output_type": "stream",
     "text": [
      "seed = The codeTh\n",
      "ing\n",
      "Bil Staye For You\n",
      "It's At All\n",
      "How Hand In The Mouth Spelleble\n",
      "Johnny Dark Your More\n",
      "Naturall\n",
      "Millty Step\n",
      "Hand In The Tite\n",
      "Have It\n",
      "Thror Lund Time\n",
      "Pussobakation Again\n",
      "It's Alone\n",
      "I'm Begins\n",
      "Ik On You\n",
      "Brokens Like Nack\n",
      "Becweet Its't A City\n",
      "Calmer Is A Chuncine Blard Shonelash\n",
      "\"Come On Me\n",
      "Come Down\n",
      "Opery Remibe\n",
      "Godod\n",
      "Jockay Day, Have For Morriend\n",
      "Stryn' Have You\n",
      "A Better Hearts\n",
      "Korkin'\n",
      "Over Lets Me Go\n",
      "Jubitions\"\n",
      "Fulling Childredader\n",
      "She The Roade\n",
      "Lone Like Till\n",
      "Back It Stars\n",
      "The Poontion\n",
      "Not Bar\n"
     ]
    }
   ],
   "execution_count": 123
  },
  {
   "metadata": {},
   "cell_type": "code",
   "outputs": [],
   "execution_count": null,
   "source": "",
   "id": "504e2e175aeb3dc3"
  }
 ],
 "metadata": {
  "kernelspec": {
   "display_name": "Python 3",
   "language": "python",
   "name": "python3"
  },
  "language_info": {
   "codemirror_mode": {
    "name": "ipython",
    "version": 2
   },
   "file_extension": ".py",
   "mimetype": "text/x-python",
   "name": "python",
   "nbconvert_exporter": "python",
   "pygments_lexer": "ipython2",
   "version": "2.7.6"
  }
 },
 "nbformat": 4,
 "nbformat_minor": 5
}
