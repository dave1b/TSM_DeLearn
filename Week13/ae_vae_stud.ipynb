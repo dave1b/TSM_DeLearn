{
 "cells": [
  {
   "cell_type": "code",
   "execution_count": 1,
   "id": "7bded6ec-3c0d-4afd-adbe-cb783b858411",
   "metadata": {
    "executionInfo": {
     "elapsed": 3720,
     "status": "ok",
     "timestamp": 1652944652726,
     "user": {
      "displayName": "Martin Melchior",
      "userId": "11283115997295685809"
     },
     "user_tz": -120
    },
    "id": "7bded6ec-3c0d-4afd-adbe-cb783b858411"
   },
   "outputs": [],
   "source": [
    "import torch\n",
    "from torchvision import datasets\n",
    "from torchvision import transforms\n",
    "from torchsummary import summary\n",
    "import matplotlib.pyplot as plt"
   ]
  },
  {
   "cell_type": "code",
   "execution_count": 2,
   "id": "40a5ce4f-b0ff-445e-9034-9c9fcade4bba",
   "metadata": {
    "colab": {
     "base_uri": "https://localhost:8080/",
     "height": 459,
     "referenced_widgets": [
      "e80377f592884d788164a1578b67cecf",
      "e00f57957e8c4cf49d79a0dc07599c4a",
      "9438f90609934e1dae49f16471876e9b",
      "c99280762b9e48759f0a09cf1dcadac6",
      "bd5a28c32dbb47c983044cf6f92fffd2",
      "57df724edd5747f9a8583e0139eea325",
      "fcc06e6dc48f4098847bf8f591fb1097",
      "a9d74020d94041b78facde65216d2a7d",
      "0038b7fa14034e8aa0cfad360f6466b9",
      "ecf276d39b634b1b80f0a7ea1c868f3a",
      "7b6ebbcb6503448c8e25c656f75edb1a",
      "3482a2fdd70040fb80bf81a781702efe",
      "6e6a6c3e794641d89ef60e0216cbc76e",
      "10af3ef91a1444fb922085456aeefccc",
      "fec9fe165587436c88fbdaf146ef4e99",
      "540fa568744a4872bb35551a2f2499fa",
      "6237b089853146f284b150169359dd2f",
      "ee4366c259d94f9eb2fcc3be2cc791bc",
      "8630fc9011914247bdb9944c4757597d",
      "49fe2245921548b5be5dc4082af90289",
      "dbcc77fb44174a56a7ea792b002a83dc",
      "69a8ae81999f4a5685467f56b73167dc",
      "1767110c0d414f07bf9dd05dde13a7c9",
      "4200a4de867c48a6824fdbc8e813e001",
      "69e156fc29f448e787201560c13de23c",
      "8d564d19ae064e63a81fb9364e220df9",
      "b926ab54343f4e86b28b6a5a55bef0f7",
      "04753ed6734e4ae2a66695b1044a5b0b",
      "6cca91d6c64a423e81097b9ecc98ca63",
      "95324a694be04a0c8ad561dd2147c3e8",
      "823a47296eb74529a72cb2383e73ddeb",
      "eb24b1d517e04041a56ce10eda631ae3",
      "77047551202f47c29e8d91a66977593d",
      "e19c65b6ada7471c804f2f444e1f9e7a",
      "900f686dc0a54144b1847fbeb3507a51",
      "3b3a773b61504ec7b2f4dc2ef5dece8d",
      "3e44f52ca4014969ba4c1207994ab4d1",
      "dffbb0f32a8d492e955f655898bd8fea",
      "c942729a553843c4a85f6a586c684ad8",
      "44074ef2d1cc4249aead7909b559c426",
      "9eca29647dd4451abbaf34bdf79deb9f",
      "700702e5451e4be6ab3c5e1efa9f6b4d",
      "cc0fad87ac3244d4a91b86904b3a1c78",
      "cda1ad2e0ee0439e9727f24e2aa41cf4"
     ]
    },
    "executionInfo": {
     "elapsed": 4587,
     "status": "ok",
     "timestamp": 1652944657308,
     "user": {
      "displayName": "Martin Melchior",
      "userId": "11283115997295685809"
     },
     "user_tz": -120
    },
    "id": "40a5ce4f-b0ff-445e-9034-9c9fcade4bba",
    "outputId": "f6c5e481-16a2-4645-9e7b-a8eedc46e162"
   },
   "outputs": [
    {
     "name": "stdout",
     "output_type": "stream",
     "text": [
      "Downloading http://fashion-mnist.s3-website.eu-central-1.amazonaws.com/train-images-idx3-ubyte.gz to ./data/FashionMNIST/raw/train-images-idx3-ubyte.gz\n"
     ]
    },
    {
     "data": {
      "application/vnd.jupyter.widget-view+json": {
       "model_id": "63262b94315b4f6ba8761d0b4a25cc07",
       "version_major": 2,
       "version_minor": 0
      },
      "text/plain": [
       "0it [00:00, ?it/s]"
      ]
     },
     "metadata": {},
     "output_type": "display_data"
    },
    {
     "name": "stdout",
     "output_type": "stream",
     "text": [
      "Extracting ./data/FashionMNIST/raw/train-images-idx3-ubyte.gz to ./data/FashionMNIST/raw\n",
      "Downloading http://fashion-mnist.s3-website.eu-central-1.amazonaws.com/train-labels-idx1-ubyte.gz to ./data/FashionMNIST/raw/train-labels-idx1-ubyte.gz\n"
     ]
    },
    {
     "data": {
      "application/vnd.jupyter.widget-view+json": {
       "model_id": "d8548e3c41be4f7f83e4587b1e9acfff",
       "version_major": 2,
       "version_minor": 0
      },
      "text/plain": [
       "0it [00:00, ?it/s]"
      ]
     },
     "metadata": {},
     "output_type": "display_data"
    },
    {
     "name": "stdout",
     "output_type": "stream",
     "text": [
      "Extracting ./data/FashionMNIST/raw/train-labels-idx1-ubyte.gz to ./data/FashionMNIST/raw\n",
      "Downloading http://fashion-mnist.s3-website.eu-central-1.amazonaws.com/t10k-images-idx3-ubyte.gz to ./data/FashionMNIST/raw/t10k-images-idx3-ubyte.gz\n"
     ]
    },
    {
     "data": {
      "application/vnd.jupyter.widget-view+json": {
       "model_id": "76e894a534b242cd883ea53c7eaae7a0",
       "version_major": 2,
       "version_minor": 0
      },
      "text/plain": [
       "0it [00:00, ?it/s]"
      ]
     },
     "metadata": {},
     "output_type": "display_data"
    },
    {
     "name": "stdout",
     "output_type": "stream",
     "text": [
      "Extracting ./data/FashionMNIST/raw/t10k-images-idx3-ubyte.gz to ./data/FashionMNIST/raw\n",
      "Downloading http://fashion-mnist.s3-website.eu-central-1.amazonaws.com/t10k-labels-idx1-ubyte.gz to ./data/FashionMNIST/raw/t10k-labels-idx1-ubyte.gz\n"
     ]
    },
    {
     "data": {
      "application/vnd.jupyter.widget-view+json": {
       "model_id": "e642a48e9a5a415f9bc01f67413f9e5d",
       "version_major": 2,
       "version_minor": 0
      },
      "text/plain": [
       "0it [00:00, ?it/s]"
      ]
     },
     "metadata": {},
     "output_type": "display_data"
    },
    {
     "name": "stdout",
     "output_type": "stream",
     "text": [
      "Extracting ./data/FashionMNIST/raw/t10k-labels-idx1-ubyte.gz to ./data/FashionMNIST/raw\n",
      "Processing...\n"
     ]
    },
    {
     "name": "stderr",
     "output_type": "stream",
     "text": [
      "/Users/martinm/anaconda3/envs/pytorch/lib/python3.9/site-packages/torchvision/datasets/mnist.py:480: UserWarning: The given NumPy array is not writeable, and PyTorch does not support non-writeable tensors. This means you can write to the underlying (supposedly non-writeable) NumPy array using the tensor. You may want to copy the array to protect its data or make it writeable before converting it to a tensor. This type of warning will be suppressed for the rest of this program. (Triggered internally at  /tmp/pip-req-build-x1rp5px8/torch/csrc/utils/tensor_numpy.cpp:141.)\n",
      "  return torch.from_numpy(parsed.astype(m[2], copy=False)).view(*s)\n"
     ]
    },
    {
     "name": "stdout",
     "output_type": "stream",
     "text": [
      "Done!\n"
     ]
    }
   ],
   "source": [
    "tensor_transform = transforms.ToTensor()\n",
    "dataset = datasets.FashionMNIST(root = \"./data\", train = True, download = True, transform = tensor_transform)\n",
    "loader = torch.utils.data.DataLoader(dataset = dataset, batch_size = 32, shuffle = True)\n",
    "\n",
    "testset = datasets.FashionMNIST(root = \"./data\", train = False, download = True, transform = tensor_transform)\n",
    "testloader = torch.utils.data.DataLoader(dataset = testset, batch_size = 1000, shuffle = False)"
   ]
  },
  {
   "cell_type": "code",
   "execution_count": 3,
   "id": "K22lQxajPFw3",
   "metadata": {
    "colab": {
     "base_uri": "https://localhost:8080/"
    },
    "executionInfo": {
     "elapsed": 9,
     "status": "ok",
     "timestamp": 1652944657309,
     "user": {
      "displayName": "Martin Melchior",
      "userId": "11283115997295685809"
     },
     "user_tz": -120
    },
    "id": "K22lQxajPFw3",
    "outputId": "d39005d2-b696-44db-98e6-c935eaefbfef"
   },
   "outputs": [
    {
     "name": "stdout",
     "output_type": "stream",
     "text": [
      "False\n"
     ]
    }
   ],
   "source": [
    "print(torch.cuda.is_available())\n",
    "device = torch.device(\"cuda\" if torch.cuda.is_available() else \"cpu\")"
   ]
  },
  {
   "cell_type": "markdown",
   "id": "25d1c63e-217c-40b3-9699-c2dde475b2a8",
   "metadata": {
    "id": "25d1c63e-217c-40b3-9699-c2dde475b2a8"
   },
   "source": [
    "## MLP"
   ]
  },
  {
   "cell_type": "code",
   "execution_count": 4,
   "id": "ff6db6fd-7c22-4cf0-962e-c4a4c1606386",
   "metadata": {
    "id": "ff6db6fd-7c22-4cf0-962e-c4a4c1606386",
    "tags": []
   },
   "outputs": [],
   "source": [
    "class AESimple(torch.nn.Module):\n",
    "    def __init__(self, latent_dim):\n",
    "        super().__init__()\n",
    "        # YOUR CODE\n",
    "\n",
    "        \n",
    "        \n",
    "        \n",
    "        \n",
    "        # YOUR CODE\n",
    "  \n",
    "    def forward(self, x):\n",
    "        # YOUR CODE\n",
    "\n",
    "        \n",
    "        \n",
    "        \n",
    "        \n",
    "        # YOUR CODE\n"
   ]
  },
  {
   "cell_type": "code",
   "execution_count": 5,
   "id": "b8dec93c-7ce0-413b-a9ff-025dc949cada",
   "metadata": {
    "executionInfo": {
     "elapsed": 251,
     "status": "ok",
     "timestamp": 1652944676685,
     "user": {
      "displayName": "Martin Melchior",
      "userId": "11283115997295685809"
     },
     "user_tz": -120
    },
    "id": "b8dec93c-7ce0-413b-a9ff-025dc949cada"
   },
   "outputs": [],
   "source": [
    "def train_eval(epochs, lr, model, loader, testloader):\n",
    "    pelosses = []\n",
    "    pelosses_test = []\n",
    "\n",
    "    model = model.to(device)\n",
    "    loss_function = torch.nn.MSELoss().to(device)\n",
    "    optimizer = torch.optim.Adam(model.parameters(), lr = lr) #, weight_decay = 1e-8)\n",
    "\n",
    "    for epoch in range(epochs):    \n",
    "        peloss = 0.0\n",
    "        for (image, _) in loader:\n",
    "            image = image.to(device)\n",
    "            reconstructed = model(image)  \n",
    "            loss = loss_function(reconstructed, image)\n",
    "            optimizer.zero_grad()\n",
    "            loss.backward()\n",
    "            optimizer.step()        \n",
    "            peloss += loss.item()\n",
    "        peloss /= len(loader)\n",
    "        pelosses.append(peloss)\n",
    "    \n",
    "        pelosstest = 0.0\n",
    "        with torch.no_grad():\n",
    "            for (image,_) in testloader:\n",
    "                image = image.to(device)\n",
    "                reconstructed = model(image)  \n",
    "                pelosstest += loss_function(reconstructed, image).item()\n",
    "            pelosstest /= len(testloader)\n",
    "            pelosses_test.append(pelosstest)\n",
    "        print(\"Epoch %i: %6.4f  %6.4f\"%(epoch,peloss,pelosstest))\n",
    "    return pelosses, pelosses_test"
   ]
  },
  {
   "cell_type": "code",
   "execution_count": 6,
   "id": "653caa1c-9cf2-4ef7-8365-42a9c9591a2d",
   "metadata": {},
   "outputs": [],
   "source": [
    "def plot_loss(pelosses, pelosses_test):\n",
    "    plt.style.use('fivethirtyeight')\n",
    "    plt.xlabel('Epochs')\n",
    "    plt.ylabel('Loss')\n",
    "    epochs = len(pelosses)\n",
    "    plt.semilogy(torch.arange(epochs)+1, pelosses, 'b-')\n",
    "    plt.semilogy(torch.arange(epochs)+1, pelosses_test, 'r-')    "
   ]
  },
  {
   "cell_type": "code",
   "execution_count": 7,
   "id": "65299314-e28b-4689-95c3-82e1a9a5a3ef",
   "metadata": {
    "colab": {
     "base_uri": "https://localhost:8080/",
     "height": 671
    },
    "executionInfo": {
     "elapsed": 162613,
     "status": "ok",
     "timestamp": 1652880763118,
     "user": {
      "displayName": "Martin Melchior",
      "userId": "11283115997295685809"
     },
     "user_tz": -120
    },
    "id": "65299314-e28b-4689-95c3-82e1a9a5a3ef",
    "outputId": "2dae62cb-3bb7-468a-dc8a-97478bb43c2e",
    "tags": []
   },
   "outputs": [
    {
     "name": "stdout",
     "output_type": "stream",
     "text": [
      "----------------------------------------------------------------\n",
      "        Layer (type)               Output Shape         Param #\n",
      "================================================================\n",
      "           Flatten-1                  [-1, 784]               0\n",
      "            Linear-2                  [-1, 128]         100,480\n",
      "              ReLU-3                  [-1, 128]               0\n",
      "            Linear-4                  [-1, 784]         101,136\n",
      "           Sigmoid-5                  [-1, 784]               0\n",
      "================================================================\n",
      "Total params: 201,616\n",
      "Trainable params: 201,616\n",
      "Non-trainable params: 0\n",
      "----------------------------------------------------------------\n",
      "Input size (MB): 0.00\n",
      "Forward/backward pass size (MB): 0.02\n",
      "Params size (MB): 0.77\n",
      "Estimated Total Size (MB): 0.79\n",
      "----------------------------------------------------------------\n",
      "Epoch 0: 0.0213  0.0115\n",
      "Epoch 1: 0.0100  0.0089\n",
      "Epoch 2: 0.0083  0.0079\n"
     ]
    },
    {
     "data": {
      "image/png": "[encoded data removed]",
      "text/plain": [
       "<Figure size 432x288 with 1 Axes>"
      ]
     },
     "metadata": {},
     "output_type": "display_data"
    }
   ],
   "source": [
    "nepochs = 3\n",
    "model = AESimple(128)\n",
    "summary(model, (1,28,28))\n",
    "pelosses, pelosses_test = train_eval(nepochs, 0.001, model, loader, testloader)\n",
    "plot_loss(pelosses, pelosses_test)"
   ]
  },
  {
   "cell_type": "code",
   "execution_count": 8,
   "id": "3f2a5901-ae5b-49a9-8cba-fe2710cbb656",
   "metadata": {
    "executionInfo": {
     "elapsed": 229,
     "status": "ok",
     "timestamp": 1652944674336,
     "user": {
      "displayName": "Martin Melchior",
      "userId": "11283115997295685809"
     },
     "user_tz": -120
    },
    "id": "3f2a5901-ae5b-49a9-8cba-fe2710cbb656"
   },
   "outputs": [],
   "source": [
    "def reconstruct(img, model):\n",
    "    img = model(img)\n",
    "    return img\n",
    "\n",
    "def plot_img(img, title):\n",
    "    plt.title(title)\n",
    "    plt.axis(\"off\")\n",
    "    plt.imshow(img.squeeze(), cmap=\"gray\")\n",
    "\n",
    "def plot_samples(dataset, models):\n",
    "    n = 10\n",
    "    m = len(models)\n",
    "    indices = torch.randint(len(dataset), size=(n,))\n",
    "    cols, rows = n, m+1\n",
    "    figure = plt.figure(figsize=(18, (m+1)*2))\n",
    "    for i in range(n):\n",
    "        idx = indices[i].item()\n",
    "        img, label = dataset[idx]\n",
    "        figure.add_subplot(rows, cols, i+1)\n",
    "        plot_img(img.numpy(), \"\")\n",
    "    \n",
    "        for j in range(m):\n",
    "            figure.add_subplot(rows, cols, (j+1)*n+i+1)\n",
    "            img, label = dataset[idx]\n",
    "            img = reconstruct(img, models[j].to(\"cpu\")).detach().numpy()\n",
    "            plot_img(img, \"\")\n",
    "    \n",
    "    plt.show()"
   ]
  },
  {
   "cell_type": "code",
   "execution_count": 10,
   "id": "00171b90-3e66-49d0-a719-e73c06ba0642",
   "metadata": {
    "colab": {
     "base_uri": "https://localhost:8080/",
     "height": 235
    },
    "executionInfo": {
     "elapsed": 808,
     "status": "ok",
     "timestamp": 1652880784080,
     "user": {
      "displayName": "Martin Melchior",
      "userId": "11283115997295685809"
     },
     "user_tz": -120
    },
    "id": "00171b90-3e66-49d0-a719-e73c06ba0642",
    "outputId": "51eb7ba0-051e-41b8-a896-2ab12a6af0aa"
   },
   "outputs": [
    {
     "data": {
      "image/png": "[encoded data removed]",
      "text/plain": [
       "<Figure size 1296x288 with 20 Axes>"
      ]
     },
     "metadata": {},
     "output_type": "display_data"
    }
   ],
   "source": [
    "plot_samples(testset, [model])"
   ]
  },
  {
   "cell_type": "code",
   "execution_count": 11,
   "id": "f536c056-0eea-48d5-99fa-dc55f1e141a0",
   "metadata": {
    "executionInfo": {
     "elapsed": 244,
     "status": "ok",
     "timestamp": 1652944682586,
     "user": {
      "displayName": "Martin Melchior",
      "userId": "11283115997295685809"
     },
     "user_tz": -120
    },
    "id": "f536c056-0eea-48d5-99fa-dc55f1e141a0"
   },
   "outputs": [],
   "source": [
    "def interpolate(img1, img2, model, d):\n",
    "    n = 20\n",
    "    lrow = int(n/2)\n",
    "    \n",
    "    model = model.to(\"cpu\")\n",
    "\n",
    "    img1 = img1.view(-1,1,28*28)\n",
    "    z1 = model.encoder(img1)\n",
    "    \n",
    "    z1 = z1.view(-1,d)\n",
    "    rec1 = model.decoder(z1)\n",
    "    img2 = img2.view(-1,28*28)\n",
    "    z2 = model.encoder(img2)\n",
    "    z2 = z2.view(-1,d)\n",
    "    rec2 = model.decoder(z2)\n",
    "    \n",
    "    imgs = [img1.detach().numpy(), rec1.detach().numpy()]\n",
    "    for i in range(n-4):\n",
    "        z = z1 + (z2-z1)*i/(n-4)\n",
    "        img_dist = model.decoder(z).detach().numpy()\n",
    "        imgs.append(img_dist)\n",
    "\n",
    "    imgs.append(rec2.detach().numpy())\n",
    "    imgs.append(img2.detach().numpy())\n",
    "\n",
    "    plt.figure(figsize=(18, 4))\n",
    "    for i in range(lrow):\n",
    "        ax = plt.subplot(2, lrow, i + 1)\n",
    "        plot_img(imgs[i].reshape(28,28), \"\")\n",
    "    \n",
    "    for i in range(lrow):\n",
    "        ax = plt.subplot(2, lrow, i + 1 + lrow)\n",
    "        plot_img(imgs[lrow+i].reshape(28,28), \"\")\n",
    "\n",
    "plt.show()"
   ]
  },
  {
   "cell_type": "code",
   "execution_count": 12,
   "id": "bfa49f88-283e-40ca-a114-10631d6646cc",
   "metadata": {
    "colab": {
     "base_uri": "https://localhost:8080/",
     "height": 235
    },
    "executionInfo": {
     "elapsed": 900,
     "status": "ok",
     "timestamp": 1652880813021,
     "user": {
      "displayName": "Martin Melchior",
      "userId": "11283115997295685809"
     },
     "user_tz": -120
    },
    "id": "bfa49f88-283e-40ca-a114-10631d6646cc",
    "outputId": "058efe4c-cda8-4ecf-8eb1-e06102c6bf57"
   },
   "outputs": [
    {
     "data": {
      "image/png": "[encoded data removed]",
      "text/plain": [
       "<Figure size 1296x288 with 20 Axes>"
      ]
     },
     "metadata": {},
     "output_type": "display_data"
    }
   ],
   "source": [
    "interpolate(testset[4][0], testset[2][0], model, 128)"
   ]
  },
  {
   "cell_type": "code",
   "execution_count": 13,
   "id": "85114f9b-8617-4997-bb7f-adc3e7528c67",
   "metadata": {
    "executionInfo": {
     "elapsed": 240,
     "status": "ok",
     "timestamp": 1652944686236,
     "user": {
      "displayName": "Martin Melchior",
      "userId": "11283115997295685809"
     },
     "user_tz": -120
    },
    "id": "85114f9b-8617-4997-bb7f-adc3e7528c67"
   },
   "outputs": [],
   "source": [
    "def noise_added(inputs, model, sigma=0.2):\n",
    "    n = 10\n",
    "    m = len(inputs)\n",
    "    to_plot = {}\n",
    "    model = model.to(\"cpu\")\n",
    "    for j in range(m):\n",
    "        img = inputs[j]\n",
    "        z = model.encoder(img)\n",
    "        rec = model.decoder(z)    \n",
    "        imgs = [img.detach().numpy(), rec.detach().numpy()]\n",
    "        for i in range(n-2):\n",
    "            noise = sigma*torch.randn((model.latent_dim,))\n",
    "            img_dist = model.decoder(z+noise).detach().numpy()\n",
    "            imgs.append(img_dist)        \n",
    "        to_plot[j] = imgs\n",
    "        \n",
    "    plt.figure(figsize=(20, m*2))\n",
    "    ax = plt.subplot(m, n, 1)\n",
    "    for j in range(m):\n",
    "        for i in range(n):\n",
    "            ax = plt.subplot(m, n, j*n+i+1)\n",
    "            plot_img(to_plot[j][i].reshape(28,28), \"\")\n",
    "        \n",
    "    plt.show()"
   ]
  },
  {
   "cell_type": "code",
   "execution_count": 15,
   "id": "13032bc3-9f17-4529-981f-7980d8ff10c9",
   "metadata": {
    "colab": {
     "base_uri": "https://localhost:8080/",
     "height": 649
    },
    "executionInfo": {
     "elapsed": 1773,
     "status": "ok",
     "timestamp": 1652880827418,
     "user": {
      "displayName": "Martin Melchior",
      "userId": "11283115997295685809"
     },
     "user_tz": -120
    },
    "id": "13032bc3-9f17-4529-981f-7980d8ff10c9",
    "outputId": "97cc328a-1c40-4618-afa4-652dc8bc5ea7"
   },
   "outputs": [
    {
     "data": {
      "image/png": "[encoded data removed]",
      "text/plain": [
       "<Figure size 1440x864 with 60 Axes>"
      ]
     },
     "metadata": {},
     "output_type": "display_data"
    }
   ],
   "source": [
    "noise_added([testset[i][0] for i in [2,3,5,6,8,9]], model, sigma=0.5)"
   ]
  },
  {
   "cell_type": "code",
   "execution_count": 16,
   "id": "a4c0ed35-e11c-400b-b8e2-907629bd3f21",
   "metadata": {
    "executionInfo": {
     "elapsed": 257,
     "status": "ok",
     "timestamp": 1652944690024,
     "user": {
      "displayName": "Martin Melchior",
      "userId": "11283115997295685809"
     },
     "user_tz": -120
    },
    "id": "a4c0ed35-e11c-400b-b8e2-907629bd3f21"
   },
   "outputs": [],
   "source": [
    "def generated(model, ld=None):\n",
    "    cols = 10\n",
    "    rows = 6\n",
    "    model = model.to(\"cpu\")\n",
    "    plt.figure(figsize=(20, rows*2))\n",
    "    ax = plt.subplot(rows, cols, 1)\n",
    "    d = model.latent_dim if hasattr(model,\"latent_dim\") else ld\n",
    "    for j in range(rows):\n",
    "        for i in range(cols):\n",
    "            z = torch.randn((d,)).view(-1,d)\n",
    "            rec = model.decoder(z).detach().numpy()        \n",
    "            ax = plt.subplot(rows, cols, j*cols+i+1)\n",
    "            plot_img(rec.reshape(28,28), \"\")\n",
    "        \n",
    "    plt.show()"
   ]
  },
  {
   "cell_type": "code",
   "execution_count": 17,
   "id": "b315fb53-b893-4eff-882d-e74ae001fcd6",
   "metadata": {
    "colab": {
     "base_uri": "https://localhost:8080/",
     "height": 667
    },
    "executionInfo": {
     "elapsed": 1772,
     "status": "ok",
     "timestamp": 1652881762699,
     "user": {
      "displayName": "Martin Melchior",
      "userId": "11283115997295685809"
     },
     "user_tz": -120
    },
    "id": "b315fb53-b893-4eff-882d-e74ae001fcd6",
    "outputId": "0bc34ea9-5dc1-42a5-f0eb-464c18b56151"
   },
   "outputs": [
    {
     "data": {
      "image/png": "[encoded data removed]",
      "text/plain": [
       "<Figure size 1440x864 with 60 Axes>"
      ]
     },
     "metadata": {},
     "output_type": "display_data"
    }
   ],
   "source": [
    "generated(model)"
   ]
  },
  {
   "cell_type": "markdown",
   "id": "21d63319-5c16-4433-8549-53afc3344985",
   "metadata": {
    "id": "21d63319-5c16-4433-8549-53afc3344985"
   },
   "source": [
    "## CNN"
   ]
  },
  {
   "cell_type": "code",
   "execution_count": 18,
   "id": "fc94c0fe-d172-4445-8e32-3331560d3789",
   "metadata": {
    "id": "fc94c0fe-d172-4445-8e32-3331560d3789"
   },
   "outputs": [],
   "source": [
    "class AECNN1(torch.nn.Module):\n",
    "    def __init__(self, latent_dim):\n",
    "        super().__init__()\n",
    "        # YOUR CODE\n",
    "\n",
    "        \n",
    "        \n",
    "        \n",
    "        \n",
    "        \n",
    "        \n",
    "        \n",
    "        \n",
    "        \n",
    "        # YOUR CODE\n",
    "  \n",
    "    def forward(self, x):\n",
    "        # YOUR CODE\n",
    "\n",
    "        \n",
    "        \n",
    "        \n",
    "        \n",
    "        \n",
    "        \n",
    "        \n",
    "        \n",
    "        # YOUR CODE\n",
    "    "
   ]
  },
  {
   "cell_type": "code",
   "execution_count": 19,
   "id": "2918405f-2425-4f80-952f-b637eddefec0",
   "metadata": {
    "colab": {
     "base_uri": "https://localhost:8080/"
    },
    "executionInfo": {
     "elapsed": 277594,
     "status": "ok",
     "timestamp": 1652881169927,
     "user": {
      "displayName": "Martin Melchior",
      "userId": "11283115997295685809"
     },
     "user_tz": -120
    },
    "id": "2918405f-2425-4f80-952f-b637eddefec0",
    "outputId": "0dca5626-6e84-4415-9bb0-3b996b111341",
    "tags": []
   },
   "outputs": [
    {
     "name": "stdout",
     "output_type": "stream",
     "text": [
      "Epoch 0: 0.0212  0.0131\n",
      "Epoch 1: 0.0115  0.0103\n",
      "Epoch 2: 0.0093  0.0085\n"
     ]
    }
   ],
   "source": [
    "epochs = 3\n",
    "lr = 0.001\n",
    "model = AECNN1(128)\n",
    "pelosses2, pelosses_test2 = train_eval(epochs, lr, model, loader, testloader)"
   ]
  },
  {
   "cell_type": "code",
   "execution_count": null,
   "id": "23b75f7e-0a9b-4e85-a555-c488ae0fb353",
   "metadata": {
    "colab": {
     "base_uri": "https://localhost:8080/",
     "height": 304
    },
    "executionInfo": {
     "elapsed": 740,
     "status": "ok",
     "timestamp": 1652881228088,
     "user": {
      "displayName": "Martin Melchior",
      "userId": "11283115997295685809"
     },
     "user_tz": -120
    },
    "id": "23b75f7e-0a9b-4e85-a555-c488ae0fb353",
    "outputId": "ad2a438b-37fd-4a23-cbd2-a60352b3c113"
   },
   "outputs": [],
   "source": [
    "plot_loss(pelosses2, pelosses_test2)"
   ]
  },
  {
   "cell_type": "code",
   "execution_count": null,
   "id": "4a92948e-423b-4da5-a1d1-145985f4a717",
   "metadata": {},
   "outputs": [],
   "source": [
    "plot_samples(testset, [model])"
   ]
  },
  {
   "cell_type": "code",
   "execution_count": null,
   "id": "n4jM1tpcacwR",
   "metadata": {
    "colab": {
     "base_uri": "https://localhost:8080/",
     "height": 667
    },
    "executionInfo": {
     "elapsed": 1993,
     "status": "ok",
     "timestamp": 1652881887501,
     "user": {
      "displayName": "Martin Melchior",
      "userId": "11283115997295685809"
     },
     "user_tz": -120
    },
    "id": "n4jM1tpcacwR",
    "outputId": "da9b9542-ff2c-46f3-f065-814a728d5da2"
   },
   "outputs": [],
   "source": [
    "generated4cnn(model, 128)"
   ]
  },
  {
   "cell_type": "markdown",
   "id": "16e8b640-4a46-47af-8243-496f2e415fa6",
   "metadata": {
    "id": "16e8b640-4a46-47af-8243-496f2e415fa6"
   },
   "source": [
    "## VAE"
   ]
  },
  {
   "cell_type": "code",
   "execution_count": 25,
   "id": "MKQjYLFCJpHK",
   "metadata": {
    "executionInfo": {
     "elapsed": 400,
     "status": "ok",
     "timestamp": 1652944771974,
     "user": {
      "displayName": "Martin Melchior",
      "userId": "11283115997295685809"
     },
     "user_tz": -120
    },
    "id": "MKQjYLFCJpHK"
   },
   "outputs": [],
   "source": [
    "class VAECNN2(torch.nn.Module): \n",
    "    def __init__(self, latent_dim, beta=1.0):\n",
    "        super().__init__()\n",
    "\n",
    "        \n",
    "        \n",
    "        \n",
    "        \n",
    "        \n",
    "        \n",
    "        \n",
    "        \n",
    "        \n",
    "        \n",
    "        \n",
    "        \n",
    "        \n",
    "        # YOUR CODE\n",
    "  \n",
    "    def forward(self, x):\n",
    "        # YOUR CODE\n",
    "\n",
    "        \n",
    "        \n",
    "        \n",
    "        \n",
    "        \n",
    "        \n",
    "        \n",
    "        \n",
    "        # YOUR CODE\n",
    "    \n",
    "    def loss(self, img, rec):\n",
    "        # YOUR CODE\n",
    "        # Compute the total loss (per batch): Reconstruction Loss + KL Loss\n",
    "        \n",
    "        \n",
    "        \n",
    "        \n",
    "        \n",
    "        \n",
    "        # YOUR CODE\n",
    "    \n",
    "    def reconstruct(self, x):\n",
    "        # YOUR CODE\n",
    "        # Just take the mu as z (without sampling)\n",
    "        \n",
    "        \n",
    "        \n",
    "        # YOUR CODE\n"
   ]
  },
  {
   "cell_type": "code",
   "execution_count": 26,
   "id": "2ee1dd1e-0aac-41fe-ab70-857b185f4215",
   "metadata": {
    "executionInfo": {
     "elapsed": 267,
     "status": "ok",
     "timestamp": 1652944777091,
     "user": {
      "displayName": "Martin Melchior",
      "userId": "11283115997295685809"
     },
     "user_tz": -120
    },
    "id": "2ee1dd1e-0aac-41fe-ab70-857b185f4215"
   },
   "outputs": [],
   "source": [
    "def train_eval_vae(epochs, lr, model, loader, testloader, decay_lr=0.9):\n",
    "    pelosses = []\n",
    "    pelosses_rec = []\n",
    "    pelosses_kl = []\n",
    "    pelosses_test = []\n",
    "    pelosses_test_rec = []\n",
    "    pelosses_test_kl = []\n",
    "\n",
    "    model = model.to(device)\n",
    "    loss_function = torch.nn.MSELoss().to(device)\n",
    "    optimizer = torch.optim.Adam(model.parameters(), lr = lr) #, weight_decay = 1e-8)\n",
    "    scheduler = torch.optim.lr_scheduler.ExponentialLR(optimizer, gamma=decay_lr)\n",
    "    \n",
    "    for epoch in range(epochs):    \n",
    "        peloss = 0.0\n",
    "        peloss_rec = 0.0\n",
    "        peloss_kl = 0.0\n",
    "        for (image, _) in loader:\n",
    "            image = image.to(device)\n",
    "            reconstructed = model(image)  \n",
    "            loss, recloss, klloss = model.loss(reconstructed, image)\n",
    "            optimizer.zero_grad()\n",
    "            loss.backward()\n",
    "            optimizer.step()        \n",
    "            peloss += loss.item()\n",
    "            peloss_rec += recloss.item()\n",
    "            peloss_kl += klloss.item()\n",
    "        peloss /= len(loader)\n",
    "        peloss_rec /= len(loader)\n",
    "        peloss_kl /= len(loader)\n",
    "        pelosses.append(peloss)\n",
    "        pelosses_rec.append(peloss_rec)\n",
    "        pelosses_kl.append(peloss_kl)\n",
    "        \n",
    "        scheduler.step()\n",
    "    \n",
    "        testpeloss = 0.0\n",
    "        testpeloss_rec = 0.0\n",
    "        testpeloss_kl = 0.0\n",
    "        with torch.no_grad():\n",
    "            for (image,_) in testloader:\n",
    "                image = image.to(device)\n",
    "                reconstructed = model(image)  \n",
    "                loss, recloss, klloss = model.loss(reconstructed, image)\n",
    "                testpeloss += loss.item()\n",
    "                testpeloss_rec += recloss.item()\n",
    "                testpeloss_kl += klloss.item()\n",
    "            testpeloss /= len(testloader)\n",
    "            testpeloss_rec /= len(testloader)\n",
    "            testpeloss_kl /= len(testloader)\n",
    "            pelosses_test.append(testpeloss)\n",
    "            pelosses_test_rec.append(testpeloss_rec)\n",
    "            pelosses_test_kl.append(testpeloss_kl)\n",
    "        print(\"Epoch %i: %6.4f  %6.4f %6.4f %6.4f %6.4f %6.4f\"%(epoch, peloss, peloss_rec, peloss_kl, testpeloss, testpeloss_rec, testpeloss_kl))\n",
    "    return pelosses, pelosses_rec, pelosses_kl, pelosses_test, pelosses_test_rec, pelosses_test_kl"
   ]
  },
  {
   "cell_type": "code",
   "execution_count": 27,
   "id": "ab7401e0-28e7-4de5-ab7b-cfc8c0b5ced1",
   "metadata": {
    "colab": {
     "base_uri": "https://localhost:8080/"
    },
    "executionInfo": {
     "elapsed": 340351,
     "status": "ok",
     "timestamp": 1652945134783,
     "user": {
      "displayName": "Martin Melchior",
      "userId": "11283115997295685809"
     },
     "user_tz": -120
    },
    "id": "ab7401e0-28e7-4de5-ab7b-cfc8c0b5ced1",
    "outputId": "d5cdc216-e880-4fe4-b0c6-40f1b05ef0d7"
   },
   "outputs": [
    {
     "name": "stdout",
     "output_type": "stream",
     "text": [
      "Epoch 0: 0.0526  0.0438 0.0088 0.0424 0.0343 0.0081\n",
      "Epoch 1: 0.0390  0.0303 0.0086 0.0372 0.0291 0.0081\n",
      "Epoch 2: 0.0355  0.0269 0.0086 0.0344 0.0259 0.0086\n"
     ]
    }
   ],
   "source": [
    "epochs = 3\n",
    "lr = 0.001\n",
    "vae = VAECNN2(128)\n",
    "pelosses, pelosses_rec, pelosses_kl, pelosses_test, pelosses_test_rec, pelosses_test_kl \\\n",
    "                                        = train_eval_vae(epochs, lr, vae, loader, testloader,decay_lr=1.0)"
   ]
  },
  {
   "cell_type": "code",
   "execution_count": null,
   "id": "fafeb103-9869-4828-a265-b62f0e4530fa",
   "metadata": {
    "colab": {
     "base_uri": "https://localhost:8080/",
     "height": 732
    },
    "executionInfo": {
     "elapsed": 795,
     "status": "ok",
     "timestamp": 1652945138163,
     "user": {
      "displayName": "Martin Melchior",
      "userId": "11283115997295685809"
     },
     "user_tz": -120
    },
    "id": "fafeb103-9869-4828-a265-b62f0e4530fa",
    "outputId": "6b094246-f058-4377-88b2-3c2bdc6819c8"
   },
   "outputs": [],
   "source": [
    "plt.figure(figsize=(18,12))\n",
    "plt.xlabel('Epochs')\n",
    "plt.ylabel('Loss')\n",
    "epochs = len(pelosses)\n",
    "plt.plot(torch.arange(epochs)+1, pelosses, 'b-', label=\"train_loss\")\n",
    "plt.plot(torch.arange(epochs)+1, pelosses_test, 'r-',label=\"test_loss\")    \n",
    "plt.bar(torch.arange(epochs)+1, pelosses_test_rec, label=\"test_loss_rec\")\n",
    "plt.bar(torch.arange(epochs)+1, pelosses_test_kl, bottom=pelosses_test_rec, label=\"test_loss_kl\")\n",
    "plt.legend()"
   ]
  },
  {
   "cell_type": "code",
   "execution_count": 29,
   "id": "da85b220-4df8-4147-945e-3a3f5a5ad241",
   "metadata": {
    "executionInfo": {
     "elapsed": 247,
     "status": "ok",
     "timestamp": 1652945144497,
     "user": {
      "displayName": "Martin Melchior",
      "userId": "11283115997295685809"
     },
     "user_tz": -120
    },
    "id": "da85b220-4df8-4147-945e-3a3f5a5ad241"
   },
   "outputs": [],
   "source": [
    "def plot_samples_vae(dataset, model):\n",
    "    n = 10\n",
    "    m = 1\n",
    "    model.to(\"cpu\")\n",
    "    indices = torch.randint(len(dataset), size=(n,))\n",
    "    cols, rows = n, m+1\n",
    "    figure = plt.figure(figsize=(18, (m+1)*2))\n",
    "    for i in range(n):\n",
    "        idx = indices[i].item()\n",
    "        img, label = dataset[idx]\n",
    "        figure.add_subplot(rows, cols, i+1)\n",
    "        plot_img(img.numpy(), \"\")\n",
    "    \n",
    "        figure.add_subplot(rows, cols, n+i+1)\n",
    "        img, label = dataset[idx]\n",
    "        img = model.reconstruct(img).detach().numpy()\n",
    "        plot_img(img, \"\")    \n",
    "    plt.show()"
   ]
  },
  {
   "cell_type": "code",
   "execution_count": null,
   "id": "16315400-ecb6-489b-a638-2e170dc40efe",
   "metadata": {
    "colab": {
     "base_uri": "https://localhost:8080/",
     "height": 151
    },
    "executionInfo": {
     "elapsed": 782,
     "status": "ok",
     "timestamp": 1652945154547,
     "user": {
      "displayName": "Martin Melchior",
      "userId": "11283115997295685809"
     },
     "user_tz": -120
    },
    "id": "16315400-ecb6-489b-a638-2e170dc40efe",
    "outputId": "bcfc4deb-d4bc-45e5-8819-5667d479799f"
   },
   "outputs": [],
   "source": [
    "plot_samples_vae(testset, vae)"
   ]
  },
  {
   "cell_type": "code",
   "execution_count": 31,
   "id": "76e23df5-32d5-448c-992a-972712ff86c2",
   "metadata": {
    "executionInfo": {
     "elapsed": 235,
     "status": "ok",
     "timestamp": 1652945203244,
     "user": {
      "displayName": "Martin Melchior",
      "userId": "11283115997295685809"
     },
     "user_tz": -120
    },
    "id": "76e23df5-32d5-448c-992a-972712ff86c2"
   },
   "outputs": [],
   "source": [
    "def generated(model):\n",
    "    cols = 10\n",
    "    rows = 6\n",
    "    model = model.to(\"cpu\")\n",
    "    plt.figure(figsize=(20, rows*2))\n",
    "    ax = plt.subplot(rows, cols, 1)\n",
    "    for j in range(rows):\n",
    "        for i in range(cols):\n",
    "            z = torch.randn((model.d,)).view(-1,model.d,1,1)\n",
    "            rec = model.decoder(z).detach().numpy()        \n",
    "            ax = plt.subplot(rows, cols, j*cols+i+1)\n",
    "            plot_img(rec.reshape(28,28), \"\")\n",
    "        \n",
    "    plt.show()"
   ]
  },
  {
   "cell_type": "code",
   "execution_count": null,
   "id": "a7a6a729-17ed-4f93-bf39-7ffed14f102a",
   "metadata": {
    "colab": {
     "base_uri": "https://localhost:8080/",
     "height": 740
    },
    "executionInfo": {
     "elapsed": 2271,
     "status": "ok",
     "timestamp": 1652945207152,
     "user": {
      "displayName": "Martin Melchior",
      "userId": "11283115997295685809"
     },
     "user_tz": -120
    },
    "id": "a7a6a729-17ed-4f93-bf39-7ffed14f102a",
    "outputId": "163f26ef-5519-44e1-f236-08511b0f1334"
   },
   "outputs": [],
   "source": [
    "generated(vae)"
   ]
  },
  {
   "cell_type": "code",
   "execution_count": null,
   "id": "ac442622-1de9-4434-a664-15fa3f13f399",
   "metadata": {},
   "outputs": [],
   "source": []
  }
 ],
 "metadata": {
  "accelerator": "GPU",
  "colab": {
   "collapsed_sections": [],
   "name": "ae.ipynb",
   "provenance": []
  },
  "kernelspec": {
   "display_name": "Python 3 (ipykernel)",
   "language": "python",
   "name": "python3"
  },
  "language_info": {
   "codemirror_mode": {
    "name": "ipython",
    "version": 3
   },
   "file_extension": ".py",
   "mimetype": "text/x-python",
   "name": "python",
   "nbconvert_exporter": "python",
   "pygments_lexer": "ipython3",
   "version": "3.9.7"
  },
  "widgets": {
   "application/vnd.jupyter.widget-state+json": {
    "0038b7fa14034e8aa0cfad360f6466b9": {
     "model_module": "@jupyter-widgets/controls",
     "model_module_version": "1.5.0",
     "model_name": "ProgressStyleModel",
     "state": {
      "_model_module": "@jupyter-widgets/controls",
      "_model_module_version": "1.5.0",
      "_model_name": "ProgressStyleModel",
      "_view_count": null,
      "_view_module": "@jupyter-widgets/base",
      "_view_module_version": "1.2.0",
      "_view_name": "StyleView",
      "bar_color": null,
      "description_width": ""
     }
    },
    "04753ed6734e4ae2a66695b1044a5b0b": {
     "model_module": "@jupyter-widgets/base",
     "model_module_version": "1.2.0",
     "model_name": "LayoutModel",
     "state": {
      "_model_module": "@jupyter-widgets/base",
      "_model_module_version": "1.2.0",
      "_model_name": "LayoutModel",
      "_view_count": null,
      "_view_module": "@jupyter-widgets/base",
      "_view_module_version": "1.2.0",
      "_view_name": "LayoutView",
      "align_content": null,
      "align_items": null,
      "align_self": null,
      "border": null,
      "bottom": null,
      "display": null,
      "flex": null,
      "flex_flow": null,
      "grid_area": null,
      "grid_auto_columns": null,
      "grid_auto_flow": null,
      "grid_auto_rows": null,
      "grid_column": null,
      "grid_gap": null,
      "grid_row": null,
      "grid_template_areas": null,
      "grid_template_columns": null,
      "grid_template_rows": null,
      "height": null,
      "justify_content": null,
      "justify_items": null,
      "left": null,
      "margin": null,
      "max_height": null,
      "max_width": null,
      "min_height": null,
      "min_width": null,
      "object_fit": null,
      "object_position": null,
      "order": null,
      "overflow": null,
      "overflow_x": null,
      "overflow_y": null,
      "padding": null,
      "right": null,
      "top": null,
      "visibility": null,
      "width": null
     }
    },
    "10af3ef91a1444fb922085456aeefccc": {
     "model_module": "@jupyter-widgets/controls",
     "model_module_version": "1.5.0",
     "model_name": "FloatProgressModel",
     "state": {
      "_dom_classes": [],
      "_model_module": "@jupyter-widgets/controls",
      "_model_module_version": "1.5.0",
      "_model_name": "FloatProgressModel",
      "_view_count": null,
      "_view_module": "@jupyter-widgets/controls",
      "_view_module_version": "1.5.0",
      "_view_name": "ProgressView",
      "bar_style": "success",
      "description": "",
      "description_tooltip": null,
      "layout": "IPY_MODEL_8630fc9011914247bdb9944c4757597d",
      "max": 29515,
      "min": 0,
      "orientation": "horizontal",
      "style": "IPY_MODEL_49fe2245921548b5be5dc4082af90289",
      "value": 29515
     }
    },
    "1767110c0d414f07bf9dd05dde13a7c9": {
     "model_module": "@jupyter-widgets/controls",
     "model_module_version": "1.5.0",
     "model_name": "HBoxModel",
     "state": {
      "_dom_classes": [],
      "_model_module": "@jupyter-widgets/controls",
      "_model_module_version": "1.5.0",
      "_model_name": "HBoxModel",
      "_view_count": null,
      "_view_module": "@jupyter-widgets/controls",
      "_view_module_version": "1.5.0",
      "_view_name": "HBoxView",
      "box_style": "",
      "children": [
       "IPY_MODEL_4200a4de867c48a6824fdbc8e813e001",
       "IPY_MODEL_69e156fc29f448e787201560c13de23c",
       "IPY_MODEL_8d564d19ae064e63a81fb9364e220df9"
      ],
      "layout": "IPY_MODEL_b926ab54343f4e86b28b6a5a55bef0f7"
     }
    },
    "3482a2fdd70040fb80bf81a781702efe": {
     "model_module": "@jupyter-widgets/controls",
     "model_module_version": "1.5.0",
     "model_name": "HBoxModel",
     "state": {
      "_dom_classes": [],
      "_model_module": "@jupyter-widgets/controls",
      "_model_module_version": "1.5.0",
      "_model_name": "HBoxModel",
      "_view_count": null,
      "_view_module": "@jupyter-widgets/controls",
      "_view_module_version": "1.5.0",
      "_view_name": "HBoxView",
      "box_style": "",
      "children": [
       "IPY_MODEL_6e6a6c3e794641d89ef60e0216cbc76e",
       "IPY_MODEL_10af3ef91a1444fb922085456aeefccc",
       "IPY_MODEL_fec9fe165587436c88fbdaf146ef4e99"
      ],
      "layout": "IPY_MODEL_540fa568744a4872bb35551a2f2499fa"
     }
    },
    "3b3a773b61504ec7b2f4dc2ef5dece8d": {
     "model_module": "@jupyter-widgets/controls",
     "model_module_version": "1.5.0",
     "model_name": "FloatProgressModel",
     "state": {
      "_dom_classes": [],
      "_model_module": "@jupyter-widgets/controls",
      "_model_module_version": "1.5.0",
      "_model_name": "FloatProgressModel",
      "_view_count": null,
      "_view_module": "@jupyter-widgets/controls",
      "_view_module_version": "1.5.0",
      "_view_name": "ProgressView",
      "bar_style": "success",
      "description": "",
      "description_tooltip": null,
      "layout": "IPY_MODEL_9eca29647dd4451abbaf34bdf79deb9f",
      "max": 5148,
      "min": 0,
      "orientation": "horizontal",
      "style": "IPY_MODEL_700702e5451e4be6ab3c5e1efa9f6b4d",
      "value": 5148
     }
    },
    "3e44f52ca4014969ba4c1207994ab4d1": {
     "model_module": "@jupyter-widgets/controls",
     "model_module_version": "1.5.0",
     "model_name": "HTMLModel",
     "state": {
      "_dom_classes": [],
      "_model_module": "@jupyter-widgets/controls",
      "_model_module_version": "1.5.0",
      "_model_name": "HTMLModel",
      "_view_count": null,
      "_view_module": "@jupyter-widgets/controls",
      "_view_module_version": "1.5.0",
      "_view_name": "HTMLView",
      "description": "",
      "description_tooltip": null,
      "layout": "IPY_MODEL_cc0fad87ac3244d4a91b86904b3a1c78",
      "placeholder": "​",
      "style": "IPY_MODEL_cda1ad2e0ee0439e9727f24e2aa41cf4",
      "value": " 6144/? [00:00&lt;00:00, 215412.55it/s]"
     }
    },
    "4200a4de867c48a6824fdbc8e813e001": {
     "model_module": "@jupyter-widgets/controls",
     "model_module_version": "1.5.0",
     "model_name": "HTMLModel",
     "state": {
      "_dom_classes": [],
      "_model_module": "@jupyter-widgets/controls",
      "_model_module_version": "1.5.0",
      "_model_name": "HTMLModel",
      "_view_count": null,
      "_view_module": "@jupyter-widgets/controls",
      "_view_module_version": "1.5.0",
      "_view_name": "HTMLView",
      "description": "",
      "description_tooltip": null,
      "layout": "IPY_MODEL_04753ed6734e4ae2a66695b1044a5b0b",
      "placeholder": "​",
      "style": "IPY_MODEL_6cca91d6c64a423e81097b9ecc98ca63",
      "value": ""
     }
    },
    "44074ef2d1cc4249aead7909b559c426": {
     "model_module": "@jupyter-widgets/controls",
     "model_module_version": "1.5.0",
     "model_name": "DescriptionStyleModel",
     "state": {
      "_model_module": "@jupyter-widgets/controls",
      "_model_module_version": "1.5.0",
      "_model_name": "DescriptionStyleModel",
      "_view_count": null,
      "_view_module": "@jupyter-widgets/base",
      "_view_module_version": "1.2.0",
      "_view_name": "StyleView",
      "description_width": ""
     }
    },
    "49fe2245921548b5be5dc4082af90289": {
     "model_module": "@jupyter-widgets/controls",
     "model_module_version": "1.5.0",
     "model_name": "ProgressStyleModel",
     "state": {
      "_model_module": "@jupyter-widgets/controls",
      "_model_module_version": "1.5.0",
      "_model_name": "ProgressStyleModel",
      "_view_count": null,
      "_view_module": "@jupyter-widgets/base",
      "_view_module_version": "1.2.0",
      "_view_name": "StyleView",
      "bar_color": null,
      "description_width": ""
     }
    },
    "540fa568744a4872bb35551a2f2499fa": {
     "model_module": "@jupyter-widgets/base",
     "model_module_version": "1.2.0",
     "model_name": "LayoutModel",
     "state": {
      "_model_module": "@jupyter-widgets/base",
      "_model_module_version": "1.2.0",
      "_model_name": "LayoutModel",
      "_view_count": null,
      "_view_module": "@jupyter-widgets/base",
      "_view_module_version": "1.2.0",
      "_view_name": "LayoutView",
      "align_content": null,
      "align_items": null,
      "align_self": null,
      "border": null,
      "bottom": null,
      "display": null,
      "flex": null,
      "flex_flow": null,
      "grid_area": null,
      "grid_auto_columns": null,
      "grid_auto_flow": null,
      "grid_auto_rows": null,
      "grid_column": null,
      "grid_gap": null,
      "grid_row": null,
      "grid_template_areas": null,
      "grid_template_columns": null,
      "grid_template_rows": null,
      "height": null,
      "justify_content": null,
      "justify_items": null,
      "left": null,
      "margin": null,
      "max_height": null,
      "max_width": null,
      "min_height": null,
      "min_width": null,
      "object_fit": null,
      "object_position": null,
      "order": null,
      "overflow": null,
      "overflow_x": null,
      "overflow_y": null,
      "padding": null,
      "right": null,
      "top": null,
      "visibility": null,
      "width": null
     }
    },
    "57df724edd5747f9a8583e0139eea325": {
     "model_module": "@jupyter-widgets/base",
     "model_module_version": "1.2.0",
     "model_name": "LayoutModel",
     "state": {
      "_model_module": "@jupyter-widgets/base",
      "_model_module_version": "1.2.0",
      "_model_name": "LayoutModel",
      "_view_count": null,
      "_view_module": "@jupyter-widgets/base",
      "_view_module_version": "1.2.0",
      "_view_name": "LayoutView",
      "align_content": null,
      "align_items": null,
      "align_self": null,
      "border": null,
      "bottom": null,
      "display": null,
      "flex": null,
      "flex_flow": null,
      "grid_area": null,
      "grid_auto_columns": null,
      "grid_auto_flow": null,
      "grid_auto_rows": null,
      "grid_column": null,
      "grid_gap": null,
      "grid_row": null,
      "grid_template_areas": null,
      "grid_template_columns": null,
      "grid_template_rows": null,
      "height": null,
      "justify_content": null,
      "justify_items": null,
      "left": null,
      "margin": null,
      "max_height": null,
      "max_width": null,
      "min_height": null,
      "min_width": null,
      "object_fit": null,
      "object_position": null,
      "order": null,
      "overflow": null,
      "overflow_x": null,
      "overflow_y": null,
      "padding": null,
      "right": null,
      "top": null,
      "visibility": null,
      "width": null
     }
    },
    "6237b089853146f284b150169359dd2f": {
     "model_module": "@jupyter-widgets/base",
     "model_module_version": "1.2.0",
     "model_name": "LayoutModel",
     "state": {
      "_model_module": "@jupyter-widgets/base",
      "_model_module_version": "1.2.0",
      "_model_name": "LayoutModel",
      "_view_count": null,
      "_view_module": "@jupyter-widgets/base",
      "_view_module_version": "1.2.0",
      "_view_name": "LayoutView",
      "align_content": null,
      "align_items": null,
      "align_self": null,
      "border": null,
      "bottom": null,
      "display": null,
      "flex": null,
      "flex_flow": null,
      "grid_area": null,
      "grid_auto_columns": null,
      "grid_auto_flow": null,
      "grid_auto_rows": null,
      "grid_column": null,
      "grid_gap": null,
      "grid_row": null,
      "grid_template_areas": null,
      "grid_template_columns": null,
      "grid_template_rows": null,
      "height": null,
      "justify_content": null,
      "justify_items": null,
      "left": null,
      "margin": null,
      "max_height": null,
      "max_width": null,
      "min_height": null,
      "min_width": null,
      "object_fit": null,
      "object_position": null,
      "order": null,
      "overflow": null,
      "overflow_x": null,
      "overflow_y": null,
      "padding": null,
      "right": null,
      "top": null,
      "visibility": null,
      "width": null
     }
    },
    "69a8ae81999f4a5685467f56b73167dc": {
     "model_module": "@jupyter-widgets/controls",
     "model_module_version": "1.5.0",
     "model_name": "DescriptionStyleModel",
     "state": {
      "_model_module": "@jupyter-widgets/controls",
      "_model_module_version": "1.5.0",
      "_model_name": "DescriptionStyleModel",
      "_view_count": null,
      "_view_module": "@jupyter-widgets/base",
      "_view_module_version": "1.2.0",
      "_view_name": "StyleView",
      "description_width": ""
     }
    },
    "69e156fc29f448e787201560c13de23c": {
     "model_module": "@jupyter-widgets/controls",
     "model_module_version": "1.5.0",
     "model_name": "FloatProgressModel",
     "state": {
      "_dom_classes": [],
      "_model_module": "@jupyter-widgets/controls",
      "_model_module_version": "1.5.0",
      "_model_name": "FloatProgressModel",
      "_view_count": null,
      "_view_module": "@jupyter-widgets/controls",
      "_view_module_version": "1.5.0",
      "_view_name": "ProgressView",
      "bar_style": "success",
      "description": "",
      "description_tooltip": null,
      "layout": "IPY_MODEL_95324a694be04a0c8ad561dd2147c3e8",
      "max": 4422102,
      "min": 0,
      "orientation": "horizontal",
      "style": "IPY_MODEL_823a47296eb74529a72cb2383e73ddeb",
      "value": 4422102
     }
    },
    "6cca91d6c64a423e81097b9ecc98ca63": {
     "model_module": "@jupyter-widgets/controls",
     "model_module_version": "1.5.0",
     "model_name": "DescriptionStyleModel",
     "state": {
      "_model_module": "@jupyter-widgets/controls",
      "_model_module_version": "1.5.0",
      "_model_name": "DescriptionStyleModel",
      "_view_count": null,
      "_view_module": "@jupyter-widgets/base",
      "_view_module_version": "1.2.0",
      "_view_name": "StyleView",
      "description_width": ""
     }
    },
    "6e6a6c3e794641d89ef60e0216cbc76e": {
     "model_module": "@jupyter-widgets/controls",
     "model_module_version": "1.5.0",
     "model_name": "HTMLModel",
     "state": {
      "_dom_classes": [],
      "_model_module": "@jupyter-widgets/controls",
      "_model_module_version": "1.5.0",
      "_model_name": "HTMLModel",
      "_view_count": null,
      "_view_module": "@jupyter-widgets/controls",
      "_view_module_version": "1.5.0",
      "_view_name": "HTMLView",
      "description": "",
      "description_tooltip": null,
      "layout": "IPY_MODEL_6237b089853146f284b150169359dd2f",
      "placeholder": "​",
      "style": "IPY_MODEL_ee4366c259d94f9eb2fcc3be2cc791bc",
      "value": ""
     }
    },
    "700702e5451e4be6ab3c5e1efa9f6b4d": {
     "model_module": "@jupyter-widgets/controls",
     "model_module_version": "1.5.0",
     "model_name": "ProgressStyleModel",
     "state": {
      "_model_module": "@jupyter-widgets/controls",
      "_model_module_version": "1.5.0",
      "_model_name": "ProgressStyleModel",
      "_view_count": null,
      "_view_module": "@jupyter-widgets/base",
      "_view_module_version": "1.2.0",
      "_view_name": "StyleView",
      "bar_color": null,
      "description_width": ""
     }
    },
    "77047551202f47c29e8d91a66977593d": {
     "model_module": "@jupyter-widgets/controls",
     "model_module_version": "1.5.0",
     "model_name": "DescriptionStyleModel",
     "state": {
      "_model_module": "@jupyter-widgets/controls",
      "_model_module_version": "1.5.0",
      "_model_name": "DescriptionStyleModel",
      "_view_count": null,
      "_view_module": "@jupyter-widgets/base",
      "_view_module_version": "1.2.0",
      "_view_name": "StyleView",
      "description_width": ""
     }
    },
    "7b6ebbcb6503448c8e25c656f75edb1a": {
     "model_module": "@jupyter-widgets/controls",
     "model_module_version": "1.5.0",
     "model_name": "DescriptionStyleModel",
     "state": {
      "_model_module": "@jupyter-widgets/controls",
      "_model_module_version": "1.5.0",
      "_model_name": "DescriptionStyleModel",
      "_view_count": null,
      "_view_module": "@jupyter-widgets/base",
      "_view_module_version": "1.2.0",
      "_view_name": "StyleView",
      "description_width": ""
     }
    },
    "823a47296eb74529a72cb2383e73ddeb": {
     "model_module": "@jupyter-widgets/controls",
     "model_module_version": "1.5.0",
     "model_name": "ProgressStyleModel",
     "state": {
      "_model_module": "@jupyter-widgets/controls",
      "_model_module_version": "1.5.0",
      "_model_name": "ProgressStyleModel",
      "_view_count": null,
      "_view_module": "@jupyter-widgets/base",
      "_view_module_version": "1.2.0",
      "_view_name": "StyleView",
      "bar_color": null,
      "description_width": ""
     }
    },
    "8630fc9011914247bdb9944c4757597d": {
     "model_module": "@jupyter-widgets/base",
     "model_module_version": "1.2.0",
     "model_name": "LayoutModel",
     "state": {
      "_model_module": "@jupyter-widgets/base",
      "_model_module_version": "1.2.0",
      "_model_name": "LayoutModel",
      "_view_count": null,
      "_view_module": "@jupyter-widgets/base",
      "_view_module_version": "1.2.0",
      "_view_name": "LayoutView",
      "align_content": null,
      "align_items": null,
      "align_self": null,
      "border": null,
      "bottom": null,
      "display": null,
      "flex": null,
      "flex_flow": null,
      "grid_area": null,
      "grid_auto_columns": null,
      "grid_auto_flow": null,
      "grid_auto_rows": null,
      "grid_column": null,
      "grid_gap": null,
      "grid_row": null,
      "grid_template_areas": null,
      "grid_template_columns": null,
      "grid_template_rows": null,
      "height": null,
      "justify_content": null,
      "justify_items": null,
      "left": null,
      "margin": null,
      "max_height": null,
      "max_width": null,
      "min_height": null,
      "min_width": null,
      "object_fit": null,
      "object_position": null,
      "order": null,
      "overflow": null,
      "overflow_x": null,
      "overflow_y": null,
      "padding": null,
      "right": null,
      "top": null,
      "visibility": null,
      "width": null
     }
    },
    "8d564d19ae064e63a81fb9364e220df9": {
     "model_module": "@jupyter-widgets/controls",
     "model_module_version": "1.5.0",
     "model_name": "HTMLModel",
     "state": {
      "_dom_classes": [],
      "_model_module": "@jupyter-widgets/controls",
      "_model_module_version": "1.5.0",
      "_model_name": "HTMLModel",
      "_view_count": null,
      "_view_module": "@jupyter-widgets/controls",
      "_view_module_version": "1.5.0",
      "_view_name": "HTMLView",
      "description": "",
      "description_tooltip": null,
      "layout": "IPY_MODEL_eb24b1d517e04041a56ce10eda631ae3",
      "placeholder": "​",
      "style": "IPY_MODEL_77047551202f47c29e8d91a66977593d",
      "value": " 4422656/? [00:00&lt;00:00, 7269064.66it/s]"
     }
    },
    "900f686dc0a54144b1847fbeb3507a51": {
     "model_module": "@jupyter-widgets/controls",
     "model_module_version": "1.5.0",
     "model_name": "HTMLModel",
     "state": {
      "_dom_classes": [],
      "_model_module": "@jupyter-widgets/controls",
      "_model_module_version": "1.5.0",
      "_model_name": "HTMLModel",
      "_view_count": null,
      "_view_module": "@jupyter-widgets/controls",
      "_view_module_version": "1.5.0",
      "_view_name": "HTMLView",
      "description": "",
      "description_tooltip": null,
      "layout": "IPY_MODEL_c942729a553843c4a85f6a586c684ad8",
      "placeholder": "​",
      "style": "IPY_MODEL_44074ef2d1cc4249aead7909b559c426",
      "value": ""
     }
    },
    "9438f90609934e1dae49f16471876e9b": {
     "model_module": "@jupyter-widgets/controls",
     "model_module_version": "1.5.0",
     "model_name": "FloatProgressModel",
     "state": {
      "_dom_classes": [],
      "_model_module": "@jupyter-widgets/controls",
      "_model_module_version": "1.5.0",
      "_model_name": "FloatProgressModel",
      "_view_count": null,
      "_view_module": "@jupyter-widgets/controls",
      "_view_module_version": "1.5.0",
      "_view_name": "ProgressView",
      "bar_style": "success",
      "description": "",
      "description_tooltip": null,
      "layout": "IPY_MODEL_a9d74020d94041b78facde65216d2a7d",
      "max": 26421880,
      "min": 0,
      "orientation": "horizontal",
      "style": "IPY_MODEL_0038b7fa14034e8aa0cfad360f6466b9",
      "value": 26421880
     }
    },
    "95324a694be04a0c8ad561dd2147c3e8": {
     "model_module": "@jupyter-widgets/base",
     "model_module_version": "1.2.0",
     "model_name": "LayoutModel",
     "state": {
      "_model_module": "@jupyter-widgets/base",
      "_model_module_version": "1.2.0",
      "_model_name": "LayoutModel",
      "_view_count": null,
      "_view_module": "@jupyter-widgets/base",
      "_view_module_version": "1.2.0",
      "_view_name": "LayoutView",
      "align_content": null,
      "align_items": null,
      "align_self": null,
      "border": null,
      "bottom": null,
      "display": null,
      "flex": null,
      "flex_flow": null,
      "grid_area": null,
      "grid_auto_columns": null,
      "grid_auto_flow": null,
      "grid_auto_rows": null,
      "grid_column": null,
      "grid_gap": null,
      "grid_row": null,
      "grid_template_areas": null,
      "grid_template_columns": null,
      "grid_template_rows": null,
      "height": null,
      "justify_content": null,
      "justify_items": null,
      "left": null,
      "margin": null,
      "max_height": null,
      "max_width": null,
      "min_height": null,
      "min_width": null,
      "object_fit": null,
      "object_position": null,
      "order": null,
      "overflow": null,
      "overflow_x": null,
      "overflow_y": null,
      "padding": null,
      "right": null,
      "top": null,
      "visibility": null,
      "width": null
     }
    },
    "9eca29647dd4451abbaf34bdf79deb9f": {
     "model_module": "@jupyter-widgets/base",
     "model_module_version": "1.2.0",
     "model_name": "LayoutModel",
     "state": {
      "_model_module": "@jupyter-widgets/base",
      "_model_module_version": "1.2.0",
      "_model_name": "LayoutModel",
      "_view_count": null,
      "_view_module": "@jupyter-widgets/base",
      "_view_module_version": "1.2.0",
      "_view_name": "LayoutView",
      "align_content": null,
      "align_items": null,
      "align_self": null,
      "border": null,
      "bottom": null,
      "display": null,
      "flex": null,
      "flex_flow": null,
      "grid_area": null,
      "grid_auto_columns": null,
      "grid_auto_flow": null,
      "grid_auto_rows": null,
      "grid_column": null,
      "grid_gap": null,
      "grid_row": null,
      "grid_template_areas": null,
      "grid_template_columns": null,
      "grid_template_rows": null,
      "height": null,
      "justify_content": null,
      "justify_items": null,
      "left": null,
      "margin": null,
      "max_height": null,
      "max_width": null,
      "min_height": null,
      "min_width": null,
      "object_fit": null,
      "object_position": null,
      "order": null,
      "overflow": null,
      "overflow_x": null,
      "overflow_y": null,
      "padding": null,
      "right": null,
      "top": null,
      "visibility": null,
      "width": null
     }
    },
    "a9d74020d94041b78facde65216d2a7d": {
     "model_module": "@jupyter-widgets/base",
     "model_module_version": "1.2.0",
     "model_name": "LayoutModel",
     "state": {
      "_model_module": "@jupyter-widgets/base",
      "_model_module_version": "1.2.0",
      "_model_name": "LayoutModel",
      "_view_count": null,
      "_view_module": "@jupyter-widgets/base",
      "_view_module_version": "1.2.0",
      "_view_name": "LayoutView",
      "align_content": null,
      "align_items": null,
      "align_self": null,
      "border": null,
      "bottom": null,
      "display": null,
      "flex": null,
      "flex_flow": null,
      "grid_area": null,
      "grid_auto_columns": null,
      "grid_auto_flow": null,
      "grid_auto_rows": null,
      "grid_column": null,
      "grid_gap": null,
      "grid_row": null,
      "grid_template_areas": null,
      "grid_template_columns": null,
      "grid_template_rows": null,
      "height": null,
      "justify_content": null,
      "justify_items": null,
      "left": null,
      "margin": null,
      "max_height": null,
      "max_width": null,
      "min_height": null,
      "min_width": null,
      "object_fit": null,
      "object_position": null,
      "order": null,
      "overflow": null,
      "overflow_x": null,
      "overflow_y": null,
      "padding": null,
      "right": null,
      "top": null,
      "visibility": null,
      "width": null
     }
    },
    "b926ab54343f4e86b28b6a5a55bef0f7": {
     "model_module": "@jupyter-widgets/base",
     "model_module_version": "1.2.0",
     "model_name": "LayoutModel",
     "state": {
      "_model_module": "@jupyter-widgets/base",
      "_model_module_version": "1.2.0",
      "_model_name": "LayoutModel",
      "_view_count": null,
      "_view_module": "@jupyter-widgets/base",
      "_view_module_version": "1.2.0",
      "_view_name": "LayoutView",
      "align_content": null,
      "align_items": null,
      "align_self": null,
      "border": null,
      "bottom": null,
      "display": null,
      "flex": null,
      "flex_flow": null,
      "grid_area": null,
      "grid_auto_columns": null,
      "grid_auto_flow": null,
      "grid_auto_rows": null,
      "grid_column": null,
      "grid_gap": null,
      "grid_row": null,
      "grid_template_areas": null,
      "grid_template_columns": null,
      "grid_template_rows": null,
      "height": null,
      "justify_content": null,
      "justify_items": null,
      "left": null,
      "margin": null,
      "max_height": null,
      "max_width": null,
      "min_height": null,
      "min_width": null,
      "object_fit": null,
      "object_position": null,
      "order": null,
      "overflow": null,
      "overflow_x": null,
      "overflow_y": null,
      "padding": null,
      "right": null,
      "top": null,
      "visibility": null,
      "width": null
     }
    },
    "bd5a28c32dbb47c983044cf6f92fffd2": {
     "model_module": "@jupyter-widgets/base",
     "model_module_version": "1.2.0",
     "model_name": "LayoutModel",
     "state": {
      "_model_module": "@jupyter-widgets/base",
      "_model_module_version": "1.2.0",
      "_model_name": "LayoutModel",
      "_view_count": null,
      "_view_module": "@jupyter-widgets/base",
      "_view_module_version": "1.2.0",
      "_view_name": "LayoutView",
      "align_content": null,
      "align_items": null,
      "align_self": null,
      "border": null,
      "bottom": null,
      "display": null,
      "flex": null,
      "flex_flow": null,
      "grid_area": null,
      "grid_auto_columns": null,
      "grid_auto_flow": null,
      "grid_auto_rows": null,
      "grid_column": null,
      "grid_gap": null,
      "grid_row": null,
      "grid_template_areas": null,
      "grid_template_columns": null,
      "grid_template_rows": null,
      "height": null,
      "justify_content": null,
      "justify_items": null,
      "left": null,
      "margin": null,
      "max_height": null,
      "max_width": null,
      "min_height": null,
      "min_width": null,
      "object_fit": null,
      "object_position": null,
      "order": null,
      "overflow": null,
      "overflow_x": null,
      "overflow_y": null,
      "padding": null,
      "right": null,
      "top": null,
      "visibility": null,
      "width": null
     }
    },
    "c942729a553843c4a85f6a586c684ad8": {
     "model_module": "@jupyter-widgets/base",
     "model_module_version": "1.2.0",
     "model_name": "LayoutModel",
     "state": {
      "_model_module": "@jupyter-widgets/base",
      "_model_module_version": "1.2.0",
      "_model_name": "LayoutModel",
      "_view_count": null,
      "_view_module": "@jupyter-widgets/base",
      "_view_module_version": "1.2.0",
      "_view_name": "LayoutView",
      "align_content": null,
      "align_items": null,
      "align_self": null,
      "border": null,
      "bottom": null,
      "display": null,
      "flex": null,
      "flex_flow": null,
      "grid_area": null,
      "grid_auto_columns": null,
      "grid_auto_flow": null,
      "grid_auto_rows": null,
      "grid_column": null,
      "grid_gap": null,
      "grid_row": null,
      "grid_template_areas": null,
      "grid_template_columns": null,
      "grid_template_rows": null,
      "height": null,
      "justify_content": null,
      "justify_items": null,
      "left": null,
      "margin": null,
      "max_height": null,
      "max_width": null,
      "min_height": null,
      "min_width": null,
      "object_fit": null,
      "object_position": null,
      "order": null,
      "overflow": null,
      "overflow_x": null,
      "overflow_y": null,
      "padding": null,
      "right": null,
      "top": null,
      "visibility": null,
      "width": null
     }
    },
    "c99280762b9e48759f0a09cf1dcadac6": {
     "model_module": "@jupyter-widgets/controls",
     "model_module_version": "1.5.0",
     "model_name": "HTMLModel",
     "state": {
      "_dom_classes": [],
      "_model_module": "@jupyter-widgets/controls",
      "_model_module_version": "1.5.0",
      "_model_name": "HTMLModel",
      "_view_count": null,
      "_view_module": "@jupyter-widgets/controls",
      "_view_module_version": "1.5.0",
      "_view_name": "HTMLView",
      "description": "",
      "description_tooltip": null,
      "layout": "IPY_MODEL_ecf276d39b634b1b80f0a7ea1c868f3a",
      "placeholder": "​",
      "style": "IPY_MODEL_7b6ebbcb6503448c8e25c656f75edb1a",
      "value": " 26422272/? [00:01&lt;00:00, 28325355.61it/s]"
     }
    },
    "cc0fad87ac3244d4a91b86904b3a1c78": {
     "model_module": "@jupyter-widgets/base",
     "model_module_version": "1.2.0",
     "model_name": "LayoutModel",
     "state": {
      "_model_module": "@jupyter-widgets/base",
      "_model_module_version": "1.2.0",
      "_model_name": "LayoutModel",
      "_view_count": null,
      "_view_module": "@jupyter-widgets/base",
      "_view_module_version": "1.2.0",
      "_view_name": "LayoutView",
      "align_content": null,
      "align_items": null,
      "align_self": null,
      "border": null,
      "bottom": null,
      "display": null,
      "flex": null,
      "flex_flow": null,
      "grid_area": null,
      "grid_auto_columns": null,
      "grid_auto_flow": null,
      "grid_auto_rows": null,
      "grid_column": null,
      "grid_gap": null,
      "grid_row": null,
      "grid_template_areas": null,
      "grid_template_columns": null,
      "grid_template_rows": null,
      "height": null,
      "justify_content": null,
      "justify_items": null,
      "left": null,
      "margin": null,
      "max_height": null,
      "max_width": null,
      "min_height": null,
      "min_width": null,
      "object_fit": null,
      "object_position": null,
      "order": null,
      "overflow": null,
      "overflow_x": null,
      "overflow_y": null,
      "padding": null,
      "right": null,
      "top": null,
      "visibility": null,
      "width": null
     }
    },
    "cda1ad2e0ee0439e9727f24e2aa41cf4": {
     "model_module": "@jupyter-widgets/controls",
     "model_module_version": "1.5.0",
     "model_name": "DescriptionStyleModel",
     "state": {
      "_model_module": "@jupyter-widgets/controls",
      "_model_module_version": "1.5.0",
      "_model_name": "DescriptionStyleModel",
      "_view_count": null,
      "_view_module": "@jupyter-widgets/base",
      "_view_module_version": "1.2.0",
      "_view_name": "StyleView",
      "description_width": ""
     }
    },
    "dbcc77fb44174a56a7ea792b002a83dc": {
     "model_module": "@jupyter-widgets/base",
     "model_module_version": "1.2.0",
     "model_name": "LayoutModel",
     "state": {
      "_model_module": "@jupyter-widgets/base",
      "_model_module_version": "1.2.0",
      "_model_name": "LayoutModel",
      "_view_count": null,
      "_view_module": "@jupyter-widgets/base",
      "_view_module_version": "1.2.0",
      "_view_name": "LayoutView",
      "align_content": null,
      "align_items": null,
      "align_self": null,
      "border": null,
      "bottom": null,
      "display": null,
      "flex": null,
      "flex_flow": null,
      "grid_area": null,
      "grid_auto_columns": null,
      "grid_auto_flow": null,
      "grid_auto_rows": null,
      "grid_column": null,
      "grid_gap": null,
      "grid_row": null,
      "grid_template_areas": null,
      "grid_template_columns": null,
      "grid_template_rows": null,
      "height": null,
      "justify_content": null,
      "justify_items": null,
      "left": null,
      "margin": null,
      "max_height": null,
      "max_width": null,
      "min_height": null,
      "min_width": null,
      "object_fit": null,
      "object_position": null,
      "order": null,
      "overflow": null,
      "overflow_x": null,
      "overflow_y": null,
      "padding": null,
      "right": null,
      "top": null,
      "visibility": null,
      "width": null
     }
    },
    "dffbb0f32a8d492e955f655898bd8fea": {
     "model_module": "@jupyter-widgets/base",
     "model_module_version": "1.2.0",
     "model_name": "LayoutModel",
     "state": {
      "_model_module": "@jupyter-widgets/base",
      "_model_module_version": "1.2.0",
      "_model_name": "LayoutModel",
      "_view_count": null,
      "_view_module": "@jupyter-widgets/base",
      "_view_module_version": "1.2.0",
      "_view_name": "LayoutView",
      "align_content": null,
      "align_items": null,
      "align_self": null,
      "border": null,
      "bottom": null,
      "display": null,
      "flex": null,
      "flex_flow": null,
      "grid_area": null,
      "grid_auto_columns": null,
      "grid_auto_flow": null,
      "grid_auto_rows": null,
      "grid_column": null,
      "grid_gap": null,
      "grid_row": null,
      "grid_template_areas": null,
      "grid_template_columns": null,
      "grid_template_rows": null,
      "height": null,
      "justify_content": null,
      "justify_items": null,
      "left": null,
      "margin": null,
      "max_height": null,
      "max_width": null,
      "min_height": null,
      "min_width": null,
      "object_fit": null,
      "object_position": null,
      "order": null,
      "overflow": null,
      "overflow_x": null,
      "overflow_y": null,
      "padding": null,
      "right": null,
      "top": null,
      "visibility": null,
      "width": null
     }
    },
    "e00f57957e8c4cf49d79a0dc07599c4a": {
     "model_module": "@jupyter-widgets/controls",
     "model_module_version": "1.5.0",
     "model_name": "HTMLModel",
     "state": {
      "_dom_classes": [],
      "_model_module": "@jupyter-widgets/controls",
      "_model_module_version": "1.5.0",
      "_model_name": "HTMLModel",
      "_view_count": null,
      "_view_module": "@jupyter-widgets/controls",
      "_view_module_version": "1.5.0",
      "_view_name": "HTMLView",
      "description": "",
      "description_tooltip": null,
      "layout": "IPY_MODEL_57df724edd5747f9a8583e0139eea325",
      "placeholder": "​",
      "style": "IPY_MODEL_fcc06e6dc48f4098847bf8f591fb1097",
      "value": ""
     }
    },
    "e19c65b6ada7471c804f2f444e1f9e7a": {
     "model_module": "@jupyter-widgets/controls",
     "model_module_version": "1.5.0",
     "model_name": "HBoxModel",
     "state": {
      "_dom_classes": [],
      "_model_module": "@jupyter-widgets/controls",
      "_model_module_version": "1.5.0",
      "_model_name": "HBoxModel",
      "_view_count": null,
      "_view_module": "@jupyter-widgets/controls",
      "_view_module_version": "1.5.0",
      "_view_name": "HBoxView",
      "box_style": "",
      "children": [
       "IPY_MODEL_900f686dc0a54144b1847fbeb3507a51",
       "IPY_MODEL_3b3a773b61504ec7b2f4dc2ef5dece8d",
       "IPY_MODEL_3e44f52ca4014969ba4c1207994ab4d1"
      ],
      "layout": "IPY_MODEL_dffbb0f32a8d492e955f655898bd8fea"
     }
    },
    "e80377f592884d788164a1578b67cecf": {
     "model_module": "@jupyter-widgets/controls",
     "model_module_version": "1.5.0",
     "model_name": "HBoxModel",
     "state": {
      "_dom_classes": [],
      "_model_module": "@jupyter-widgets/controls",
      "_model_module_version": "1.5.0",
      "_model_name": "HBoxModel",
      "_view_count": null,
      "_view_module": "@jupyter-widgets/controls",
      "_view_module_version": "1.5.0",
      "_view_name": "HBoxView",
      "box_style": "",
      "children": [
       "IPY_MODEL_e00f57957e8c4cf49d79a0dc07599c4a",
       "IPY_MODEL_9438f90609934e1dae49f16471876e9b",
       "IPY_MODEL_c99280762b9e48759f0a09cf1dcadac6"
      ],
      "layout": "IPY_MODEL_bd5a28c32dbb47c983044cf6f92fffd2"
     }
    },
    "eb24b1d517e04041a56ce10eda631ae3": {
     "model_module": "@jupyter-widgets/base",
     "model_module_version": "1.2.0",
     "model_name": "LayoutModel",
     "state": {
      "_model_module": "@jupyter-widgets/base",
      "_model_module_version": "1.2.0",
      "_model_name": "LayoutModel",
      "_view_count": null,
      "_view_module": "@jupyter-widgets/base",
      "_view_module_version": "1.2.0",
      "_view_name": "LayoutView",
      "align_content": null,
      "align_items": null,
      "align_self": null,
      "border": null,
      "bottom": null,
      "display": null,
      "flex": null,
      "flex_flow": null,
      "grid_area": null,
      "grid_auto_columns": null,
      "grid_auto_flow": null,
      "grid_auto_rows": null,
      "grid_column": null,
      "grid_gap": null,
      "grid_row": null,
      "grid_template_areas": null,
      "grid_template_columns": null,
      "grid_template_rows": null,
      "height": null,
      "justify_content": null,
      "justify_items": null,
      "left": null,
      "margin": null,
      "max_height": null,
      "max_width": null,
      "min_height": null,
      "min_width": null,
      "object_fit": null,
      "object_position": null,
      "order": null,
      "overflow": null,
      "overflow_x": null,
      "overflow_y": null,
      "padding": null,
      "right": null,
      "top": null,
      "visibility": null,
      "width": null
     }
    },
    "ecf276d39b634b1b80f0a7ea1c868f3a": {
     "model_module": "@jupyter-widgets/base",
     "model_module_version": "1.2.0",
     "model_name": "LayoutModel",
     "state": {
      "_model_module": "@jupyter-widgets/base",
      "_model_module_version": "1.2.0",
      "_model_name": "LayoutModel",
      "_view_count": null,
      "_view_module": "@jupyter-widgets/base",
      "_view_module_version": "1.2.0",
      "_view_name": "LayoutView",
      "align_content": null,
      "align_items": null,
      "align_self": null,
      "border": null,
      "bottom": null,
      "display": null,
      "flex": null,
      "flex_flow": null,
      "grid_area": null,
      "grid_auto_columns": null,
      "grid_auto_flow": null,
      "grid_auto_rows": null,
      "grid_column": null,
      "grid_gap": null,
      "grid_row": null,
      "grid_template_areas": null,
      "grid_template_columns": null,
      "grid_template_rows": null,
      "height": null,
      "justify_content": null,
      "justify_items": null,
      "left": null,
      "margin": null,
      "max_height": null,
      "max_width": null,
      "min_height": null,
      "min_width": null,
      "object_fit": null,
      "object_position": null,
      "order": null,
      "overflow": null,
      "overflow_x": null,
      "overflow_y": null,
      "padding": null,
      "right": null,
      "top": null,
      "visibility": null,
      "width": null
     }
    },
    "ee4366c259d94f9eb2fcc3be2cc791bc": {
     "model_module": "@jupyter-widgets/controls",
     "model_module_version": "1.5.0",
     "model_name": "DescriptionStyleModel",
     "state": {
      "_model_module": "@jupyter-widgets/controls",
      "_model_module_version": "1.5.0",
      "_model_name": "DescriptionStyleModel",
      "_view_count": null,
      "_view_module": "@jupyter-widgets/base",
      "_view_module_version": "1.2.0",
      "_view_name": "StyleView",
      "description_width": ""
     }
    },
    "fcc06e6dc48f4098847bf8f591fb1097": {
     "model_module": "@jupyter-widgets/controls",
     "model_module_version": "1.5.0",
     "model_name": "DescriptionStyleModel",
     "state": {
      "_model_module": "@jupyter-widgets/controls",
      "_model_module_version": "1.5.0",
      "_model_name": "DescriptionStyleModel",
      "_view_count": null,
      "_view_module": "@jupyter-widgets/base",
      "_view_module_version": "1.2.0",
      "_view_name": "StyleView",
      "description_width": ""
     }
    },
    "fec9fe165587436c88fbdaf146ef4e99": {
     "model_module": "@jupyter-widgets/controls",
     "model_module_version": "1.5.0",
     "model_name": "HTMLModel",
     "state": {
      "_dom_classes": [],
      "_model_module": "@jupyter-widgets/controls",
      "_model_module_version": "1.5.0",
      "_model_name": "HTMLModel",
      "_view_count": null,
      "_view_module": "@jupyter-widgets/controls",
      "_view_module_version": "1.5.0",
      "_view_name": "HTMLView",
      "description": "",
      "description_tooltip": null,
      "layout": "IPY_MODEL_dbcc77fb44174a56a7ea792b002a83dc",
      "placeholder": "​",
      "style": "IPY_MODEL_69a8ae81999f4a5685467f56b73167dc",
      "value": " 29696/? [00:00&lt;00:00, 316552.85it/s]"
     }
    }
   }
  }
 },
 "nbformat": 4,
 "nbformat_minor": 5
}
