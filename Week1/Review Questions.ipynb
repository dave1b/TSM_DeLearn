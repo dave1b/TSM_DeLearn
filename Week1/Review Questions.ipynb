{
 "cells": [
  {
   "cell_type": "markdown",
   "source": [
    "## Exercise 7 Review Questions"
   ],
   "metadata": {
    "collapsed": false
   },
   "id": "d8a9d177d2cffbf9"
  },
  {
   "cell_type": "markdown",
   "source": [
    "1) Supervised vs. unsupervised systems\n",
    "\n",
    "Of the following examples, which one would you address using a supervised or an unsupervised\n",
    "learning algorithm ? Give some explanations for your answers.\n",
    "\n",
    "a) Given email labeled as spam/not spam, learn a spam filter.\n",
    " -> supervised\n",
    " \n",
    "b) Given a set of news articles found on the web, group them into sets of related articles.\n",
    "-> unsupervised\n",
    "\n",
    "c) Given a database of customer data, automatically discover market segments and group\n",
    "customers into different market segments.\n",
    "-> unsupervised\n",
    "\n",
    "d) Given a dataset of patients diagnosed as either having glaucoma or not, learn to classify\n",
    "new patients as having glaucoma or not.\n",
    "-> supervised\n",
    "\n",
    "\n",
    "\n",
    "\n",
    "\n",
    "\n",
    "\n",
    "\n",
    "\n",
    "\n",
    "\n",
    "\n",
    "\n",
    "\n",
    "\n",
    "\n"
   ],
   "metadata": {
    "collapsed": false
   },
   "id": "be9d33ab9a3dcc22"
  },
  {
   "cell_type": "markdown",
   "source": [
    "2) Classification vs. regression systems\n",
    "\n",
    " \n",
    "Can we transform a regression problem into a classification problem ? What would be the\n",
    "benefits of doing so?\n",
    "-> It is possible. We creat categories which include specific ranges of the numeric values.\n",
    "-> A benefit would be that the output is easier to interpret in categorical form."
   ],
   "metadata": {
    "collapsed": false
   },
   "id": "2ccf351d504b340d"
  },
  {
   "cell_type": "markdown",
   "source": [
    "3) Numpy arrays\n",
    "\n",
    "a) What are the main differences between a Python list and a numpy array ?\n",
    "-> Numpy arrays can contain elements of a single data type, while Python lists can contain elements of different data types.\n",
    "\n",
    "b) Can we mix different types of data in a numpy array ?\n",
    "-> Yes, but the items will be casted to one data type which fits all.\n",
    "\n",
    "c) Define what is the rank in a numpy array.\n",
    "-> The rank is the dimensionality\n",
    "\n",
    "d) If we load a gray-level image in a numpy array, what is the rank of this array ? Explain the\n",
    "different dimensions. Give a potential value of the shape attribute for a square images.\n",
    "-> The rank would be 2\n",
    "-> One dimension for x and one for y\n",
    "-> [10,10]\n",
    "\n",
    "e) Regarding the previous point, what would be the difference with a color image ?\n",
    "-> The rank would be 3\n",
    "-> Different values for the red, green, blue layer\n",
    "[10,10,3]\n",
    "\n",
    "\n",
    "9"
   ],
   "metadata": {
    "collapsed": false
   },
   "id": "43ad686c41af1f01"
  }
 ],
 "metadata": {
  "kernelspec": {
   "display_name": "Python 3",
   "language": "python",
   "name": "python3"
  },
  "language_info": {
   "codemirror_mode": {
    "name": "ipython",
    "version": 2
   },
   "file_extension": ".py",
   "mimetype": "text/x-python",
   "name": "python",
   "nbconvert_exporter": "python",
   "pygments_lexer": "ipython2",
   "version": "2.7.6"
  }
 },
 "nbformat": 4,
 "nbformat_minor": 5
}
